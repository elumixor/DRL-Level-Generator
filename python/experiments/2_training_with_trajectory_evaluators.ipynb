{
 "cells": [
  {
   "cell_type": "markdown",
   "source": [
    "# 2. Trajectory Rewards\n",
    "\n",
    "Here we extend the idea of using the differentiable pre-trained difficulty evaluator.\n",
    "However, now we will use a bunch of agents to sample trajectories in the generated\n",
    "environment. From the total reward of those trajectories we will then compute the\n",
    "experienced difficulty:\n",
    "\n",
    "$R_{best} = \\max_\\mathcal{T} R_\\mathcal{T}$\n",
    "\n",
    "$R_{worst} = \\min_\\mathcal{T} R_\\mathcal{T}$\n",
    "\n",
    "$\\mathcal{D}_\\mathcal{T} = \\frac{R_{best} - R_\\mathcal{T}}{R_{best} - R_{worst}}$\n",
    "\n",
    "\n",
    "We use the skill of the agents to determine how the experienced difficulties should be\n",
    "weighted.\n"
   ],
   "metadata": {
    "collapsed": false,
    "pycharm": {
     "name": "#%% md\n"
    }
   }
  },
  {
   "cell_type": "code",
   "execution_count": 1,
   "outputs": [],
   "source": [
    "import torch\n",
    "from IPython.display import display, clear_output\n",
    "from matplotlib import pyplot as plt\n",
    "from torch.optim import Adam\n",
    "\n",
    "from helpers import SimpleTRE, x2states\n",
    "from renderer import render_single_enemy\n",
    "from shared_parameters import *\n",
    "from utils import TrainUntil, MLP"
   ],
   "metadata": {
    "collapsed": false,
    "pycharm": {
     "name": "#%%\n"
    }
   }
  },
  {
   "cell_type": "markdown",
   "source": [
    "Create the actors, each with their own skill. The skill of the actor determines the\n",
    "randomness in its actions.\n",
    "\n",
    "$\\text{randomness} = 1 - \\text{skill}$\n",
    "\n",
    "We use the truncated skewed normal distribution to determine the weights of each skill.\n"
   ],
   "metadata": {
    "collapsed": false,
    "pycharm": {
     "name": "#%% md\n"
    }
   }
  },
  {
   "cell_type": "markdown",
   "source": [
    "Create an environment to evaluate the agents. We use the *jitted* version to speed up the evaluation.\n",
    "\n",
    "Now evaluate the levels with the oracle"
   ],
   "metadata": {
    "collapsed": false,
    "pycharm": {
     "name": "#%% md\n"
    }
   }
  },
  {
   "cell_type": "code",
   "execution_count": 8,
   "outputs": [],
   "source": [
    "oracle = SimpleTRE()\n",
    "\n",
    "x = np.linspace(enemy_x_min, enemy_x_max, subdivisions)\n",
    "states = x2states(x)\n",
    "\n",
    "x = torch.from_numpy(x).type(torch.float32).unsqueeze(1)\n",
    "\n",
    "difficulties = torch.from_numpy(oracle.evaluate(states)).type(torch.float32).unsqueeze(1)\n",
    "states = torch.from_numpy(states).type(torch.float32)"
   ],
   "metadata": {
    "collapsed": false,
    "pycharm": {
     "name": "#%%\n"
    }
   }
  },
  {
   "cell_type": "markdown",
   "source": [
    "Now we can fit our difficulty estimator to the estimates on the levels."
   ],
   "metadata": {
    "collapsed": false,
    "pycharm": {
     "name": "#%% md\n"
    }
   }
  },
  {
   "cell_type": "code",
   "execution_count": 9,
   "outputs": [
    {
     "name": "stdout",
     "output_type": "stream",
     "text": [
      "10000 7.970198203111067e-05\n",
      "Done after 10001 iteration(s). Loss: 0.000080\n",
      "10001 iterations to train estimator\n"
     ]
    }
   ],
   "source": [
    "evaluator = MLP(1, 1, [4, 8, 8, 4], activation=\"lrelu\")\n",
    "optim_evaluator = Adam(evaluator.parameters(), lr=0.001)\n",
    "\n",
    "with TrainUntil(1e-5, 100, 10000) as trainer:\n",
    "    while not trainer.done:\n",
    "        predicted = evaluator(x)\n",
    "\n",
    "        loss = ((predicted - difficulties) ** 2).mean()\n",
    "\n",
    "        optim_evaluator.zero_grad()\n",
    "        loss.backward()\n",
    "        optim_evaluator.step()\n",
    "\n",
    "        if (trainer.iteration + 1) % 100 == 0:\n",
    "            clear_output(wait=True)\n",
    "            print(trainer.iteration + 1, loss.item())\n",
    "\n",
    "        trainer.loss = loss\n",
    "\n",
    "print(trainer.iteration, \"iterations to train estimator\")"
   ],
   "metadata": {
    "collapsed": false,
    "pycharm": {
     "name": "#%%\n"
    }
   }
  },
  {
   "cell_type": "code",
   "execution_count": 10,
   "outputs": [
    {
     "data": {
      "text/plain": "<Figure size 432x288 with 1 Axes>",
      "image/png": "[encoded data removed]"
     },
     "metadata": {
      "needs_background": "light"
     },
     "output_type": "display_data"
    },
    {
     "data": {
      "text/plain": "<Figure size 432x288 with 1 Axes>",
      "image/png": "[encoded data removed]"
     },
     "metadata": {
      "needs_background": "light"
     },
     "output_type": "display_data"
    }
   ],
   "source": [
    "axs = plt.subplot()\n",
    "axs.plot(x.flatten().numpy(), difficulties)\n",
    "axs.set_title(\"Actual\")\n",
    "plt.show()\n",
    "\n",
    "predicted = evaluator(x)\n",
    "\n",
    "axs = plt.subplot()\n",
    "axs.plot(x.flatten().numpy(), predicted.detach().numpy())\n",
    "axs.set_title(\"Predicted\")\n",
    "plt.show()\n"
   ],
   "metadata": {
    "collapsed": false,
    "pycharm": {
     "name": "#%%\n"
    }
   }
  },
  {
   "cell_type": "markdown",
   "source": [
    "Now we can train our generator. This is exactly the same as in the previous part."
   ],
   "metadata": {
    "collapsed": false,
    "pycharm": {
     "name": "#%% md\n"
    }
   }
  },
  {
   "cell_type": "code",
   "execution_count": 11,
   "outputs": [
    {
     "name": "stdout",
     "output_type": "stream",
     "text": [
      "10000 0.0643773153424263 0.0\n",
      "Done after 10001 iteration(s). Loss: 0.034826\n",
      "10001 0.03482551872730255\n"
     ]
    }
   ],
   "source": [
    "generator = MLP(1, 1, [8, 4], activation=\"lrelu\")\n",
    "optim_generator = Adam(generator.parameters(), lr=0.005)\n",
    "\n",
    "d_in = torch.linspace(0, 1, 100).unsqueeze(1)\n",
    "\n",
    "with TrainUntil(1e-4, 100, 10000) as trainer:\n",
    "    while not trainer.done:\n",
    "        states = generator(d_in)\n",
    "\n",
    "        constrained = states.clamp(enemy_x_min, enemy_x_max)\n",
    "        constrain_loss = torch.linalg.norm(constrained - states, dim=-1).mean()\n",
    "\n",
    "        d_out = evaluator(states)\n",
    "\n",
    "        difficulty_loss = (d_in - d_out).abs().mean()\n",
    "\n",
    "        loss = difficulty_loss + constrain_loss\n",
    "\n",
    "        optim_generator.zero_grad()\n",
    "        loss.backward()\n",
    "        optim_generator.step()\n",
    "\n",
    "        if (trainer.iteration + 1) % 100 == 0:\n",
    "            clear_output(wait=True)\n",
    "            print(trainer.iteration + 1, difficulty_loss.item(), constrain_loss.item())\n",
    "\n",
    "        trainer.loss = loss\n",
    "\n",
    "print(trainer.iteration, trainer.loss.item())"
   ],
   "metadata": {
    "collapsed": false,
    "pycharm": {
     "name": "#%%\n"
    }
   }
  },
  {
   "cell_type": "code",
   "execution_count": 12,
   "outputs": [
    {
     "data": {
      "text/plain": "<Figure size 432x288 with 1 Axes>",
      "image/png": "[encoded data removed]"
     },
     "metadata": {
      "needs_background": "light"
     },
     "output_type": "display_data"
    }
   ],
   "source": [
    "d_in = torch.linspace(0, 1, 100).unsqueeze(1)\n",
    "\n",
    "with torch.no_grad():\n",
    "    states = generator(d_in)\n",
    "\n",
    "states = states.numpy()\n",
    "\n",
    "axs = plt.subplot()\n",
    "axs.plot(states, d_in)\n",
    "axs.set_xlabel(\"Enemy x\")\n",
    "axs.set_ylabel(\"Difficulty\")\n",
    "plt.show()"
   ],
   "metadata": {
    "collapsed": false,
    "pycharm": {
     "name": "#%%\n"
    }
   }
  },
  {
   "cell_type": "code",
   "execution_count": 13,
   "outputs": [
    {
     "data": {
      "text/plain": "<PIL.Image.Image image mode=RGB size=120x90 at 0x2A3C5991EE0>",
      "image/png": "[encoded data removed]"
     },
     "metadata": {},
     "output_type": "display_data"
    },
    {
     "data": {
      "text/plain": "0.0"
     },
     "metadata": {},
     "output_type": "display_data"
    },
    {
     "data": {
      "text/plain": "<PIL.Image.Image image mode=RGB size=120x90 at 0x2A3C598BD90>",
      "image/png": "[encoded data removed]"
     },
     "metadata": {},
     "output_type": "display_data"
    },
    {
     "data": {
      "text/plain": "0.1111111119389534"
     },
     "metadata": {},
     "output_type": "display_data"
    },
    {
     "data": {
      "text/plain": "<PIL.Image.Image image mode=RGB size=120x90 at 0x2A3C697EF70>",
      "image/png": "[encoded data removed]"
     },
     "metadata": {},
     "output_type": "display_data"
    },
    {
     "data": {
      "text/plain": "0.2222222238779068"
     },
     "metadata": {},
     "output_type": "display_data"
    },
    {
     "data": {
      "text/plain": "<PIL.Image.Image image mode=RGB size=120x90 at 0x2A3C68951F0>",
      "image/png": "[encoded data removed]"
     },
     "metadata": {},
     "output_type": "display_data"
    },
    {
     "data": {
      "text/plain": "0.3333333432674408"
     },
     "metadata": {},
     "output_type": "display_data"
    },
    {
     "data": {
      "text/plain": "<PIL.Image.Image image mode=RGB size=120x90 at 0x2A3C6820C40>",
      "image/png": "[encoded data removed]"
     },
     "metadata": {},
     "output_type": "display_data"
    },
    {
     "data": {
      "text/plain": "0.4444444477558136"
     },
     "metadata": {},
     "output_type": "display_data"
    },
    {
     "data": {
      "text/plain": "<PIL.Image.Image image mode=RGB size=120x90 at 0x2A3C697EEE0>",
      "image/png": "[encoded data removed]"
     },
     "metadata": {},
     "output_type": "display_data"
    },
    {
     "data": {
      "text/plain": "0.5555555820465088"
     },
     "metadata": {},
     "output_type": "display_data"
    },
    {
     "data": {
      "text/plain": "<PIL.Image.Image image mode=RGB size=120x90 at 0x2A3C65EFBE0>",
      "image/png": "[encoded data removed]"
     },
     "metadata": {},
     "output_type": "display_data"
    },
    {
     "data": {
      "text/plain": "0.6666666269302368"
     },
     "metadata": {},
     "output_type": "display_data"
    },
    {
     "data": {
      "text/plain": "<PIL.Image.Image image mode=RGB size=120x90 at 0x2A3C598BA30>",
      "image/png": "[encoded data removed]"
     },
     "metadata": {},
     "output_type": "display_data"
    },
    {
     "data": {
      "text/plain": "0.7777777910232544"
     },
     "metadata": {},
     "output_type": "display_data"
    },
    {
     "data": {
      "text/plain": "<PIL.Image.Image image mode=RGB size=120x90 at 0x2A3C6820550>",
      "image/png": "[encoded data removed]"
     },
     "metadata": {},
     "output_type": "display_data"
    },
    {
     "data": {
      "text/plain": "0.8888888955116272"
     },
     "metadata": {},
     "output_type": "display_data"
    },
    {
     "data": {
      "text/plain": "<PIL.Image.Image image mode=RGB size=120x90 at 0x2A3C68204F0>",
      "image/png": "[encoded data removed]"
     },
     "metadata": {},
     "output_type": "display_data"
    },
    {
     "data": {
      "text/plain": "1.0"
     },
     "metadata": {},
     "output_type": "display_data"
    }
   ],
   "source": [
    "d_in = torch.linspace(0, 1, 10).unsqueeze(1)\n",
    "\n",
    "with torch.no_grad():\n",
    "    enemy_xs = generator(d_in)\n",
    "\n",
    "images = [render_single_enemy(enemy_x, resolution=0.15) for enemy_x in enemy_xs]\n",
    "\n",
    "for image, d in zip(images, d_in):\n",
    "    display(image)\n",
    "    display(d.item())"
   ],
   "metadata": {
    "collapsed": false,
    "pycharm": {
     "name": "#%%\n"
    }
   }
  }
 ],
 "metadata": {
  "kernelspec": {
   "name": "python3",
   "language": "python",
   "display_name": "Python 3"
  },
  "language_info": {
   "codemirror_mode": {
    "name": "ipython",
    "version": 2
   },
   "file_extension": ".py",
   "mimetype": "text/x-python",
   "name": "python",
   "nbconvert_exporter": "python",
   "pygments_lexer": "ipython2",
   "version": "2.7.6"
  }
 },
 "nbformat": 4,
 "nbformat_minor": 0
}