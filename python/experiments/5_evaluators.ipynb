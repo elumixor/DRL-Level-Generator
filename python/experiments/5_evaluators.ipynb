{
 "cells": [
  {
   "cell_type": "markdown",
   "metadata": {
    "collapsed": true,
    "pycharm": {
     "name": "#%% md\n"
    }
   },
   "source": [
    "1. Difficulty evaluation using trajectory rewards"
   ]
  },
  {
   "cell_type": "markdown",
   "source": [
    "Visualization of the state"
   ],
   "metadata": {
    "collapsed": false,
    "pycharm": {
     "name": "#%% md\n"
    }
   }
  },
  {
   "cell_type": "code",
   "execution_count": 1,
   "outputs": [],
   "source": [
    "%load_ext autoreload\n",
    "%autoreload 2\n",
    "\n",
    "from torch.optim import Adam\n",
    "from torch.optim.lr_scheduler import ReduceLROnPlateau, CyclicLR, StepLR\n",
    "\n",
    "from copy import copy\n",
    "\n",
    "import matplotlib\n",
    "import torch\n",
    "from IPython.core.display import clear_output\n",
    "from torch.nn import LeakyReLU, functional as F\n",
    "\n",
    "from framework import TrajectoryRewardsEvaluator, QEvaluator, DQNAgent, SeededGenerator\n",
    "from pendulum import PendulumEnvironment, PendulumRenderer, PendulumState\n",
    "from pendulum.heuristic import *\n",
    "from shared_parameters import *\n",
    "from utils import mean, running_average, MLP\n",
    "from utils import save, load, set_matplotlib_colors\n",
    "\n",
    "set_matplotlib_colors(matplotlib, text_color=\"black\", label_color=\"white\")\n",
    "import matplotlib.pyplot as plt\n",
    "\n",
    "torch.set_printoptions(sci_mode=False)"
   ],
   "metadata": {
    "collapsed": false,
    "pycharm": {
     "name": "#%%\n"
    }
   }
  },
  {
   "cell_type": "code",
   "execution_count": 2,
   "outputs": [
    {
     "data": {
      "text/plain": "<PIL.Image.Image image mode=RGB size=800x600 at 0x1DE5156BA60>",
      "image/png": "[encoded data removed]"
     },
     "execution_count": 2,
     "metadata": {},
     "output_type": "execute_result"
    }
   ],
   "source": [
    "env = PendulumEnvironment(*pendulum_env_args, time_scale=5, step_reward=1.0, action_reward=-0.1, death_reward=-100.0)\n",
    "renderer = PendulumRenderer(bob_radius, connector_length, enemy_radius, enemy_y)\n",
    "\n",
    "renderer.render(env.get_starting_state(), to_image=True)\n"
   ],
   "metadata": {
    "collapsed": false,
    "pycharm": {
     "name": "#%%\n"
    }
   }
  },
  {
   "cell_type": "markdown",
   "source": [
    "### Note for all difficulty estimators\n",
    "\n",
    "Currently, we have a small embedding space (just one dimension),\n",
    "thus it's possible to pre-evaluate it directly, and then use the\n",
    "cached difficulty evaluations.\n",
    "\n",
    "Within the bigger space it's not possible, and we will have to\n",
    "come up with some clever way of caching, where we don't store the\n",
    "evaluation for every point space, but neither perform an evaluation\n",
    "each time for each point."
   ],
   "metadata": {
    "collapsed": false,
    "pycharm": {
     "name": "#%% md\n"
    }
   }
  },
  {
   "cell_type": "markdown",
   "source": [
    "### Direct difficulty estimation"
   ],
   "metadata": {
    "collapsed": false,
    "pycharm": {
     "name": "#%% md\n"
    }
   }
  },
  {
   "cell_type": "code",
   "execution_count": null,
   "outputs": [],
   "source": [
    "oracle = HeuristicPendulumEvaluator(connector_length, max_angle, enemy_radius, bob_radius)\n",
    "state = env.get_starting_state()\n",
    "difficulty = oracle(state)\n",
    "\n",
    "print(state.to_string())\n",
    "print(f\"difficulty: {difficulty.item():.3f}\")"
   ],
   "metadata": {
    "collapsed": false,
    "pycharm": {
     "name": "#%%\n"
    }
   }
  },
  {
   "cell_type": "markdown",
   "source": [
    "### Difficulty estimation using trajectory rewards"
   ],
   "metadata": {
    "collapsed": false,
    "pycharm": {
     "name": "#%% md\n"
    }
   }
  },
  {
   "cell_type": "code",
   "execution_count": null,
   "outputs": [],
   "source": [
    "skills = [1.0, 0.5, 0.0]\n",
    "weights = [0.5, 0.25, 0.25]\n",
    "agents = [HeuristicPendulumActor(enemy_radius, bob_radius, connector_length, enemy_y, skill=skill) for skill in skills]\n",
    "oracle = TrajectoryRewardsEvaluator(env, agents, weights, num_evaluations=10, max_trajectory_length=20)\n",
    "\n",
    "states = torch.vstack([env.get_starting_state() for _ in range(10)])\n",
    "oracle.evaluate(states)"
   ],
   "metadata": {
    "collapsed": false,
    "pycharm": {
     "name": "#%%\n"
    }
   }
  },
  {
   "cell_type": "markdown",
   "source": [
    "### Difficulty estimation using Q-values\n",
    "\n",
    "1. Train agents, save at time steps\n",
    "2. Use them in QEvaluator"
   ],
   "metadata": {
    "collapsed": false,
    "pycharm": {
     "name": "#%% md\n"
    }
   }
  },
  {
   "cell_type": "code",
   "execution_count": null,
   "outputs": [],
   "source": [
    "agent = DQNAgent(PendulumState.get_size(1), action_size=2, hidden=[8, 8], activation=LeakyReLU())\n",
    "total_rewards = []\n",
    "agents = []"
   ],
   "metadata": {
    "collapsed": false,
    "pycharm": {
     "name": "#%%\n"
    }
   }
  },
  {
   "cell_type": "markdown",
   "source": [
    "Run next cell to train the agent until you're satisfied. Run the cell above it to save the agent"
   ],
   "metadata": {
    "collapsed": false,
    "pycharm": {
     "name": "#%% md\n"
    }
   }
  },
  {
   "cell_type": "code",
   "execution_count": null,
   "outputs": [],
   "source": [
    "# Train the agent for N iterations\n",
    "agent.eval = False\n",
    "loss = agent.train(env, epochs=100, max_trajectory_length=20)\n",
    "agent.eval = True\n",
    "\n",
    "for _ in range(10):\n",
    "    state = env.get_starting_state()\n",
    "    total_reward = 0.0\n",
    "\n",
    "    for _ in range(20):\n",
    "        action = agent.get_action(state)\n",
    "        state, reward, done = env.transition(state, action)\n",
    "        total_reward += reward\n",
    "        if done:\n",
    "            break\n",
    "\n",
    "    total_rewards.append(total_reward)\n",
    "    if len(total_rewards) > 1000:\n",
    "        total_rewards.pop(0)\n",
    "\n",
    "clear_output(wait=True)\n",
    "print(f\"loss: {loss}. Mean total reward: {mean(total_rewards)}\")\n",
    "plt.plot(total_rewards)\n",
    "plt.plot(running_average(total_rewards))\n",
    "plt.show()"
   ],
   "metadata": {
    "collapsed": false,
    "pycharm": {
     "name": "#%%\n"
    }
   }
  },
  {
   "cell_type": "code",
   "execution_count": null,
   "outputs": [],
   "source": [
    "# Use this to append an agent\n",
    "original = agent\n",
    "agents.append(copy(agent))\n",
    "print(f\"Total of: {len(agents)} agents\")\n",
    "save(agents, \"./saved_data/saved_agents.pt\")\n",
    "\n",
    "for agent in agents:\n",
    "    print(list(agent.nn.parameters())[0].data)\n",
    "\n",
    "agent = original"
   ],
   "metadata": {
    "collapsed": false,
    "pycharm": {
     "name": "#%%\n"
    }
   }
  },
  {
   "cell_type": "markdown",
   "source": [
    "Now we have our agents, let's run the evaluator"
   ],
   "metadata": {
    "collapsed": false,
    "pycharm": {
     "name": "#%% md\n"
    }
   }
  },
  {
   "cell_type": "code",
   "execution_count": null,
   "outputs": [],
   "source": [
    "for agent in agents:\n",
    "    agent.eval = True\n",
    "\n",
    "weights = [0.1, 0.2, 0.3, 0.4]\n",
    "oracle = QEvaluator(env, 2, agents, weights, num_evaluations=1, max_trajectory_length=20)\n",
    "oracle(env.get_starting_state())"
   ],
   "metadata": {
    "collapsed": false,
    "pycharm": {
     "name": "#%%\n"
    }
   }
  },
  {
   "cell_type": "markdown",
   "source": [
    "### Oracles comparison"
   ],
   "metadata": {
    "collapsed": false,
    "pycharm": {
     "name": "#%% md\n"
    }
   }
  },
  {
   "cell_type": "code",
   "execution_count": 4,
   "outputs": [
    {
     "name": "stdout",
     "output_type": "stream",
     "text": [
      "tensor([[-0.9580, -0.3120, -0.2828,  0.1436],\n",
      "        [-0.9184, -2.8424, -0.8167,  0.4843],\n",
      "        [-2.1922,  2.9781, -1.6350, -5.8470],\n",
      "        [-1.6450,  6.3687,  1.9850,  5.0101],\n",
      "        [-0.1670,  1.4488, -3.5070,  0.1933],\n",
      "        [ 0.3482,  0.4908, -0.0913, -0.1252],\n",
      "        [ 1.1303, -7.1345,  0.6171, -5.6739],\n",
      "        [-1.2939, -6.1549,  0.3190,  3.3671]])\n",
      "Difficulty evaluation of the same random state:\n",
      "State: tensor([0.1210, 0.0500, 0.0000, 0.3610])\n",
      "\n",
      "Heuristic: 0.2373\n",
      "Trajectory Rewards: 0.3163\n",
      "Q-Evaluator: 0.4287\n",
      "\n",
      "Difficulty of several states:\n",
      "H: tensor([0.5076, 0.6527, 0.0598, 0.6119, 0.4911])\n",
      "R: tensor([0.3157, 0.9621, 0.6478, 0.8683, 0.7144])\n",
      "Q: tensor([0.0237, 0.0398, 0.0310, 0.1224, 0.0365])\n",
      "\n",
      "Difficulty of the whole range\n",
      "Evaluating 1/26...\n",
      "Evaluating 2/26...\n",
      "Evaluating 3/26...\n",
      "Evaluating 4/26...\n",
      "Evaluating 5/26...\n",
      "Evaluating 6/26...\n",
      "Evaluating 7/26...\n",
      "Evaluating 8/26...\n",
      "Evaluating 9/26...\n",
      "Evaluating 10/26...\n",
      "Evaluating 11/26...\n",
      "Evaluating 12/26...\n",
      "Evaluating 13/26...\n",
      "Evaluating 14/26...\n",
      "Evaluating 15/26...\n",
      "Evaluating 16/26...\n",
      "Evaluating 17/26...\n",
      "Evaluating 18/26...\n",
      "Evaluating 19/26...\n",
      "Evaluating 20/26...\n",
      "Evaluating 21/26...\n",
      "Evaluating 22/26...\n",
      "Evaluating 23/26...\n",
      "Evaluating 24/26...\n",
      "Evaluating 25/26...\n",
      "Evaluating 26/26...\n",
      "Done\n"
     ]
    }
   ],
   "source": [
    "# Heuristic evaluator\n",
    "oracle_h = HeuristicPendulumEvaluator(connector_length, max_angle, enemy_radius, bob_radius)\n",
    "\n",
    "# Trajectory rewards evaluator\n",
    "skills = [1.0, 0.5, 0.0]\n",
    "weights = [0.5, 0.25, 0.25]\n",
    "agents = [HeuristicPendulumActor(enemy_radius, bob_radius, connector_length, enemy_y, skill=skill) for skill in skills]\n",
    "oracle_r = TrajectoryRewardsEvaluator(env, agents, weights, num_evaluations=10, max_trajectory_length=20)\n",
    "\n",
    "# Q-Evaluator\n",
    "agents = load(\"./saved_data/saved_agents.pt\")\n",
    "for agent in agents:\n",
    "    agent.eval = True\n",
    "    print(list(agent.nn.parameters())[0].data)\n",
    "\n",
    "weights = [1.0]\n",
    "oracle_q = QEvaluator(env, agents, weights, num_evaluations=1, max_trajectory_length=20)\n",
    "\n",
    "print(\"Difficulty evaluation of the same random state:\")\n",
    "\n",
    "state = env.get_starting_state()\n",
    "print(f\"State: {state}\")\n",
    "print()\n",
    "\n",
    "print(f\"Heuristic: {oracle_h(state).item():.4f}\")\n",
    "print(f\"Trajectory Rewards: {oracle_r(state).item():.4f}\")\n",
    "print(f\"Q-Evaluator: {oracle_q(state).item():.4f}\")\n",
    "\n",
    "print()\n",
    "print(\"Difficulty of several states:\")\n",
    "\n",
    "states = torch.vstack([env.get_starting_state() for _ in range(5)])\n",
    "print(f\"H: {oracle_h(states)}\")\n",
    "print(f\"R: {oracle_r(states)}\")\n",
    "print(f\"Q: {oracle_q(states)}\")\n",
    "\n",
    "print()\n",
    "print(\"Difficulty of the whole range\")\n",
    "\n",
    "states = []\n",
    "evaluations_h = []\n",
    "evaluations_r = []\n",
    "evaluations_q = []\n",
    "state = env.get_starting_state()\n",
    "num_states = 26\n",
    "for i, x in enumerate(torch.linspace(enemy_x_min, enemy_x_max, num_states)):\n",
    "    print(f\"Evaluating {i + 1}/{num_states}...\")\n",
    "    s = state.clone()\n",
    "    s.enemy_x = x\n",
    "    states.append(x)\n",
    "\n",
    "    evaluations_h.append(oracle_h(s))\n",
    "    evaluations_r.append(oracle_r(s))\n",
    "    evaluations_q.append(oracle_q(s))\n",
    "\n",
    "print(\"Done\")"
   ],
   "metadata": {
    "collapsed": false,
    "pycharm": {
     "name": "#%%\n"
    }
   }
  },
  {
   "cell_type": "code",
   "execution_count": null,
   "outputs": [],
   "source": [
    "plt.plot(states, evaluations_h)\n",
    "plt.plot(states, evaluations_r)\n",
    "plt.plot(states, evaluations_q)\n",
    "plt.legend([\"Heuristic\", \"Rewards\", \"Q\"])\n",
    "plt.tight_layout()\n",
    "plt.show()"
   ],
   "metadata": {
    "collapsed": false,
    "pycharm": {
     "name": "#%%\n"
    }
   }
  },
  {
   "cell_type": "markdown",
   "source": [
    "### Training evaluator\n",
    "\n",
    "...using the ***Trajectory rewards*** oracle"
   ],
   "metadata": {
    "collapsed": false,
    "pycharm": {
     "name": "#%% md\n"
    }
   }
  },
  {
   "cell_type": "code",
   "execution_count": 6,
   "outputs": [
    {
     "data": {
      "text/plain": "<Figure size 432x288 with 1 Axes>",
      "image/png": "[encoded data removed]"
     },
     "metadata": {
      "needs_background": "dark"
     },
     "output_type": "display_data"
    }
   ],
   "source": [
    "# Create our NN evaluator\n",
    "embedding_size = 1\n",
    "evaluator = MLP(in_size=embedding_size, out_size=1, hidden=[8, 8], activation=LeakyReLU())\n",
    "optim = Adam(evaluator.parameters(), lr=0.01)\n",
    "scheduler = StepLR(optim, 10000, 0.1)\n",
    "states_ = torch.tensor(states).unsqueeze(-1)\n",
    "\n",
    "# Example difficulty\n",
    "with torch.no_grad():\n",
    "    difficulty_initial = evaluator(states_)\n",
    "plt.plot(states, difficulty_initial)\n",
    "plt.legend([\"Initial evaluation\"])\n",
    "plt.show()"
   ],
   "metadata": {
    "collapsed": false,
    "pycharm": {
     "name": "#%%\n"
    }
   }
  },
  {
   "cell_type": "code",
   "execution_count": 137,
   "outputs": [
    {
     "name": "stdout",
     "output_type": "stream",
     "text": [
      "It. 9990 loss: 0.00051 0.01\n",
      "saved to ./saved_data/evaluator.plt\n"
     ]
    }
   ],
   "source": [
    "# Training loop\n",
    "i = 0\n",
    "loss = float(\"inf\")\n",
    "real = torch.stack(evaluations_r).unsqueeze(-1)\n",
    "while loss > 0.0001 and i < 10000:\n",
    "    indices = torch.randperm(states_.shape[0])[:15]\n",
    "    sample = states_[indices]\n",
    "\n",
    "    d_predicted = evaluator(sample)\n",
    "    d_real = real[indices]\n",
    "\n",
    "    loss = F.mse_loss(d_real, d_predicted)\n",
    "\n",
    "    optim.zero_grad()\n",
    "    loss.backward()\n",
    "    optim.step()\n",
    "    scheduler.step()\n",
    "\n",
    "    if i % 10 == 0:\n",
    "        clear_output(wait=True)\n",
    "        print(f\"It. {i} loss: {loss.item():.5f} {scheduler.get_last_lr()[0]}\")\n",
    "\n",
    "    i += 1\n",
    "\n",
    "save(evaluator, \"./saved_data/evaluator.plt\")\n",
    "print(\"saved to ./saved_data/evaluator.plt\")"
   ],
   "metadata": {
    "collapsed": false,
    "pycharm": {
     "name": "#%%\n"
    }
   }
  },
  {
   "cell_type": "code",
   "execution_count": 7,
   "outputs": [
    {
     "data": {
      "text/plain": "<Figure size 432x288 with 1 Axes>",
      "image/png": "[encoded data removed]"
     },
     "metadata": {
      "needs_background": "dark"
     },
     "output_type": "display_data"
    }
   ],
   "source": [
    "# Once trained we can plot the evaluation\n",
    "\n",
    "evaluator = load(\"./saved_data/evaluator.plt\")\n",
    "\n",
    "plt.plot(states, evaluations_r)\n",
    "plt.plot(states, evaluator(states_).detach())\n",
    "plt.legend([\"Oracle\", \"Evaluator\"])\n",
    "plt.tight_layout()\n",
    "plt.show()"
   ],
   "metadata": {
    "collapsed": false,
    "pycharm": {
     "name": "#%%\n"
    }
   }
  },
  {
   "cell_type": "code",
   "execution_count": 76,
   "outputs": [
    {
     "name": "stdout",
     "output_type": "stream",
     "text": [
      "It.: 5102, difficulty_loss=0.00707 offsets_loss=0.14311\n"
     ]
    },
    {
     "data": {
      "text/plain": "<Figure size 432x288 with 1 Axes>",
      "image/png": "[encoded data removed]"
     },
     "metadata": {
      "needs_background": "dark"
     },
     "output_type": "display_data"
    }
   ],
   "source": [
    "# Now we can train the generator\n",
    "state = env.get_starting_state()\n",
    "states = torch.stack([state.clone() for _ in range(100)])\n",
    "enemy_xs = torch.linspace(enemy_x_min, enemy_x_max, states.shape[0]).unsqueeze(-1)\n",
    "states.enemy_x = enemy_xs\n",
    "\n",
    "\n",
    "bounds = torch.tensor([[enemy_x_min, enemy_x_max]])\n",
    "generator = SeededGenerator(bounds, hidden=[8, 16, 16, 8], activation=LeakyReLU(), optimizer_class=Adam, lr=0.01, offsets_weight=0.25)\n",
    "\n",
    "evaluator = load(\"./saved_data/evaluator.plt\")\n",
    "\n",
    "num_difficulties = 100\n",
    "num_seeds = 100\n",
    "\n",
    "# Our dataset of [difficulty, seed] inputs\n",
    "difficulties = torch.linspace(0, 1, num_difficulties)\n",
    "seeds = torch.linspace(enemy_x_min, enemy_x_max, num_seeds)\n",
    "dataset = torch.cartesian_prod(difficulties, seeds)\n",
    "\n",
    "# For rendering\n",
    "r_difficulties = torch.linspace(0, 1, 10)\n",
    "r_seeds = torch.linspace(enemy_x_min, enemy_x_max, 10)\n",
    "r_dataset = torch.cartesian_prod(r_difficulties, r_seeds)\n",
    "\n",
    "iteration = 0\n",
    "loss_evaluator = float(\"inf\")\n",
    "\n",
    "state = env.get_starting_state()\n",
    "\n",
    "def iterate(verbose=False):\n",
    "    global dataset, iteration\n",
    "\n",
    "    # Sample from the dataset\n",
    "    indices = torch.randperm(dataset.shape[0])[:1000]\n",
    "    sample = dataset[indices]\n",
    "\n",
    "    # Generate levels\n",
    "    generated_levels = generator(sample)\n",
    "\n",
    "    d_out = evaluator(generated_levels)\n",
    "\n",
    "    # Train the generator on the evaluated difficulty\n",
    "    loss_difficulty, loss_offsets = generator.update(d_out)\n",
    "\n",
    "    iteration += 1\n",
    "\n",
    "    if verbose:\n",
    "        clear_output(wait=True)\n",
    "        print(f\"It.: {iteration}, \"\n",
    "              f\"difficulty_loss={loss_difficulty.item():.5f} \"\n",
    "              f\"offsets_loss={loss_offsets.item():.5f}\")\n",
    "\n",
    "        generated_states = generator(r_dataset).detach()\n",
    "\n",
    "        d_out = evaluator(generated_states).detach()\n",
    "\n",
    "        collected = torch.hstack((r_dataset, generated_states, d_out))\n",
    "\n",
    "        fix, ax = plt.subplots()\n",
    "\n",
    "        for i in range(r_seeds.shape[0]):\n",
    "            selected = collected[i::r_difficulties.shape[0], :]\n",
    "            ds, xs = selected[:, 0], selected[:, 2]\n",
    "            ax.plot(xs, ds)\n",
    "\n",
    "        ax.plot(r_seeds, evaluator(r_seeds.unsqueeze(-1)).detach())\n",
    "\n",
    "        plt.tight_layout()\n",
    "\n",
    "        plt.show()\n",
    "\n",
    "\n",
    "iterate()\n",
    "\n",
    "try:\n",
    "    for _ in range(100):\n",
    "        for _ in range(50):\n",
    "            iterate()\n",
    "        iterate(True)\n",
    "except KeyboardInterrupt:\n",
    "    pass\n",
    "\n",
    "iterate(True)"
   ],
   "metadata": {
    "collapsed": false,
    "pycharm": {
     "name": "#%%\n"
    }
   }
  },
  {
   "cell_type": "code",
   "execution_count": 68,
   "outputs": [
    {
     "name": "stdout",
     "output_type": "stream",
     "text": [
      "It.: 15304, difficulty_loss=0.09935 offsets_loss=0.10062\n"
     ]
    },
    {
     "data": {
      "text/plain": "<Figure size 432x288 with 1 Axes>",
      "image/png": "[encoded data removed]"
     },
     "metadata": {
      "needs_background": "dark"
     },
     "output_type": "display_data"
    }
   ],
   "source": [
    "try:\n",
    "    for _ in range(100):\n",
    "        for _ in range(50):\n",
    "            iterate()\n",
    "        iterate(True)\n",
    "except KeyboardInterrupt:\n",
    "    pass\n",
    "\n",
    "iterate(True)"
   ],
   "metadata": {
    "collapsed": false,
    "pycharm": {
     "name": "#%%\n"
    }
   }
  }
 ],
 "metadata": {
  "kernelspec": {
   "display_name": "Python 3",
   "language": "python",
   "name": "python3"
  },
  "language_info": {
   "codemirror_mode": {
    "name": "ipython",
    "version": 2
   },
   "file_extension": ".py",
   "mimetype": "text/x-python",
   "name": "python",
   "nbconvert_exporter": "python",
   "pygments_lexer": "ipython2",
   "version": "2.7.6"
  }
 },
 "nbformat": 4,
 "nbformat_minor": 0
}