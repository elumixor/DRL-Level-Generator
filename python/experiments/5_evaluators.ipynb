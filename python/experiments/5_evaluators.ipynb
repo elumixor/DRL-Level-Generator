{
 "cells": [
  {
   "cell_type": "markdown",
   "metadata": {
    "collapsed": true,
    "pycharm": {
     "name": "#%% md\n"
    }
   },
   "source": [
    "1. Difficulty evaluation using trajectory rewards"
   ]
  },
  {
   "cell_type": "markdown",
   "source": [
    "Visualization of the state"
   ],
   "metadata": {
    "collapsed": false,
    "pycharm": {
     "name": "#%% md\n"
    }
   }
  },
  {
   "cell_type": "code",
   "execution_count": 10,
   "outputs": [
    {
     "name": "stderr",
     "output_type": "stream",
     "text": [
      "UsageError: Line magic function `%` not found.\n"
     ]
    }
   ],
   "source": [
    "% load_ext autoreload\n",
    "% autoreload 2\n",
    "\n",
    "from copy import copy\n",
    "\n",
    "import matplotlib\n",
    "import torch\n",
    "from IPython.core.display import clear_output\n",
    "from torch.nn import LeakyReLU\n",
    "\n",
    "from framework import TrajectoryRewardsEvaluator, QEvaluator, DQNAgent\n",
    "from pendulum import PendulumEnvironment, PendulumRenderer, PendulumState\n",
    "from pendulum.heuristic import *\n",
    "from shared_parameters import *\n",
    "from utils import mean, running_average\n",
    "from utils import save, load, set_matplotlib_colors\n",
    "\n",
    "set_matplotlib_colors(matplotlib, text_color=\"black\", label_color=\"white\")\n",
    "import matplotlib.pyplot as plt\n",
    "\n",
    "torch.set_printoptions(sci_mode=False)"
   ],
   "metadata": {
    "collapsed": false,
    "pycharm": {
     "name": "#%%\n"
    }
   }
  },
  {
   "cell_type": "code",
   "execution_count": null,
   "outputs": [],
   "source": [
    "env = PendulumEnvironment(*pendulum_env_args, time_scale=5, step_reward=1.0, action_reward=-0.1, death_reward=-100.0)\n",
    "renderer = PendulumRenderer(bob_radius, connector_length, enemy_radius, enemy_y)\n",
    "\n",
    "renderer.render(env.get_starting_state(), to_image=True)\n"
   ],
   "metadata": {
    "collapsed": false,
    "pycharm": {
     "name": "#%%\n"
    }
   }
  },
  {
   "cell_type": "markdown",
   "source": [
    "### Note for all difficulty estimators\n",
    "\n",
    "Currently, we have a small embedding space (just one dimension),\n",
    "thus it's possible to pre-evaluate it directly, and then use the\n",
    "cached difficulty evaluations.\n",
    "\n",
    "Within the bigger space it's not possible, and we will have to\n",
    "come up with some clever way of caching, where we don't store the\n",
    "evaluation for every point space, but neither perform an evaluation\n",
    "each time for each point."
   ],
   "metadata": {
    "collapsed": false,
    "pycharm": {
     "name": "#%% md\n"
    }
   }
  },
  {
   "cell_type": "markdown",
   "source": [
    "### Direct difficulty estimation"
   ],
   "metadata": {
    "collapsed": false,
    "pycharm": {
     "name": "#%% md\n"
    }
   }
  },
  {
   "cell_type": "code",
   "execution_count": 8,
   "outputs": [
    {
     "name": "stdout",
     "output_type": "stream",
     "text": [
      "Pendulum(angle: 0.63, angular_speed: 0.05, vertical_position: 0.00, enemies: -0.06)\n",
      "difficulty: 0.653\n"
     ]
    }
   ],
   "source": [
    "oracle = HeuristicPendulumEvaluator(connector_length, max_angle, enemy_radius, bob_radius)\n",
    "state = env.get_starting_state()\n",
    "difficulty = oracle(state)\n",
    "\n",
    "print(state.to_string())\n",
    "print(f\"difficulty: {difficulty.item():.3f}\")"
   ],
   "metadata": {
    "collapsed": false,
    "pycharm": {
     "name": "#%%\n"
    }
   }
  },
  {
   "cell_type": "markdown",
   "source": [
    "### Difficulty estimation using trajectory rewards"
   ],
   "metadata": {
    "collapsed": false,
    "pycharm": {
     "name": "#%% md\n"
    }
   }
  },
  {
   "cell_type": "code",
   "execution_count": 9,
   "outputs": [
    {
     "data": {
      "text/plain": "tensor([0.2954, 0.0762, 0.7320, 0.9072, 0.6382, 0.8839, 0.1979, 0.8172, 0.7571,\n        0.8782])"
     },
     "execution_count": 9,
     "metadata": {},
     "output_type": "execute_result"
    }
   ],
   "source": [
    "skills = [1.0, 0.5, 0.0]\n",
    "weights = [0.5, 0.25, 0.25]\n",
    "agents = [HeuristicPendulumActor(enemy_radius, bob_radius, connector_length, enemy_y, skill=skill) for skill in skills]\n",
    "oracle = TrajectoryRewardsEvaluator(env, agents, weights, num_evaluations=10, max_trajectory_length=20)\n",
    "\n",
    "states = torch.vstack([env.get_starting_state() for _ in range(10)])\n",
    "oracle.evaluate(states)"
   ],
   "metadata": {
    "collapsed": false,
    "pycharm": {
     "name": "#%%\n"
    }
   }
  },
  {
   "cell_type": "markdown",
   "source": [
    "### Difficulty estimation using Q-values\n",
    "\n",
    "1. Train agents, save at time steps\n",
    "2. Use them in QEvaluator"
   ],
   "metadata": {
    "collapsed": false,
    "pycharm": {
     "name": "#%% md\n"
    }
   }
  },
  {
   "cell_type": "code",
   "execution_count": 10,
   "outputs": [
    {
     "name": "stdout",
     "output_type": "stream",
     "text": [
      "Loaded: [<framework.agents.dqn_agent.DQNAgent object at 0x000001CFAB8AC550>, <framework.agents.dqn_agent.DQNAgent object at 0x000001CFAB8A80A0>, <framework.agents.dqn_agent.DQNAgent object at 0x000001CFAB8A8490>, <framework.agents.dqn_agent.DQNAgent object at 0x000001CFAB8A8790>]\n"
     ]
    }
   ],
   "source": [
    "# Try to load saved agents\n",
    "agents = load(\"./saved_data/saved_agents.pt\", none_on_error=True)\n",
    "print(f\"Loaded: {agents}\")\n",
    "\n",
    "agent = DQNAgent(PendulumState.get_size(1), action_size=2, hidden=[8, 8], activation=LeakyReLU())\n",
    "if agents is None:\n",
    "    agents = []\n",
    "else:\n",
    "    # Load the latest agent\n",
    "    for p1, pt1, p2, pt2 in zip(agents[-1].nn.parameters(), agents[-1].target_nn.parameters(),\n",
    "                                agent.nn.parameters(), agent.target_nn.parameters()):\n",
    "        p2.data = p1.data\n",
    "        pt2.data = pt1.data\n",
    "\n",
    "total_rewards = []"
   ],
   "metadata": {
    "collapsed": false,
    "pycharm": {
     "name": "#%%\n"
    }
   }
  },
  {
   "cell_type": "markdown",
   "source": [
    "Run next cell to train the agent until you're satisfied. Run the cell above it to save the agent"
   ],
   "metadata": {
    "collapsed": false,
    "pycharm": {
     "name": "#%% md\n"
    }
   }
  },
  {
   "cell_type": "code",
   "execution_count": 232,
   "outputs": [
    {
     "name": "stdout",
     "output_type": "stream",
     "text": [
      "loss: 90.6985855102539. Mean total reward: -2.816200000000006\n"
     ]
    },
    {
     "data": {
      "text/plain": "<Figure size 432x288 with 1 Axes>",
      "image/png": "[encoded data removed]"
     },
     "metadata": {
      "needs_background": "light"
     },
     "output_type": "display_data"
    }
   ],
   "source": [
    "# Train the agent for N iterations\n",
    "agent.eval = False\n",
    "loss = agent.train(env, epochs=100, max_trajectory_length=20)\n",
    "agent.eval = True\n",
    "\n",
    "for _ in range(10):\n",
    "    state = env.get_starting_state()\n",
    "    total_reward = 0.0\n",
    "\n",
    "    for _ in range(20):\n",
    "        action = agent.get_action(state)\n",
    "        state, reward, done = env.transition(state, action)\n",
    "        total_reward += reward\n",
    "        if done:\n",
    "            break\n",
    "\n",
    "    total_rewards.append(total_reward)\n",
    "    if len(total_rewards) > 1000:\n",
    "        total_rewards.pop(0)\n",
    "\n",
    "clear_output(wait=True)\n",
    "print(f\"loss: {loss}. Mean total reward: {mean(total_rewards)}\")\n",
    "plt.plot(total_rewards)\n",
    "plt.plot(running_average(total_rewards))\n",
    "plt.show()"
   ],
   "metadata": {
    "collapsed": false,
    "pycharm": {
     "name": "#%%\n"
    }
   }
  },
  {
   "cell_type": "code",
   "execution_count": 233,
   "outputs": [
    {
     "name": "stdout",
     "output_type": "stream",
     "text": [
      "Total of: 4 agents\n"
     ]
    }
   ],
   "source": [
    "# Use this to append an agent\n",
    "agents.append(copy(agent))\n",
    "print(f\"Total of: {len(agents)} agents\")\n",
    "save(agents, \"./saved_data/saved_agents.pt\")"
   ],
   "metadata": {
    "collapsed": false,
    "pycharm": {
     "name": "#%%\n"
    }
   }
  },
  {
   "cell_type": "markdown",
   "source": [
    "Now we have our agents, let's run the evaluator"
   ],
   "metadata": {
    "collapsed": false,
    "pycharm": {
     "name": "#%% md\n"
    }
   }
  },
  {
   "cell_type": "code",
   "execution_count": 11,
   "outputs": [
    {
     "data": {
      "text/plain": "tensor(0.3774)"
     },
     "execution_count": 11,
     "metadata": {},
     "output_type": "execute_result"
    }
   ],
   "source": [
    "for agent in agents:\n",
    "    agent.eval = True\n",
    "\n",
    "weights = [0.1, 0.2, 0.3, 0.4]\n",
    "oracle = QEvaluator(env, agents, weights, num_evaluations=1, max_trajectory_length=20)\n",
    "oracle(env.get_starting_state())"
   ],
   "metadata": {
    "collapsed": false,
    "pycharm": {
     "name": "#%%\n"
    }
   }
  },
  {
   "cell_type": "markdown",
   "source": [
    "### Evaluators comparison"
   ],
   "metadata": {
    "collapsed": false,
    "pycharm": {
     "name": "#%% md\n"
    }
   }
  },
  {
   "cell_type": "code",
   "execution_count": 17,
   "outputs": [
    {
     "name": "stdout",
     "output_type": "stream",
     "text": [
      "Difficulty evaluation of the same random state:\n",
      "State: tensor([ 0.4957,  0.0500,  0.0000, -0.0051])\n",
      "\n",
      "Heuristic: 0.6527\n",
      "rewards\n",
      "tensor([[[-90.0000, -90.0000, -90.0000, -90.0000, -90.0000, -90.0000, -90.0000,\n",
      "          -90.0000, -90.0000, -90.0000],\n",
      "         [-91.2000, -91.2000,  19.4000, -91.3000, -90.0000, -89.4000, -91.2000,\n",
      "          -89.2000, -91.3000, -91.1000],\n",
      "         [-91.7000, -91.5000, -89.6000, -89.7000, -91.4000, -91.4000, -88.7000,\n",
      "          -90.5000, -89.6000, -91.5000]]])\n",
      "\n",
      "max: 19.399999618530273. min: -91.69999694824219\n",
      "\n",
      "Difficulties\n",
      "tensor([[[0.9847, 0.9847, 0.9847, 0.9847, 0.9847, 0.9847, 0.9847, 0.9847,\n",
      "          0.9847, 0.9847],\n",
      "         [0.9955, 0.9955, 0.0000, 0.9964, 0.9847, 0.9793, 0.9955, 0.9775,\n",
      "          0.9964, 0.9946],\n",
      "         [1.0000, 0.9982, 0.9811, 0.9820, 0.9973, 0.9973, 0.9730, 0.9892,\n",
      "          0.9811, 0.9982]]])\n",
      "\n",
      "Difficulties max: 1.0 min: 0.0\n",
      "Trajectory Rewards: 0.9627\n",
      "Q-Evaluator: 0.0400\n",
      "\n",
      "Difficulty of several states:\n",
      "H: tensor([0.6031, 0.3931, 0.4248, 0.3954, 0.2258])\n",
      "rewards\n",
      "tensor([[[-90.0000, -90.0000, -90.0000, -90.0000, -90.0000, -90.0000, -90.0000,\n",
      "          -90.0000, -90.0000, -90.0000],\n",
      "         [ 19.6000, -90.3000, -91.3000, -93.3000, -92.2000, -93.3000, -93.2000,\n",
      "          -89.4000,  19.5000, -92.2000],\n",
      "         [ 18.9000, -93.5000, -93.4000, -92.3000, -93.3000, -93.3000, -92.3000,\n",
      "          -92.5000, -90.5000, -93.6000]],\n",
      "\n",
      "        [[-90.0000, -90.0000, -90.0000, -90.0000, -90.0000, -90.0000, -90.0000,\n",
      "          -90.0000, -90.0000, -90.0000],\n",
      "         [-90.0000,  19.4000,  19.6000, -92.2000, -93.2000, -89.4000, -91.5000,\n",
      "          -89.2000,  19.4000, -87.4000],\n",
      "         [-92.3000, -91.5000, -92.5000, -94.3000, -91.7000, -91.3000, -94.5000,\n",
      "          -89.6000, -94.4000, -87.4000]],\n",
      "\n",
      "        [[-90.0000, -90.0000, -90.0000, -90.0000, -90.0000, -90.0000, -90.0000,\n",
      "          -90.0000, -90.0000, -90.0000],\n",
      "         [-90.0000,  19.7000,  19.6000,  19.8000, -94.3000, -90.2000, -91.3000,\n",
      "          -94.3000, -91.1000, -90.3000],\n",
      "         [-94.5000, -94.4000, -94.3000, -91.7000, -94.5000, -94.4000, -90.5000,\n",
      "          -90.7000,  18.9000,  18.5000]],\n",
      "\n",
      "        [[-93.0000,  20.0000,  20.0000,  20.0000,  20.0000,  20.0000,  20.0000,\n",
      "           20.0000,  20.0000,  20.0000],\n",
      "         [ 19.2000,  19.5000, -93.2000, -92.2000, -89.1000,  19.2000, -92.3000,\n",
      "           19.1000, -89.4000,  19.1000],\n",
      "         [ 19.1000,  19.1000,  18.7000,  18.8000, -92.1000,  18.9000,  18.8000,\n",
      "           18.9000, -87.6000,  18.6000]],\n",
      "\n",
      "        [[-93.0000,  20.0000,  20.0000,  20.0000,  20.0000,  20.0000,  20.0000,\n",
      "           20.0000,  20.0000,  20.0000],\n",
      "         [ 19.2000,  19.6000, -92.1000, -90.2000, -90.2000,  19.3000,  19.4000,\n",
      "           19.6000, -91.4000,  19.6000],\n",
      "         [ 19.0000,  18.9000,  18.9000,  18.8000,  19.2000,  18.8000,  19.1000,\n",
      "          -93.2000,  19.3000,  18.6000]]])\n",
      "\n",
      "max: 20.0. min: -94.5\n",
      "\n",
      "Difficulties\n",
      "tensor([[[0.9607, 0.9607, 0.9607, 0.9607, 0.9607, 0.9607, 0.9607, 0.9607,\n",
      "          0.9607, 0.9607],\n",
      "         [0.0035, 0.9633, 0.9721, 0.9895, 0.9799, 0.9895, 0.9886, 0.9555,\n",
      "          0.0044, 0.9799],\n",
      "         [0.0096, 0.9913, 0.9904, 0.9808, 0.9895, 0.9895, 0.9808, 0.9825,\n",
      "          0.9651, 0.9921]],\n",
      "\n",
      "        [[0.9607, 0.9607, 0.9607, 0.9607, 0.9607, 0.9607, 0.9607, 0.9607,\n",
      "          0.9607, 0.9607],\n",
      "         [0.9607, 0.0052, 0.0035, 0.9799, 0.9886, 0.9555, 0.9738, 0.9537,\n",
      "          0.0052, 0.9380],\n",
      "         [0.9808, 0.9738, 0.9825, 0.9983, 0.9755, 0.9721, 1.0000, 0.9572,\n",
      "          0.9991, 0.9380]],\n",
      "\n",
      "        [[0.9607, 0.9607, 0.9607, 0.9607, 0.9607, 0.9607, 0.9607, 0.9607,\n",
      "          0.9607, 0.9607],\n",
      "         [0.9607, 0.0026, 0.0035, 0.0017, 0.9983, 0.9624, 0.9721, 0.9983,\n",
      "          0.9703, 0.9633],\n",
      "         [1.0000, 0.9991, 0.9983, 0.9755, 1.0000, 0.9991, 0.9651, 0.9668,\n",
      "          0.0096, 0.0131]],\n",
      "\n",
      "        [[0.9869, 0.0000, 0.0000, 0.0000, 0.0000, 0.0000, 0.0000, 0.0000,\n",
      "          0.0000, 0.0000],\n",
      "         [0.0070, 0.0044, 0.9886, 0.9799, 0.9528, 0.0070, 0.9808, 0.0079,\n",
      "          0.9555, 0.0079],\n",
      "         [0.0079, 0.0079, 0.0114, 0.0105, 0.9790, 0.0096, 0.0105, 0.0096,\n",
      "          0.9397, 0.0122]],\n",
      "\n",
      "        [[0.9869, 0.0000, 0.0000, 0.0000, 0.0000, 0.0000, 0.0000, 0.0000,\n",
      "          0.0000, 0.0000],\n",
      "         [0.0070, 0.0035, 0.9790, 0.9624, 0.9624, 0.0061, 0.0052, 0.0035,\n",
      "          0.9729, 0.0035],\n",
      "         [0.0087, 0.0096, 0.0096, 0.0105, 0.0070, 0.0105, 0.0079, 0.9886,\n",
      "          0.0061, 0.0122]]])\n",
      "\n",
      "Difficulties max: 1.0 min: 0.0\n",
      "R: tensor([0.8978, 0.8939, 0.8493, 0.2216, 0.1738])\n",
      "Q: tensor([0.0743, 0.0453, 0.0582, 0.0141, 0.0125])\n",
      "\n",
      "Difficulty of the whole range\n",
      "Evaluating 1/26\n",
      "rewards\n",
      "tensor([[[ 20.0000,  20.0000,  20.0000,  20.0000,  20.0000,  20.0000,  20.0000,\n",
      "           20.0000,  20.0000,  20.0000],\n",
      "         [ 19.2000,  19.3000,  19.5000,  19.3000,  19.7000, -91.2000,  19.7000,\n",
      "           19.5000,  19.6000,  19.2000],\n",
      "         [ 19.2000,  19.2000,  19.1000,  19.2000,  19.2000,  18.7000,  18.9000,\n",
      "           19.2000,  18.8000,  18.9000]]])\n",
      "\n",
      "max: 20.0. min: -94.5\n",
      "\n",
      "Difficulties\n",
      "tensor([[[0.0000, 0.0000, 0.0000, 0.0000, 0.0000, 0.0000, 0.0000, 0.0000,\n",
      "          0.0000, 0.0000],\n",
      "         [0.0070, 0.0061, 0.0044, 0.0061, 0.0026, 0.9712, 0.0026, 0.0044,\n",
      "          0.0035, 0.0070],\n",
      "         [0.0070, 0.0070, 0.0079, 0.0070, 0.0070, 0.0114, 0.0096, 0.0070,\n",
      "          0.0105, 0.0096]]])\n",
      "\n",
      "Difficulties max: 0.9711790084838867 min: 0.0\n",
      "Evaluating 2/26\n",
      "rewards\n",
      "tensor([[[ 20.0000,  20.0000,  20.0000,  20.0000,  20.0000,  20.0000,  20.0000,\n",
      "           20.0000,  20.0000,  20.0000],\n",
      "         [ 19.5000,  19.5000,  19.4000,  19.5000,  19.7000, -89.1000,  19.4000,\n",
      "           18.9000, -93.2000,  19.5000],\n",
      "         [ 19.0000,  19.0000, -89.4000,  18.8000,  19.1000,  19.0000,  19.3000,\n",
      "           19.3000,  19.1000,  18.8000]]])\n",
      "\n",
      "max: 20.0. min: -94.5\n",
      "\n",
      "Difficulties\n",
      "tensor([[[0.0000, 0.0000, 0.0000, 0.0000, 0.0000, 0.0000, 0.0000, 0.0000,\n",
      "          0.0000, 0.0000],\n",
      "         [0.0044, 0.0044, 0.0052, 0.0044, 0.0026, 0.9528, 0.0052, 0.0096,\n",
      "          0.9886, 0.0044],\n",
      "         [0.0087, 0.0087, 0.9555, 0.0105, 0.0079, 0.0087, 0.0061, 0.0061,\n",
      "          0.0079, 0.0105]]])\n",
      "\n",
      "Difficulties max: 0.9886462688446045 min: 0.0\n",
      "Evaluating 3/26\n",
      "rewards\n",
      "tensor([[[ 20.0000,  20.0000,  20.0000,  20.0000,  20.0000,  20.0000,  20.0000,\n",
      "           20.0000,  20.0000,  20.0000],\n",
      "         [-90.4000,  19.8000, -88.1000,  19.4000,  19.5000, -88.5000,  19.4000,\n",
      "           19.7000, -90.2000, -91.1000],\n",
      "         [ 19.0000,  19.2000,  19.2000,  18.8000,  19.0000,  19.3000,  19.2000,\n",
      "           19.1000,  19.0000,  19.0000]]])\n",
      "\n",
      "max: 20.0. min: -94.5\n",
      "\n",
      "Difficulties\n",
      "tensor([[[0.0000, 0.0000, 0.0000, 0.0000, 0.0000, 0.0000, 0.0000, 0.0000,\n",
      "          0.0000, 0.0000],\n",
      "         [0.9642, 0.0017, 0.9441, 0.0052, 0.0044, 0.9476, 0.0052, 0.0026,\n",
      "          0.9624, 0.9703],\n",
      "         [0.0087, 0.0070, 0.0070, 0.0105, 0.0087, 0.0061, 0.0070, 0.0079,\n",
      "          0.0087, 0.0087]]])\n",
      "\n",
      "Difficulties max: 0.9703056812286377 min: 0.0\n",
      "Evaluating 4/26\n",
      "rewards\n",
      "tensor([[[ 20.0000,  20.0000,  20.0000,  20.0000,  20.0000,  20.0000,  20.0000,\n",
      "           20.0000,  20.0000,  20.0000],\n",
      "         [-92.1000, -93.2000,  19.6000,  19.9000, -92.2000,  19.5000, -93.2000,\n",
      "           19.5000,  19.3000,  19.0000],\n",
      "         [ 19.0000,  18.7000,  18.8000,  19.2000, -90.6000,  19.1000,  19.2000,\n",
      "           19.0000,  18.9000,  19.0000]]])\n",
      "\n",
      "max: 20.0. min: -94.5\n",
      "\n",
      "Difficulties\n",
      "tensor([[[0.0000e+00, 0.0000e+00, 0.0000e+00, 0.0000e+00, 0.0000e+00,\n",
      "          0.0000e+00, 0.0000e+00, 0.0000e+00, 0.0000e+00, 0.0000e+00],\n",
      "         [9.7904e-01, 9.8865e-01, 3.4934e-03, 8.7337e-04, 9.7991e-01,\n",
      "          4.3668e-03, 9.8865e-01, 4.3668e-03, 6.1135e-03, 8.7336e-03],\n",
      "         [8.7336e-03, 1.1354e-02, 1.0480e-02, 6.9869e-03, 9.6594e-01,\n",
      "          7.8603e-03, 6.9869e-03, 8.7336e-03, 9.6070e-03, 8.7336e-03]]])\n",
      "\n",
      "Difficulties max: 0.9886462688446045 min: 0.0\n",
      "Evaluating 5/26\n",
      "rewards\n",
      "tensor([[[ 20.0000,  20.0000,  20.0000,  20.0000,  20.0000,  20.0000,  20.0000,\n",
      "           20.0000,  20.0000,  20.0000],\n",
      "         [-92.2000,  19.6000,  19.3000,  19.2000, -92.1000,  19.8000, -92.1000,\n",
      "          -93.2000, -90.1000, -93.2000],\n",
      "         [ 19.0000,  19.0000,  18.9000, -89.5000,  19.0000,  18.6000, -89.6000,\n",
      "          -92.2000,  18.7000,  19.0000]]])\n",
      "\n",
      "max: 20.0. min: -94.5\n",
      "\n",
      "Difficulties\n",
      "tensor([[[0.0000, 0.0000, 0.0000, 0.0000, 0.0000, 0.0000, 0.0000, 0.0000,\n",
      "          0.0000, 0.0000],\n",
      "         [0.9799, 0.0035, 0.0061, 0.0070, 0.9790, 0.0017, 0.9790, 0.9886,\n",
      "          0.9616, 0.9886],\n",
      "         [0.0087, 0.0087, 0.0096, 0.9563, 0.0087, 0.0122, 0.9572, 0.9799,\n",
      "          0.0114, 0.0087]]])\n",
      "\n",
      "Difficulties max: 0.9886462688446045 min: 0.0\n",
      "Evaluating 6/26\n",
      "rewards\n",
      "tensor([[[ 20.0000,  20.0000,  20.0000,  20.0000,  20.0000,  20.0000,  20.0000,\n",
      "           20.0000,  20.0000,  20.0000],\n",
      "         [ 20.0000, -93.2000,  19.0000,  19.8000,  19.5000, -93.2000,  19.7000,\n",
      "          -89.3000, -92.1000, -93.1000],\n",
      "         [-89.7000,  19.0000,  18.8000, -93.1000, -93.2000,  19.4000, -92.4000,\n",
      "           18.6000,  19.1000, -92.4000]]])\n",
      "\n",
      "max: 20.0. min: -94.5\n",
      "\n",
      "Difficulties\n",
      "tensor([[[0.0000, 0.0000, 0.0000, 0.0000, 0.0000, 0.0000, 0.0000, 0.0000,\n",
      "          0.0000, 0.0000],\n",
      "         [0.0000, 0.9886, 0.0087, 0.0017, 0.0044, 0.9886, 0.0026, 0.9546,\n",
      "          0.9790, 0.9878],\n",
      "         [0.9581, 0.0087, 0.0105, 0.9878, 0.9886, 0.0052, 0.9817, 0.0122,\n",
      "          0.0079, 0.9817]]])\n",
      "\n",
      "Difficulties max: 0.9886462688446045 min: 0.0\n",
      "Evaluating 7/26\n",
      "rewards\n",
      "tensor([[[ 20.0000,  20.0000,  20.0000,  20.0000,  20.0000,  20.0000,  20.0000,\n",
      "           20.0000,  20.0000,  20.0000],\n",
      "         [ 19.4000, -89.4000, -87.3000, -92.1000, -91.3000, -93.2000, -91.2000,\n",
      "           19.2000, -89.4000, -92.4000],\n",
      "         [ 18.8000,  18.8000, -91.5000,  19.2000,  18.9000,  19.0000,  18.5000,\n",
      "           19.1000,  19.2000,  18.9000]]])\n",
      "\n",
      "max: 20.0. min: -94.5\n",
      "\n",
      "Difficulties\n",
      "tensor([[[0.0000, 0.0000, 0.0000, 0.0000, 0.0000, 0.0000, 0.0000, 0.0000,\n",
      "          0.0000, 0.0000],\n",
      "         [0.0052, 0.9555, 0.9371, 0.9790, 0.9721, 0.9886, 0.9712, 0.0070,\n",
      "          0.9555, 0.9817],\n",
      "         [0.0105, 0.0105, 0.9738, 0.0070, 0.0096, 0.0087, 0.0131, 0.0079,\n",
      "          0.0070, 0.0096]]])\n",
      "\n",
      "Difficulties max: 0.9886462688446045 min: 0.0\n",
      "Evaluating 8/26\n",
      "rewards\n",
      "tensor([[[ 20.0000,  20.0000,  20.0000,  20.0000,  20.0000,  20.0000,  20.0000,\n",
      "           20.0000,  20.0000,  20.0000],\n",
      "         [-91.3000,  19.4000, -91.2000,  19.6000,  19.8000, -93.1000, -92.2000,\n",
      "          -91.1000, -90.5000, -85.6000],\n",
      "         [ 19.2000, -91.6000, -87.1000, -92.4000,  18.7000, -91.4000,  18.9000,\n",
      "          -89.4000, -92.4000,  18.9000]]])\n",
      "\n",
      "max: 20.0. min: -94.5\n",
      "\n",
      "Difficulties\n",
      "tensor([[[0.0000, 0.0000, 0.0000, 0.0000, 0.0000, 0.0000, 0.0000, 0.0000,\n",
      "          0.0000, 0.0000],\n",
      "         [0.9721, 0.0052, 0.9712, 0.0035, 0.0017, 0.9878, 0.9799, 0.9703,\n",
      "          0.9651, 0.9223],\n",
      "         [0.0070, 0.9747, 0.9354, 0.9817, 0.0114, 0.9729, 0.0096, 0.9555,\n",
      "          0.9817, 0.0096]]])\n",
      "\n",
      "Difficulties max: 0.9877729415893555 min: 0.0\n",
      "Evaluating 9/26\n",
      "rewards\n",
      "tensor([[[ 20.0000,  20.0000,  20.0000,  20.0000,  20.0000,  20.0000,  20.0000,\n",
      "           20.0000,  20.0000,  20.0000],\n",
      "         [-88.3000, -91.2000, -86.3000, -90.1000, -90.2000, -90.3000, -90.2000,\n",
      "          -91.2000, -91.2000, -93.2000],\n",
      "         [-91.3000,  19.0000,  18.6000, -86.6000, -90.6000,  19.0000, -91.4000,\n",
      "           18.8000, -90.8000,  18.7000]]])\n",
      "\n",
      "max: 20.0. min: -94.5\n",
      "\n",
      "Difficulties\n",
      "tensor([[[0.0000, 0.0000, 0.0000, 0.0000, 0.0000, 0.0000, 0.0000, 0.0000,\n",
      "          0.0000, 0.0000],\n",
      "         [0.9459, 0.9712, 0.9284, 0.9616, 0.9624, 0.9633, 0.9624, 0.9712,\n",
      "          0.9712, 0.9886],\n",
      "         [0.9721, 0.0087, 0.0122, 0.9310, 0.9659, 0.0087, 0.9729, 0.0105,\n",
      "          0.9677, 0.0114]]])\n",
      "\n",
      "Difficulties max: 0.9886462688446045 min: 0.0\n",
      "Evaluating 10/26\n",
      "rewards\n",
      "tensor([[[ 20.0000,  20.0000,  20.0000,  20.0000,  20.0000,  20.0000,  20.0000,\n",
      "           20.0000,  20.0000,  20.0000],\n",
      "         [-92.1000,  19.9000, -93.1000, -92.4000, -92.1000, -93.2000, -92.2000,\n",
      "          -86.2000,  19.6000, -91.2000],\n",
      "         [ 18.5000, -90.5000,  19.0000,  18.7000, -89.7000, -90.6000,  18.8000,\n",
      "           18.8000, -91.3000, -87.7000]]])\n",
      "\n",
      "max: 20.0. min: -94.5\n",
      "\n",
      "Difficulties\n",
      "tensor([[[0.0000e+00, 0.0000e+00, 0.0000e+00, 0.0000e+00, 0.0000e+00,\n",
      "          0.0000e+00, 0.0000e+00, 0.0000e+00, 0.0000e+00, 0.0000e+00],\n",
      "         [9.7904e-01, 8.7337e-04, 9.8777e-01, 9.8166e-01, 9.7904e-01,\n",
      "          9.8865e-01, 9.7991e-01, 9.2751e-01, 3.4934e-03, 9.7118e-01],\n",
      "         [1.3100e-02, 9.6507e-01, 8.7336e-03, 1.1354e-02, 9.5808e-01,\n",
      "          9.6594e-01, 1.0480e-02, 1.0480e-02, 9.7205e-01, 9.4061e-01]]])\n",
      "\n",
      "Difficulties max: 0.9886462688446045 min: 0.0\n",
      "Evaluating 11/26\n",
      "rewards\n",
      "tensor([[[ 20.0000,  20.0000,  20.0000,  20.0000,  20.0000,  20.0000,  20.0000,\n",
      "           20.0000,  20.0000,  20.0000],\n",
      "         [-92.1000, -90.5000, -92.2000, -92.2000, -92.2000, -90.1000, -89.4000,\n",
      "          -92.1000, -92.1000, -89.3000],\n",
      "         [-87.6000,  18.9000, -91.6000, -92.4000, -91.6000,  18.9000, -91.4000,\n",
      "          -92.1000, -89.4000, -92.3000]]])\n",
      "\n",
      "max: 20.0. min: -94.5\n",
      "\n",
      "Difficulties\n",
      "tensor([[[0.0000, 0.0000, 0.0000, 0.0000, 0.0000, 0.0000, 0.0000, 0.0000,\n",
      "          0.0000, 0.0000],\n",
      "         [0.9790, 0.9651, 0.9799, 0.9799, 0.9799, 0.9616, 0.9555, 0.9790,\n",
      "          0.9790, 0.9546],\n",
      "         [0.9397, 0.0096, 0.9747, 0.9817, 0.9747, 0.0096, 0.9729, 0.9790,\n",
      "          0.9555, 0.9808]]])\n",
      "\n",
      "Difficulties max: 0.9816594123840332 min: 0.0\n",
      "Evaluating 12/26\n",
      "rewards\n",
      "tensor([[[-92.0000, -92.0000, -92.0000, -92.0000, -92.0000, -92.0000, -92.0000,\n",
      "          -92.0000, -92.0000, -92.0000],\n",
      "         [-92.0000, -89.1000, -91.2000, -91.2000, -90.3000, -92.3000, -92.0000,\n",
      "          -92.0000, -90.3000, -91.3000],\n",
      "         [-89.8000, -91.2000,  18.9000, -85.7000,  18.3000,  18.2000, -92.6000,\n",
      "          -91.6000, -87.9000,  18.6000]]])\n",
      "\n",
      "max: 20.0. min: -94.5\n",
      "\n",
      "Difficulties\n",
      "tensor([[[0.9782, 0.9782, 0.9782, 0.9782, 0.9782, 0.9782, 0.9782, 0.9782,\n",
      "          0.9782, 0.9782],\n",
      "         [0.9782, 0.9528, 0.9712, 0.9712, 0.9633, 0.9808, 0.9782, 0.9782,\n",
      "          0.9633, 0.9721],\n",
      "         [0.9590, 0.9712, 0.0096, 0.9231, 0.0148, 0.0157, 0.9834, 0.9747,\n",
      "          0.9424, 0.0122]]])\n",
      "\n",
      "Difficulties max: 0.983406126499176 min: 0.009606990031898022\n",
      "Evaluating 13/26\n",
      "rewards\n",
      "tensor([[[-92.0000, -92.0000, -92.0000, -92.0000, -92.0000, -92.0000, -92.0000,\n",
      "          -92.0000, -92.0000, -92.0000],\n",
      "         [-92.1000, -90.2000, -91.3000, -89.3000, -87.4000, -88.3000, -89.3000,\n",
      "          -92.3000, -87.4000, -92.4000],\n",
      "         [ 18.7000, -91.4000, -90.5000, -88.7000, -90.8000, -90.5000, -92.5000,\n",
      "          -89.5000, -88.7000, -88.5000]]])\n",
      "\n",
      "max: 20.0. min: -94.5\n",
      "\n",
      "Difficulties\n",
      "tensor([[[0.9782, 0.9782, 0.9782, 0.9782, 0.9782, 0.9782, 0.9782, 0.9782,\n",
      "          0.9782, 0.9782],\n",
      "         [0.9790, 0.9624, 0.9721, 0.9546, 0.9380, 0.9459, 0.9546, 0.9808,\n",
      "          0.9380, 0.9817],\n",
      "         [0.0114, 0.9729, 0.9651, 0.9493, 0.9677, 0.9651, 0.9825, 0.9563,\n",
      "          0.9493, 0.9476]]])\n",
      "\n",
      "Difficulties max: 0.9825327396392822 min: 0.011353705078363419\n",
      "Evaluating 14/26\n",
      "rewards\n",
      "tensor([[[-91.0000, -91.0000, -91.0000, -91.0000, -91.0000, -91.0000, -91.0000,\n",
      "          -91.0000, -91.0000, -91.0000],\n",
      "         [-88.2000, -87.2000, -91.5000, -91.2000, -87.3000, -91.3000, -87.1000,\n",
      "          -91.0000, -88.2000, -91.0000],\n",
      "         [-88.5000,  18.8000, -91.4000, -87.4000, -90.4000, -89.7000, -90.5000,\n",
      "          -86.4000, -89.7000,  19.1000]]])\n",
      "\n",
      "max: 20.0. min: -94.5\n",
      "\n",
      "Difficulties\n",
      "tensor([[[0.9694, 0.9694, 0.9694, 0.9694, 0.9694, 0.9694, 0.9694, 0.9694,\n",
      "          0.9694, 0.9694],\n",
      "         [0.9450, 0.9362, 0.9738, 0.9712, 0.9371, 0.9721, 0.9354, 0.9694,\n",
      "          0.9450, 0.9694],\n",
      "         [0.9476, 0.0105, 0.9729, 0.9380, 0.9642, 0.9581, 0.9651, 0.9293,\n",
      "          0.9581, 0.0079]]])\n",
      "\n",
      "Difficulties max: 0.9737991094589233 min: 0.007860258221626282\n",
      "Evaluating 15/26\n",
      "rewards\n",
      "tensor([[[-91.0000, -91.0000, -91.0000, -91.0000, -91.0000, -91.0000, -91.0000,\n",
      "          -91.0000, -91.0000, -91.0000],\n",
      "         [-92.1000, -91.0000, -91.2000, -91.4000, -90.5000,  19.2000, -91.3000,\n",
      "          -86.3000,  19.5000, -88.5000],\n",
      "         [-92.6000, -92.5000, -92.7000, -91.6000, -92.6000, -92.6000, -88.5000,\n",
      "          -92.7000, -92.4000, -91.7000]]])\n",
      "\n",
      "max: 20.0. min: -94.5\n",
      "\n",
      "Difficulties\n",
      "tensor([[[0.9694, 0.9694, 0.9694, 0.9694, 0.9694, 0.9694, 0.9694, 0.9694,\n",
      "          0.9694, 0.9694],\n",
      "         [0.9790, 0.9694, 0.9712, 0.9729, 0.9651, 0.0070, 0.9721, 0.9284,\n",
      "          0.0044, 0.9476],\n",
      "         [0.9834, 0.9825, 0.9843, 0.9747, 0.9834, 0.9834, 0.9476, 0.9843,\n",
      "          0.9817, 0.9755]]])\n",
      "\n",
      "Difficulties max: 0.984279453754425 min: 0.0043668122962117195\n",
      "Evaluating 16/26\n",
      "rewards\n",
      "tensor([[[-91.0000, -91.0000, -91.0000, -91.0000, -91.0000, -91.0000, -91.0000,\n",
      "          -91.0000, -91.0000, -91.0000],\n",
      "         [-88.4000, -92.4000, -86.1000, -92.3000, -92.2000, -92.1000, -92.3000,\n",
      "          -88.1000, -91.1000, -91.4000],\n",
      "         [-91.5000, -92.5000, -91.4000, -91.9000, -90.7000, -92.3000, -91.8000,\n",
      "          -92.4000, -92.6000, -90.7000]]])\n",
      "\n",
      "max: 20.0. min: -94.5\n",
      "\n",
      "Difficulties\n",
      "tensor([[[0.9694, 0.9694, 0.9694, 0.9694, 0.9694, 0.9694, 0.9694, 0.9694,\n",
      "          0.9694, 0.9694],\n",
      "         [0.9467, 0.9817, 0.9266, 0.9808, 0.9799, 0.9790, 0.9808, 0.9441,\n",
      "          0.9703, 0.9729],\n",
      "         [0.9738, 0.9825, 0.9729, 0.9773, 0.9668, 0.9808, 0.9764, 0.9817,\n",
      "          0.9834, 0.9668]]])\n",
      "\n",
      "Difficulties max: 0.983406126499176 min: 0.9266375303268433\n",
      "Evaluating 17/26\n",
      "rewards\n",
      "tensor([[[-91.0000, -91.0000, -91.0000, -91.0000, -91.0000, -91.0000, -91.0000,\n",
      "          -91.0000, -91.0000, -91.0000],\n",
      "         [-88.3000, -93.1000, -85.2000,  19.4000, -92.4000, -93.4000, -93.2000,\n",
      "          -89.2000, -93.1000, -91.0000],\n",
      "         [-93.3000, -93.6000, -85.5000, -93.1000, -91.3000, -89.2000, -93.6000,\n",
      "          -93.5000, -88.5000, -93.4000]]])\n",
      "\n",
      "max: 20.0. min: -94.5\n",
      "\n",
      "Difficulties\n",
      "tensor([[[0.9694, 0.9694, 0.9694, 0.9694, 0.9694, 0.9694, 0.9694, 0.9694,\n",
      "          0.9694, 0.9694],\n",
      "         [0.9459, 0.9878, 0.9188, 0.0052, 0.9817, 0.9904, 0.9886, 0.9537,\n",
      "          0.9878, 0.9694],\n",
      "         [0.9895, 0.9921, 0.9214, 0.9878, 0.9721, 0.9537, 0.9921, 0.9913,\n",
      "          0.9476, 0.9904]]])\n",
      "\n",
      "Difficulties max: 0.9921396970748901 min: 0.0052401782013475895\n",
      "Evaluating 18/26\n",
      "rewards\n",
      "tensor([[[-91.0000, -91.0000, -91.0000, -91.0000, -91.0000, -91.0000, -91.0000,\n",
      "          -91.0000, -91.0000, -91.0000],\n",
      "         [-89.3000, -93.3000, -89.4000,  19.7000, -87.4000, -93.1000,  19.5000,\n",
      "          -87.3000,  19.2000, -92.1000],\n",
      "         [ 19.5000, -93.3000, -93.3000, -93.5000, -93.7000, -93.5000, -93.4000,\n",
      "           18.6000,  19.4000, -93.4000]]])\n",
      "\n",
      "max: 20.0. min: -94.5\n",
      "\n",
      "Difficulties\n",
      "tensor([[[0.9694, 0.9694, 0.9694, 0.9694, 0.9694, 0.9694, 0.9694, 0.9694,\n",
      "          0.9694, 0.9694],\n",
      "         [0.9546, 0.9895, 0.9555, 0.0026, 0.9380, 0.9878, 0.0044, 0.9371,\n",
      "          0.0070, 0.9790],\n",
      "         [0.0044, 0.9895, 0.9895, 0.9913, 0.9930, 0.9913, 0.9904, 0.0122,\n",
      "          0.0052, 0.9904]]])\n",
      "\n",
      "Difficulties max: 0.9930130839347839 min: 0.002620080718770623\n",
      "Evaluating 19/26\n",
      "rewards\n",
      "tensor([[[-90.0000, -90.0000, -90.0000, -90.0000, -90.0000, -90.0000, -90.0000,\n",
      "          -90.0000, -90.0000, -90.0000],\n",
      "         [-89.4000,  19.3000, -89.2000, -89.2000, -92.3000, -89.3000, -90.1000,\n",
      "          -93.2000, -89.1000, -90.3000],\n",
      "         [ 19.2000, -93.5000, -93.2000, -92.5000, -94.6000, -90.5000,  19.4000,\n",
      "          -93.5000, -94.7000,  19.0000]]])\n",
      "\n",
      "max: 20.0. min: -94.69999694824219\n",
      "\n",
      "Difficulties\n",
      "tensor([[[0.9590, 0.9590, 0.9590, 0.9590, 0.9590, 0.9590, 0.9590, 0.9590,\n",
      "          0.9590, 0.9590],\n",
      "         [0.9538, 0.0061, 0.9520, 0.9520, 0.9791, 0.9529, 0.9599, 0.9869,\n",
      "          0.9512, 0.9616],\n",
      "         [0.0070, 0.9895, 0.9869, 0.9808, 0.9991, 0.9634, 0.0052, 0.9895,\n",
      "          1.0000, 0.0087]]])\n",
      "\n",
      "Difficulties max: 1.0 min: 0.005231040995568037\n",
      "Evaluating 20/26\n",
      "rewards\n",
      "tensor([[[-90.0000, -90.0000, -90.0000, -90.0000, -90.0000, -90.0000, -90.0000,\n",
      "          -90.0000, -90.0000, -90.0000],\n",
      "         [-90.4000, -94.2000, -88.2000,  19.3000,  19.4000,  19.9000, -91.3000,\n",
      "          -93.2000, -93.3000,  19.4000],\n",
      "         [-94.1000, -94.4000, -94.4000,  19.0000, -91.7000, -90.5000, -94.4000,\n",
      "          -90.5000, -94.3000, -94.4000]]])\n",
      "\n",
      "max: 20.0. min: -94.69999694824219\n",
      "\n",
      "Difficulties\n",
      "tensor([[[9.5902e-01, 9.5902e-01, 9.5902e-01, 9.5902e-01, 9.5902e-01,\n",
      "          9.5902e-01, 9.5902e-01, 9.5902e-01, 9.5902e-01, 9.5902e-01],\n",
      "         [9.6251e-01, 9.9564e-01, 9.4333e-01, 6.1029e-03, 5.2310e-03,\n",
      "          8.7184e-04, 9.7036e-01, 9.8692e-01, 9.8779e-01, 5.2310e-03],\n",
      "         [9.9477e-01, 9.9738e-01, 9.9738e-01, 8.7184e-03, 9.7384e-01,\n",
      "          9.6338e-01, 9.9738e-01, 9.6338e-01, 9.9651e-01, 9.9738e-01]]])\n",
      "\n",
      "Difficulties max: 0.9973845481872559 min: 0.0008718429016880691\n",
      "Evaluating 21/26\n",
      "rewards\n",
      "tensor([[[-90.0000, -90.0000, -90.0000, -90.0000, -90.0000, -90.0000, -90.0000,\n",
      "          -90.0000, -90.0000, -90.0000],\n",
      "         [ 19.4000, -93.3000, -93.2000,  19.3000,  19.4000,  19.8000, -91.4000,\n",
      "          -93.2000, -93.1000, -93.3000],\n",
      "         [-93.7000, -94.3000,  19.1000, -94.4000, -93.5000, -94.3000, -90.6000,\n",
      "           19.3000,  19.2000,  19.2000]]])\n",
      "\n",
      "max: 20.0. min: -94.69999694824219\n",
      "\n",
      "Difficulties\n",
      "tensor([[[0.9590, 0.9590, 0.9590, 0.9590, 0.9590, 0.9590, 0.9590, 0.9590,\n",
      "          0.9590, 0.9590],\n",
      "         [0.0052, 0.9878, 0.9869, 0.0061, 0.0052, 0.0017, 0.9712, 0.9869,\n",
      "          0.9861, 0.9878],\n",
      "         [0.9913, 0.9965, 0.0078, 0.9974, 0.9895, 0.9965, 0.9643, 0.0061,\n",
      "          0.0070, 0.0070]]])\n",
      "\n",
      "Difficulties max: 0.9973845481872559 min: 0.0017436858033761382\n",
      "Evaluating 22/26\n",
      "rewards\n",
      "tensor([[[-89.0000, -89.0000, -89.0000, -89.0000, -89.0000, -89.0000, -89.0000,\n",
      "          -89.0000, -89.0000, -89.0000],\n",
      "         [-88.1000,  19.0000, -91.2000, -91.4000, -89.3000, -94.2000,  19.3000,\n",
      "          -91.2000, -94.1000,  19.4000],\n",
      "         [ 19.2000, -94.2000, -94.3000,  19.0000,  19.3000, -92.4000, -94.2000,\n",
      "          -94.4000, -88.7000,  19.3000]]])\n",
      "\n",
      "max: 20.0. min: -94.69999694824219\n",
      "\n",
      "Difficulties\n",
      "tensor([[[0.9503, 0.9503, 0.9503, 0.9503, 0.9503, 0.9503, 0.9503, 0.9503,\n",
      "          0.9503, 0.9503],\n",
      "         [0.9425, 0.0087, 0.9695, 0.9712, 0.9529, 0.9956, 0.0061, 0.9695,\n",
      "          0.9948, 0.0052],\n",
      "         [0.0070, 0.9956, 0.9965, 0.0087, 0.0061, 0.9799, 0.9956, 0.9974,\n",
      "          0.9477, 0.0061]]])\n",
      "\n",
      "Difficulties max: 0.9973845481872559 min: 0.005231040995568037\n",
      "Evaluating 23/26\n",
      "rewards\n",
      "tensor([[[-89.0000, -89.0000, -89.0000, -89.0000, -89.0000, -89.0000, -89.0000,\n",
      "          -89.0000, -89.0000, -89.0000],\n",
      "         [-92.1000,  19.5000, -89.3000, -89.5000, -87.2000, -89.0000, -94.3000,\n",
      "           19.3000,  19.3000, -89.0000],\n",
      "         [ 18.8000,  19.1000,  19.0000, -91.3000, -91.8000, -94.4000, -94.3000,\n",
      "           19.1000,  19.0000, -92.5000]]])\n",
      "\n",
      "max: 20.0. min: -94.69999694824219\n",
      "\n",
      "Difficulties\n",
      "tensor([[[0.9503, 0.9503, 0.9503, 0.9503, 0.9503, 0.9503, 0.9503, 0.9503,\n",
      "          0.9503, 0.9503],\n",
      "         [0.9773, 0.0044, 0.9529, 0.9547, 0.9346, 0.9503, 0.9965, 0.0061,\n",
      "          0.0061, 0.9503],\n",
      "         [0.0105, 0.0078, 0.0087, 0.9704, 0.9747, 0.9974, 0.9965, 0.0078,\n",
      "          0.0087, 0.9808]]])\n",
      "\n",
      "Difficulties max: 0.9973845481872559 min: 0.004359197802841663\n",
      "Evaluating 24/26\n",
      "rewards\n",
      "tensor([[[-89.0000, -89.0000, -89.0000, -89.0000, -89.0000, -89.0000, -89.0000,\n",
      "          -89.0000, -89.0000, -89.0000],\n",
      "         [-89.1000, -89.3000,  19.5000,  19.8000,  19.2000,  19.5000,  19.4000,\n",
      "           19.5000,  19.6000,  19.8000],\n",
      "         [ 19.1000, -94.4000,  19.0000, -94.4000, -94.4000, -94.3000, -94.4000,\n",
      "          -89.6000,  18.9000, -94.2000]]])\n",
      "\n",
      "max: 20.0. min: -94.69999694824219\n",
      "\n",
      "Difficulties\n",
      "tensor([[[0.9503, 0.9503, 0.9503, 0.9503, 0.9503, 0.9503, 0.9503, 0.9503,\n",
      "          0.9503, 0.9503],\n",
      "         [0.9512, 0.9529, 0.0044, 0.0017, 0.0070, 0.0044, 0.0052, 0.0044,\n",
      "          0.0035, 0.0017],\n",
      "         [0.0078, 0.9974, 0.0087, 0.9974, 0.9974, 0.9965, 0.9974, 0.9555,\n",
      "          0.0096, 0.9956]]])\n",
      "\n",
      "Difficulties max: 0.9973845481872559 min: 0.0017436858033761382\n",
      "Evaluating 25/26\n",
      "rewards\n",
      "tensor([[[ 20.0000,  20.0000,  20.0000,  20.0000,  20.0000,  20.0000,  20.0000,\n",
      "           20.0000,  20.0000,  20.0000],\n",
      "         [ 19.6000,  19.8000,  19.7000,  19.2000, -92.1000,  19.4000,  19.6000,\n",
      "           19.6000,  19.5000,  19.2000],\n",
      "         [ 18.7000,  19.3000,  19.2000,  18.8000, -90.5000,  19.3000, -90.3000,\n",
      "           19.0000, -92.4000, -92.7000]]])\n",
      "\n",
      "max: 20.0. min: -94.69999694824219\n",
      "\n",
      "Difficulties\n",
      "tensor([[[0.0000, 0.0000, 0.0000, 0.0000, 0.0000, 0.0000, 0.0000, 0.0000,\n",
      "          0.0000, 0.0000],\n",
      "         [0.0035, 0.0017, 0.0026, 0.0070, 0.9773, 0.0052, 0.0035, 0.0035,\n",
      "          0.0044, 0.0070],\n",
      "         [0.0113, 0.0061, 0.0070, 0.0105, 0.9634, 0.0061, 0.9616, 0.0087,\n",
      "          0.9799, 0.9826]]])\n",
      "\n",
      "Difficulties max: 0.9825631976127625 min: 0.0\n",
      "Evaluating 26/26\n",
      "rewards\n",
      "tensor([[[20.0000, 20.0000, 20.0000, 20.0000, 20.0000, 20.0000, 20.0000,\n",
      "          20.0000, 20.0000, 20.0000],\n",
      "         [19.7000, 19.4000, 19.6000, 19.5000, 19.4000, 19.6000, 19.8000,\n",
      "          19.6000, 19.3000, 19.8000],\n",
      "         [19.0000, 18.7000, 19.2000, 19.3000, 18.5000, 18.7000, 19.0000,\n",
      "          19.2000, 18.9000, 19.1000]]])\n",
      "\n",
      "max: 20.0. min: -94.69999694824219\n",
      "\n",
      "Difficulties\n",
      "tensor([[[0.0000, 0.0000, 0.0000, 0.0000, 0.0000, 0.0000, 0.0000, 0.0000,\n",
      "          0.0000, 0.0000],\n",
      "         [0.0026, 0.0052, 0.0035, 0.0044, 0.0052, 0.0035, 0.0017, 0.0035,\n",
      "          0.0061, 0.0017],\n",
      "         [0.0087, 0.0113, 0.0070, 0.0061, 0.0131, 0.0113, 0.0087, 0.0070,\n",
      "          0.0096, 0.0078]]])\n",
      "\n",
      "Difficulties max: 0.013077594339847565 min: 0.0\n"
     ]
    }
   ],
   "source": [
    "# Heuristic evaluator\n",
    "oracle_h = HeuristicPendulumEvaluator(connector_length, max_angle, enemy_radius, bob_radius)\n",
    "\n",
    "# Trajectory rewards evaluator\n",
    "skills = [1.0, 0.5, 0.0]\n",
    "weights = [0.5, 0.25, 0.25]\n",
    "agents = [HeuristicPendulumActor(enemy_radius, bob_radius, connector_length, enemy_y, skill=skill) for skill in skills]\n",
    "oracle_r = TrajectoryRewardsEvaluator(env, agents, weights, num_evaluations=10, max_trajectory_length=20)\n",
    "\n",
    "# Q-Evaluator\n",
    "agents = load(\"./saved_data/saved_agents.pt\")\n",
    "for agent in agents:\n",
    "    agent.eval = True\n",
    "\n",
    "weights = [0.1, 0.2, 0.3, 0.4]\n",
    "oracle_q = QEvaluator(env, agents, weights, num_evaluations=1, max_trajectory_length=20)\n",
    "\n",
    "print(\"Difficulty evaluation of the same random state:\")\n",
    "\n",
    "state = env.get_starting_state()\n",
    "print(f\"State: {state}\")\n",
    "print()\n",
    "\n",
    "print(f\"Heuristic: {oracle_h(state).item():.4f}\")\n",
    "print(f\"Trajectory Rewards: {oracle_r(state).item():.4f}\")\n",
    "print(f\"Q-Evaluator: {oracle_q(state).item():.4f}\")\n",
    "\n",
    "print()\n",
    "print(\"Difficulty of several states:\")\n",
    "\n",
    "states = torch.vstack([env.get_starting_state() for _ in range(5)])\n",
    "print(f\"H: {oracle_h(states)}\")\n",
    "print(f\"R: {oracle_r(states)}\")\n",
    "print(f\"Q: {oracle_q(states)}\")\n",
    "\n",
    "print()\n",
    "print(\"Difficulty of the whole range\")\n",
    "\n",
    "states = []\n",
    "evaluations_h = []\n",
    "evaluations_r = []\n",
    "evaluations_q = []\n",
    "state = env.get_starting_state()\n",
    "num_states = 26\n",
    "for i, x in enumerate(torch.linspace(enemy_x_min, enemy_x_max, num_states)):\n",
    "    print(f\"Evaluating {i + 1}/{num_states}\")\n",
    "    s = state.clone()\n",
    "    s.enemy_x = x\n",
    "    states.append(x)\n",
    "\n",
    "    evaluations_h.append(oracle_h(s))\n",
    "    evaluations_r.append(oracle_r(s))\n",
    "    evaluations_q.append(oracle_q(s))"
   ],
   "metadata": {
    "collapsed": false,
    "pycharm": {
     "name": "#%%\n"
    }
   }
  },
  {
   "cell_type": "code",
   "execution_count": 21,
   "outputs": [
    {
     "name": "stdout",
     "output_type": "stream",
     "text": [
      "PendulumState(\n",
      "  angle: 0.64,\n",
      "  angular_speed: -0.05,\n",
      "  vertical_position: 0.00,\n",
      "  enemies: -0.25\n",
      ")\n"
     ]
    },
    {
     "data": {
      "text/plain": "<Figure size 432x288 with 1 Axes>",
      "image/png": "[encoded data removed]"
     },
     "metadata": {
      "needs_background": "dark"
     },
     "output_type": "display_data"
    }
   ],
   "source": [
    "print(state.to_string())\n",
    "plt.plot(states, evaluations_h)\n",
    "plt.plot(states, evaluations_r)\n",
    "plt.plot(states, evaluations_q)\n",
    "plt.legend([\"Heuristic\", \"Rewards\", \"Q\"])\n",
    "plt.show()"
   ],
   "metadata": {
    "collapsed": false,
    "pycharm": {
     "name": "#%%\n"
    }
   }
  }
 ],
 "metadata": {
  "kernelspec": {
   "display_name": "Python 3",
   "language": "python",
   "name": "python3"
  },
  "language_info": {
   "codemirror_mode": {
    "name": "ipython",
    "version": 2
   },
   "file_extension": ".py",
   "mimetype": "text/x-python",
   "name": "python",
   "nbconvert_exporter": "python",
   "pygments_lexer": "ipython2",
   "version": "2.7.6"
  }
 },
 "nbformat": 4,
 "nbformat_minor": 0
}