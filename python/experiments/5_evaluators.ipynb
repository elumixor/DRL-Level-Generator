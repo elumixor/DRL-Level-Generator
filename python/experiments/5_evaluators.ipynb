{
 "cells": [
  {
   "cell_type": "markdown",
   "metadata": {
    "collapsed": true,
    "pycharm": {
     "name": "#%% md\n"
    }
   },
   "source": [
    "1. Difficulty evaluation using trajectory rewards"
   ]
  },
  {
   "cell_type": "markdown",
   "source": [
    "Visualization of the state"
   ],
   "metadata": {
    "collapsed": false,
    "pycharm": {
     "name": "#%% md\n"
    }
   }
  },
  {
   "cell_type": "code",
   "execution_count": 1,
   "outputs": [
    {
     "name": "stdout",
     "output_type": "stream",
     "text": [
      "tensor([[1., 2., 3., 4., 5.],\n",
      "        [1., 2., 3., 4., 5.]])\n",
      "0 <class 'pendulum.state.PendulumState'>\n",
      "1 <class 'pendulum.state.PendulumState'>\n"
     ]
    },
    {
     "data": {
      "text/plain": "<PIL.Image.Image image mode=RGB size=800x600 at 0x24C55B22C70>",
      "image/png": "[encoded data removed]"
     },
     "execution_count": 1,
     "metadata": {},
     "output_type": "execute_result"
    }
   ],
   "source": [
    "import torch\n",
    "\n",
    "from framework import TrajectoryRewardsEvaluator\n",
    "from pendulum import PendulumEnvironment, PendulumRenderer\n",
    "from pendulum.heuristic import *\n",
    "from shared_parameters import *\n",
    "\n",
    "env = PendulumEnvironment(*pendulum_env_args, time_scale=5, step_reward=1.0, action_reward=-0.1, death_reward=-100.0)\n",
    "renderer = PendulumRenderer(bob_radius, connector_length, enemy_radius, enemy_y)\n",
    "\n",
    "renderer.render(env.get_starting_state(), to_image=True)"
   ],
   "metadata": {
    "collapsed": false,
    "pycharm": {
     "name": "#%%\n"
    }
   }
  },
  {
   "cell_type": "markdown",
   "source": [
    "### Note for all difficulty estimator\n",
    "\n",
    "Currently, we have a small embedding space (just one dimension),\n",
    "thus it's possible to pre-evaluate it directly, and then use the\n",
    "cached difficulty evaluations.\n",
    "\n",
    "Within the bigger space it's not possible, and we will have to\n",
    "come up with some clever way of caching, where we don't store the\n",
    "evaluation for every point space, but neither perform an evaluation\n",
    "each time for each point."
   ],
   "metadata": {
    "collapsed": false,
    "pycharm": {
     "name": "#%% md\n"
    }
   }
  },
  {
   "cell_type": "markdown",
   "source": [
    "### Direct difficulty estimation"
   ],
   "metadata": {
    "collapsed": false,
    "pycharm": {
     "name": "#%% md\n"
    }
   }
  },
  {
   "cell_type": "code",
   "execution_count": 2,
   "outputs": [
    {
     "name": "stdout",
     "output_type": "stream",
     "text": [
      "Pendulum(angle: 0.64, angular_speed: 0.05, vertical_position: 0.00, enemies: 0.10)\n",
      "difficulty=0.653\n"
     ]
    }
   ],
   "source": [
    "oracle = HeuristicPendulumEvaluator(connector_length, max_angle, enemy_radius, bob_radius)\n",
    "state = env.get_starting_state()\n",
    "difficulty = oracle(state)\n",
    "\n",
    "print(state.to_string())\n",
    "print(f\"difficulty={difficulty.item():.3f}\")"
   ],
   "metadata": {
    "collapsed": false,
    "pycharm": {
     "name": "#%%\n"
    }
   }
  },
  {
   "cell_type": "markdown",
   "source": [
    "### Difficulty estimation using trajectory rewards"
   ],
   "metadata": {
    "collapsed": false,
    "pycharm": {
     "name": "#%% md\n"
    }
   }
  },
  {
   "cell_type": "code",
   "execution_count": 5,
   "outputs": [
    {
     "data": {
      "text/plain": "tensor([0.0508, 0.8492, 0.8199, 0.7940, 0.2215, 0.8766, 0.9208, 0.1729, 0.2449,\n        0.1724])"
     },
     "execution_count": 5,
     "metadata": {},
     "output_type": "execute_result"
    }
   ],
   "source": [
    "skills = [1.0, 0.5, 0.0]\n",
    "weights = [0.5, 0.25, 0.25]\n",
    "agents = [HeuristicPendulumActor(enemy_radius, bob_radius, connector_length, enemy_y, skill=skill) for skill in skills]\n",
    "oracle = TrajectoryRewardsEvaluator(env, agents, weights, num_evaluations=10, max_trajectory_length=20)\n",
    "\n",
    "states = torch.vstack([env.get_starting_state() for _ in range(10)])\n",
    "oracle.evaluate(states)"
   ],
   "metadata": {
    "collapsed": false,
    "pycharm": {
     "name": "#%%\n"
    }
   }
  }
 ],
 "metadata": {
  "kernelspec": {
   "display_name": "Python 3",
   "language": "python",
   "name": "python3"
  },
  "language_info": {
   "codemirror_mode": {
    "name": "ipython",
    "version": 2
   },
   "file_extension": ".py",
   "mimetype": "text/x-python",
   "name": "python",
   "nbconvert_exporter": "python",
   "pygments_lexer": "ipython2",
   "version": "2.7.6"
  }
 },
 "nbformat": 4,
 "nbformat_minor": 0
}