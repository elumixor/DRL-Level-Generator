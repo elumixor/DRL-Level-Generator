{
 "cells": [
  {
   "cell_type": "markdown",
   "metadata": {
    "collapsed": true,
    "pycharm": {
     "name": "#%% md\n"
    }
   },
   "source": [
    "1. Difficulty evaluation using trajectory rewards"
   ]
  },
  {
   "cell_type": "markdown",
   "source": [
    "Visualization of the state"
   ],
   "metadata": {
    "collapsed": false,
    "pycharm": {
     "name": "#%% md\n"
    }
   }
  },
  {
   "cell_type": "code",
   "execution_count": 1,
   "outputs": [
    {
     "data": {
      "text/plain": "<PIL.Image.Image image mode=RGB size=800x600 at 0x1A106375A90>",
      "image/png": "[encoded data removed]"
     },
     "execution_count": 1,
     "metadata": {},
     "output_type": "execute_result"
    }
   ],
   "source": [
    "from copy import deepcopy, copy\n",
    "\n",
    "import matplotlib.pyplot as plt\n",
    "import torch\n",
    "from IPython.core.display import clear_output\n",
    "from torch.nn import LeakyReLU\n",
    "\n",
    "from framework import TrajectoryRewardsEvaluator, QEvaluator, DQNAgent\n",
    "from pendulum import PendulumEnvironment, PendulumRenderer, PendulumState\n",
    "from pendulum.heuristic import *\n",
    "from shared_parameters import *\n",
    "from utils import mean, running_average\n",
    "\n",
    "env = PendulumEnvironment(*pendulum_env_args, time_scale=5, step_reward=1.0, action_reward=-0.1, death_reward=-100.0)\n",
    "renderer = PendulumRenderer(bob_radius, connector_length, enemy_radius, enemy_y)\n",
    "\n",
    "renderer.render(env.get_starting_state(), to_image=True)"
   ],
   "metadata": {
    "collapsed": false,
    "pycharm": {
     "name": "#%%\n"
    }
   }
  },
  {
   "cell_type": "markdown",
   "source": [
    "### Note for all difficulty estimators\n",
    "\n",
    "Currently, we have a small embedding space (just one dimension),\n",
    "thus it's possible to pre-evaluate it directly, and then use the\n",
    "cached difficulty evaluations.\n",
    "\n",
    "Within the bigger space it's not possible, and we will have to\n",
    "come up with some clever way of caching, where we don't store the\n",
    "evaluation for every point space, but neither perform an evaluation\n",
    "each time for each point."
   ],
   "metadata": {
    "collapsed": false,
    "pycharm": {
     "name": "#%% md\n"
    }
   }
  },
  {
   "cell_type": "markdown",
   "source": [
    "### Direct difficulty estimation"
   ],
   "metadata": {
    "collapsed": false,
    "pycharm": {
     "name": "#%% md\n"
    }
   }
  },
  {
   "cell_type": "code",
   "execution_count": 2,
   "outputs": [
    {
     "name": "stdout",
     "output_type": "stream",
     "text": [
      "Pendulum(angle: -0.34, angular_speed: -0.05, vertical_position: 0.00, enemies: 0.25)\n",
      "difficulty: 0.425\n"
     ]
    }
   ],
   "source": [
    "oracle = HeuristicPendulumEvaluator(connector_length, max_angle, enemy_radius, bob_radius)\n",
    "state = env.get_starting_state()\n",
    "difficulty = oracle(state)\n",
    "\n",
    "print(state.to_string())\n",
    "print(f\"difficulty: {difficulty.item():.3f}\")"
   ],
   "metadata": {
    "collapsed": false,
    "pycharm": {
     "name": "#%%\n"
    }
   }
  },
  {
   "cell_type": "markdown",
   "source": [
    "### Difficulty estimation using trajectory rewards"
   ],
   "metadata": {
    "collapsed": false,
    "pycharm": {
     "name": "#%% md\n"
    }
   }
  },
  {
   "cell_type": "code",
   "execution_count": 3,
   "outputs": [
    {
     "data": {
      "text/plain": "tensor([0.6693, 0.9592, 0.1732, 0.2468, 0.5880, 0.7313, 0.8509, 0.8748, 0.9289,\n        0.0514])"
     },
     "execution_count": 3,
     "metadata": {},
     "output_type": "execute_result"
    }
   ],
   "source": [
    "skills = [1.0, 0.5, 0.0]\n",
    "weights = [0.5, 0.25, 0.25]\n",
    "agents = [HeuristicPendulumActor(enemy_radius, bob_radius, connector_length, enemy_y, skill=skill) for skill in skills]\n",
    "oracle = TrajectoryRewardsEvaluator(env, agents, weights, num_evaluations=10, max_trajectory_length=20)\n",
    "\n",
    "states = torch.vstack([env.get_starting_state() for _ in range(10)])\n",
    "oracle.evaluate(states)"
   ],
   "metadata": {
    "collapsed": false,
    "pycharm": {
     "name": "#%%\n"
    }
   }
  },
  {
   "cell_type": "markdown",
   "source": [
    "### Difficulty estimation using Q-values\n",
    "\n",
    "1. Train agents, save at time steps\n",
    "2. Use them in QEvaluator"
   ],
   "metadata": {
    "collapsed": false,
    "pycharm": {
     "name": "#%% md\n"
    }
   }
  },
  {
   "cell_type": "code",
   "execution_count": 4,
   "outputs": [],
   "source": [
    "agents = []\n",
    "agent = DQNAgent(PendulumState.get_size(1), action_size=2, hidden=[8, 8], activation=LeakyReLU())\n",
    "total_rewards = []"
   ],
   "metadata": {
    "collapsed": false,
    "pycharm": {
     "name": "#%%\n"
    }
   }
  },
  {
   "cell_type": "markdown",
   "source": [
    "Run next cell to train the agent until you're satisfied. Run the cell above it to save the agent"
   ],
   "metadata": {
    "collapsed": false,
    "pycharm": {
     "name": "#%% md\n"
    }
   }
  },
  {
   "cell_type": "code",
   "execution_count": 5,
   "outputs": [
    {
     "name": "stdout",
     "output_type": "stream",
     "text": [
      "loss: 647.903564453125. Mean total reward: -47.52000000000002\n"
     ]
    },
    {
     "data": {
      "text/plain": "<Figure size 432x288 with 1 Axes>",
      "image/png": "[encoded data removed]"
     },
     "metadata": {
      "needs_background": "light"
     },
     "output_type": "display_data"
    }
   ],
   "source": [
    "# Train the agent for N iterations\n",
    "loss = agent.train(env, epochs=100, max_trajectory_length=20)\n",
    "\n",
    "for _ in range(10):\n",
    "    state = env.get_starting_state()\n",
    "    total_reward = 0.0\n",
    "\n",
    "    for _ in range(20):\n",
    "        action = agent.get_action(state)\n",
    "        state, reward, done = env.transition(state, action)\n",
    "        total_reward += reward\n",
    "        if done:\n",
    "            break\n",
    "\n",
    "    total_rewards.append(total_reward)\n",
    "    if len(total_rewards) > 1000:\n",
    "        total_rewards.pop(0)\n",
    "\n",
    "clear_output(wait=True)\n",
    "print(f\"loss: {loss}. Mean total reward: {mean(total_rewards)}\")\n",
    "plt.plot(total_rewards)\n",
    "plt.plot(running_average(total_rewards))\n",
    "plt.show()"
   ],
   "metadata": {
    "collapsed": false,
    "pycharm": {
     "name": "#%%\n"
    }
   }
  },
  {
   "cell_type": "code",
   "execution_count": 10,
   "outputs": [
    {
     "name": "stdout",
     "output_type": "stream",
     "text": [
      "Total of: 4 agents\n"
     ]
    }
   ],
   "source": [
    "# Use this to append an agent\n",
    "agents.append(copy(agent))\n",
    "print(f\"Total of: {len(agents)} agents\")"
   ],
   "metadata": {
    "collapsed": false,
    "pycharm": {
     "name": "#%%\n"
    }
   }
  },
  {
   "cell_type": "markdown",
   "source": [
    "Now we have our agents, let's run the evaluator"
   ],
   "metadata": {
    "collapsed": false,
    "pycharm": {
     "name": "#%% md\n"
    }
   }
  },
  {
   "cell_type": "code",
   "execution_count": 11,
   "outputs": [
    {
     "data": {
      "text/plain": "tensor(-0.7105)"
     },
     "execution_count": 11,
     "metadata": {},
     "output_type": "execute_result"
    }
   ],
   "source": [
    "weights = [0.1, 0.2, 0.3, 0.4]\n",
    "oracle = QEvaluator(env, agents, weights, num_evaluations=1, max_trajectory_length=20)\n",
    "oracle(env.get_starting_state())\n"
   ],
   "metadata": {
    "collapsed": false,
    "pycharm": {
     "name": "#%%\n"
    }
   }
  }
 ],
 "metadata": {
  "kernelspec": {
   "display_name": "Python 3",
   "language": "python",
   "name": "python3"
  },
  "language_info": {
   "codemirror_mode": {
    "name": "ipython",
    "version": 2
   },
   "file_extension": ".py",
   "mimetype": "text/x-python",
   "name": "python",
   "nbconvert_exporter": "python",
   "pygments_lexer": "ipython2",
   "version": "2.7.6"
  }
 },
 "nbformat": 4,
 "nbformat_minor": 0
}