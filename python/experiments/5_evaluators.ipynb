{
 "cells": [
  {
   "cell_type": "markdown",
   "metadata": {
    "collapsed": true,
    "pycharm": {
     "name": "#%% md\n"
    }
   },
   "source": [
    "1. Difficulty evaluation using trajectory rewards"
   ]
  },
  {
   "cell_type": "markdown",
   "source": [
    "Visualization of the state"
   ],
   "metadata": {
    "collapsed": false,
    "pycharm": {
     "name": "#%% md\n"
    }
   }
  },
  {
   "cell_type": "code",
   "execution_count": 1,
   "outputs": [],
   "source": [
    "% load_ext autoreload\n",
    "% autoreload 2\n",
    "\n",
    "from copy import copy\n",
    "\n",
    "import matplotlib\n",
    "import torch\n",
    "from IPython.core.display import clear_output\n",
    "from torch.nn import LeakyReLU\n",
    "\n",
    "from framework import TrajectoryRewardsEvaluator, QEvaluator, DQNAgent\n",
    "from pendulum import PendulumEnvironment, PendulumRenderer, PendulumState\n",
    "from pendulum.heuristic import *\n",
    "from shared_parameters import *\n",
    "from utils import mean, running_average\n",
    "from utils import save, load, set_matplotlib_colors\n",
    "\n",
    "set_matplotlib_colors(matplotlib, text_color=\"black\", label_color=\"white\")\n",
    "import matplotlib.pyplot as plt\n",
    "\n",
    "torch.set_printoptions(sci_mode=False)"
   ],
   "metadata": {
    "collapsed": false,
    "pycharm": {
     "name": "#%%\n"
    }
   }
  },
  {
   "cell_type": "code",
   "execution_count": 2,
   "outputs": [
    {
     "data": {
      "text/plain": "<PIL.Image.Image image mode=RGB size=800x600 at 0x22A7F036A90>",
      "image/png": "[encoded data removed]"
     },
     "execution_count": 2,
     "metadata": {},
     "output_type": "execute_result"
    }
   ],
   "source": [
    "env = PendulumEnvironment(*pendulum_env_args, time_scale=5, step_reward=1.0, action_reward=-0.1, death_reward=-100.0)\n",
    "renderer = PendulumRenderer(bob_radius, connector_length, enemy_radius, enemy_y)\n",
    "\n",
    "renderer.render(env.get_starting_state(), to_image=True)\n"
   ],
   "metadata": {
    "collapsed": false,
    "pycharm": {
     "name": "#%%\n"
    }
   }
  },
  {
   "cell_type": "markdown",
   "source": [
    "### Note for all difficulty estimators\n",
    "\n",
    "Currently, we have a small embedding space (just one dimension),\n",
    "thus it's possible to pre-evaluate it directly, and then use the\n",
    "cached difficulty evaluations.\n",
    "\n",
    "Within the bigger space it's not possible, and we will have to\n",
    "come up with some clever way of caching, where we don't store the\n",
    "evaluation for every point space, but neither perform an evaluation\n",
    "each time for each point."
   ],
   "metadata": {
    "collapsed": false,
    "pycharm": {
     "name": "#%% md\n"
    }
   }
  },
  {
   "cell_type": "markdown",
   "source": [
    "### Direct difficulty estimation"
   ],
   "metadata": {
    "collapsed": false,
    "pycharm": {
     "name": "#%% md\n"
    }
   }
  },
  {
   "cell_type": "code",
   "execution_count": 5,
   "outputs": [
    {
     "ename": "NameError",
     "evalue": "name 'HeuristicPendulumEvaluator' is not defined",
     "output_type": "error",
     "traceback": [
      "\u001B[1;31m---------------------------------------------------------------------------\u001B[0m",
      "\u001B[1;31mNameError\u001B[0m                                 Traceback (most recent call last)",
      "\u001B[1;32m<ipython-input-5-479de09c1262>\u001B[0m in \u001B[0;36m<module>\u001B[1;34m\u001B[0m\n\u001B[1;32m----> 1\u001B[1;33m \u001B[0moracle\u001B[0m \u001B[1;33m=\u001B[0m \u001B[0mHeuristicPendulumEvaluator\u001B[0m\u001B[1;33m(\u001B[0m\u001B[0mconnector_length\u001B[0m\u001B[1;33m,\u001B[0m \u001B[0mmax_angle\u001B[0m\u001B[1;33m,\u001B[0m \u001B[0menemy_radius\u001B[0m\u001B[1;33m,\u001B[0m \u001B[0mbob_radius\u001B[0m\u001B[1;33m)\u001B[0m\u001B[1;33m\u001B[0m\u001B[1;33m\u001B[0m\u001B[0m\n\u001B[0m\u001B[0;32m      2\u001B[0m \u001B[0mstate\u001B[0m \u001B[1;33m=\u001B[0m \u001B[0menv\u001B[0m\u001B[1;33m.\u001B[0m\u001B[0mget_starting_state\u001B[0m\u001B[1;33m(\u001B[0m\u001B[1;33m)\u001B[0m\u001B[1;33m\u001B[0m\u001B[1;33m\u001B[0m\u001B[0m\n\u001B[0;32m      3\u001B[0m \u001B[0mdifficulty\u001B[0m \u001B[1;33m=\u001B[0m \u001B[0moracle\u001B[0m\u001B[1;33m(\u001B[0m\u001B[0mstate\u001B[0m\u001B[1;33m)\u001B[0m\u001B[1;33m\u001B[0m\u001B[1;33m\u001B[0m\u001B[0m\n\u001B[0;32m      4\u001B[0m \u001B[1;33m\u001B[0m\u001B[0m\n\u001B[0;32m      5\u001B[0m \u001B[0mprint\u001B[0m\u001B[1;33m(\u001B[0m\u001B[0mstate\u001B[0m\u001B[1;33m.\u001B[0m\u001B[0mto_string\u001B[0m\u001B[1;33m(\u001B[0m\u001B[1;33m)\u001B[0m\u001B[1;33m)\u001B[0m\u001B[1;33m\u001B[0m\u001B[1;33m\u001B[0m\u001B[0m\n",
      "\u001B[1;31mNameError\u001B[0m: name 'HeuristicPendulumEvaluator' is not defined"
     ]
    }
   ],
   "source": [
    "oracle = HeuristicPendulumEvaluator(connector_length, max_angle, enemy_radius, bob_radius)\n",
    "state = env.get_starting_state()\n",
    "difficulty = oracle(state)\n",
    "\n",
    "print(state.to_string())\n",
    "print(f\"difficulty: {difficulty.item():.3f}\")"
   ],
   "metadata": {
    "collapsed": false,
    "pycharm": {
     "name": "#%%\n"
    }
   }
  },
  {
   "cell_type": "markdown",
   "source": [
    "### Difficulty estimation using trajectory rewards"
   ],
   "metadata": {
    "collapsed": false,
    "pycharm": {
     "name": "#%% md\n"
    }
   }
  },
  {
   "cell_type": "code",
   "execution_count": 9,
   "outputs": [
    {
     "data": {
      "text/plain": "tensor([0.2954, 0.0762, 0.7320, 0.9072, 0.6382, 0.8839, 0.1979, 0.8172, 0.7571,\n        0.8782])"
     },
     "execution_count": 9,
     "metadata": {},
     "output_type": "execute_result"
    }
   ],
   "source": [
    "skills = [1.0, 0.5, 0.0]\n",
    "weights = [0.5, 0.25, 0.25]\n",
    "agents = [HeuristicPendulumActor(enemy_radius, bob_radius, connector_length, enemy_y, skill=skill) for skill in skills]\n",
    "oracle = TrajectoryRewardsEvaluator(env, agents, weights, num_evaluations=10, max_trajectory_length=20)\n",
    "\n",
    "states = torch.vstack([env.get_starting_state() for _ in range(10)])\n",
    "oracle.evaluate(states)"
   ],
   "metadata": {
    "collapsed": false,
    "pycharm": {
     "name": "#%%\n"
    }
   }
  },
  {
   "cell_type": "markdown",
   "source": [
    "### Difficulty estimation using Q-values\n",
    "\n",
    "1. Train agents, save at time steps\n",
    "2. Use them in QEvaluator"
   ],
   "metadata": {
    "collapsed": false,
    "pycharm": {
     "name": "#%% md\n"
    }
   }
  },
  {
   "cell_type": "code",
   "execution_count": 245,
   "outputs": [],
   "source": [
    "agent = DQNAgent(PendulumState.get_size(1), action_size=2, hidden=[8, 8], activation=LeakyReLU())\n",
    "total_rewards = []\n",
    "agents = []"
   ],
   "metadata": {
    "collapsed": false,
    "pycharm": {
     "name": "#%%\n"
    }
   }
  },
  {
   "cell_type": "markdown",
   "source": [
    "Run next cell to train the agent until you're satisfied. Run the cell above it to save the agent"
   ],
   "metadata": {
    "collapsed": false,
    "pycharm": {
     "name": "#%% md\n"
    }
   }
  },
  {
   "cell_type": "code",
   "execution_count": 334,
   "outputs": [
    {
     "name": "stdout",
     "output_type": "stream",
     "text": [
      "loss: 74.70817565917969. Mean total reward: -6.379662921348304\n"
     ]
    },
    {
     "data": {
      "text/plain": "<Figure size 432x288 with 1 Axes>",
      "image/png": "[encoded data removed]"
     },
     "metadata": {
      "needs_background": "dark"
     },
     "output_type": "display_data"
    }
   ],
   "source": [
    "# Train the agent for N iterations\n",
    "agent.eval = False\n",
    "loss = agent.train(env, epochs=100, max_trajectory_length=20)\n",
    "agent.eval = True\n",
    "\n",
    "for _ in range(10):\n",
    "    state = env.get_starting_state()\n",
    "    total_reward = 0.0\n",
    "\n",
    "    for _ in range(20):\n",
    "        action = agent.get_action(state)\n",
    "        state, reward, done = env.transition(state, action)\n",
    "        total_reward += reward\n",
    "        if done:\n",
    "            break\n",
    "\n",
    "    total_rewards.append(total_reward)\n",
    "    if len(total_rewards) > 1000:\n",
    "        total_rewards.pop(0)\n",
    "\n",
    "clear_output(wait=True)\n",
    "print(f\"loss: {loss}. Mean total reward: {mean(total_rewards)}\")\n",
    "plt.plot(total_rewards)\n",
    "plt.plot(running_average(total_rewards))\n",
    "plt.show()"
   ],
   "metadata": {
    "collapsed": false,
    "pycharm": {
     "name": "#%%\n"
    }
   }
  },
  {
   "cell_type": "code",
   "execution_count": 335,
   "outputs": [
    {
     "name": "stdout",
     "output_type": "stream",
     "text": [
      "Total of: 1 agents\n",
      "tensor([[-0.9580, -0.3120, -0.2828,  0.1436],\n",
      "        [-0.9184, -2.8424, -0.8167,  0.4843],\n",
      "        [-2.1922,  2.9781, -1.6350, -5.8470],\n",
      "        [-1.6450,  6.3687,  1.9850,  5.0101],\n",
      "        [-0.1670,  1.4488, -3.5070,  0.1933],\n",
      "        [ 0.3482,  0.4908, -0.0913, -0.1252],\n",
      "        [ 1.1303, -7.1345,  0.6171, -5.6739],\n",
      "        [-1.2939, -6.1549,  0.3190,  3.3671]])\n"
     ]
    }
   ],
   "source": [
    "# Use this to append an agent\n",
    "original = agent\n",
    "agents.append(copy(agent))\n",
    "print(f\"Total of: {len(agents)} agents\")\n",
    "save(agents, \"./saved_data/saved_agents.pt\")\n",
    "\n",
    "for agent in agents:\n",
    "    print(list(agent.nn.parameters())[0].data)\n",
    "\n",
    "agent = original"
   ],
   "metadata": {
    "collapsed": false,
    "pycharm": {
     "name": "#%%\n"
    }
   }
  },
  {
   "cell_type": "markdown",
   "source": [
    "Now we have our agents, let's run the evaluator"
   ],
   "metadata": {
    "collapsed": false,
    "pycharm": {
     "name": "#%% md\n"
    }
   }
  },
  {
   "cell_type": "code",
   "execution_count": 31,
   "outputs": [
    {
     "data": {
      "text/plain": "tensor(0.0831)"
     },
     "execution_count": 31,
     "metadata": {},
     "output_type": "execute_result"
    }
   ],
   "source": [
    "for agent in agents:\n",
    "    agent.eval = True\n",
    "\n",
    "weights = [0.1, 0.2, 0.3, 0.4]\n",
    "oracle = QEvaluator(env, 2, agents, weights, num_evaluations=1, max_trajectory_length=20)\n",
    "oracle(env.get_starting_state())"
   ],
   "metadata": {
    "collapsed": false,
    "pycharm": {
     "name": "#%%\n"
    }
   }
  },
  {
   "cell_type": "markdown",
   "source": [
    "### Evaluators comparison"
   ],
   "metadata": {
    "collapsed": false,
    "pycharm": {
     "name": "#%% md\n"
    }
   }
  },
  {
   "cell_type": "code",
   "execution_count": 349,
   "outputs": [
    {
     "name": "stdout",
     "output_type": "stream",
     "text": [
      "tensor([[-0.9580, -0.3120, -0.2828,  0.1436],\n",
      "        [-0.9184, -2.8424, -0.8167,  0.4843],\n",
      "        [-2.1922,  2.9781, -1.6350, -5.8470],\n",
      "        [-1.6450,  6.3687,  1.9850,  5.0101],\n",
      "        [-0.1670,  1.4488, -3.5070,  0.1933],\n",
      "        [ 0.3482,  0.4908, -0.0913, -0.1252],\n",
      "        [ 1.1303, -7.1345,  0.6171, -5.6739],\n",
      "        [-1.2939, -6.1549,  0.3190,  3.3671]])\n",
      "Difficulty evaluation of the same random state:\n",
      "State: tensor([ 0.5405, -0.0500,  0.0000, -0.3971])\n",
      "\n",
      "Heuristic: 0.1783\n",
      "Trajectory Rewards: 0.2692\n",
      "Q-Evaluator: 0.2485\n",
      "\n",
      "Difficulty of several states:\n",
      "H: tensor([0.4632, 0.0411, 0.6527, 0.0563, 0.1370])\n",
      "R: tensor([0.8203, 0.1481, 0.8236, 0.6697, 0.0755])\n",
      "Q: tensor([0.1033, 0.1214, 0.0233, 0.0263, 0.0215])\n",
      "\n",
      "Difficulty of the whole range\n",
      "Evaluating 1/26...\n",
      "Evaluating 2/26...\n",
      "Evaluating 3/26...\n",
      "Evaluating 4/26...\n",
      "Evaluating 5/26...\n",
      "Evaluating 6/26...\n",
      "Evaluating 7/26...\n",
      "Evaluating 8/26...\n",
      "Evaluating 9/26...\n",
      "Evaluating 10/26...\n",
      "Evaluating 11/26...\n",
      "Evaluating 12/26...\n",
      "Evaluating 13/26...\n",
      "Evaluating 14/26...\n",
      "Evaluating 15/26...\n",
      "Evaluating 16/26...\n",
      "Evaluating 17/26...\n",
      "Evaluating 18/26...\n",
      "Evaluating 19/26...\n",
      "Evaluating 20/26...\n",
      "Evaluating 21/26...\n",
      "Evaluating 22/26...\n",
      "Evaluating 23/26...\n",
      "Evaluating 24/26...\n",
      "Evaluating 25/26...\n",
      "Evaluating 26/26...\n",
      "Done\n"
     ]
    }
   ],
   "source": [
    "# Heuristic evaluator\n",
    "oracle_h = HeuristicPendulumEvaluator(connector_length, max_angle, enemy_radius, bob_radius)\n",
    "\n",
    "# Trajectory rewards evaluator\n",
    "skills = [1.0, 0.5, 0.0]\n",
    "weights = [0.5, 0.25, 0.25]\n",
    "agents = [HeuristicPendulumActor(enemy_radius, bob_radius, connector_length, enemy_y, skill=skill) for skill in skills]\n",
    "oracle_r = TrajectoryRewardsEvaluator(env, agents, weights, num_evaluations=10, max_trajectory_length=20)\n",
    "\n",
    "# Q-Evaluator\n",
    "agents = load(\"./saved_data/saved_agents.pt\")\n",
    "for agent in agents:\n",
    "    agent.eval = True\n",
    "    print(list(agent.nn.parameters())[0].data)\n",
    "\n",
    "weights = [1.0]\n",
    "oracle_q = QEvaluator(env, agents, weights, num_evaluations=1, max_trajectory_length=20)\n",
    "\n",
    "print(\"Difficulty evaluation of the same random state:\")\n",
    "\n",
    "state = env.get_starting_state()\n",
    "print(f\"State: {state}\")\n",
    "print()\n",
    "\n",
    "print(f\"Heuristic: {oracle_h(state).item():.4f}\")\n",
    "print(f\"Trajectory Rewards: {oracle_r(state).item():.4f}\")\n",
    "print(f\"Q-Evaluator: {oracle_q(state).item():.4f}\")\n",
    "\n",
    "print()\n",
    "print(\"Difficulty of several states:\")\n",
    "\n",
    "states = torch.vstack([env.get_starting_state() for _ in range(5)])\n",
    "print(f\"H: {oracle_h(states)}\")\n",
    "print(f\"R: {oracle_r(states)}\")\n",
    "print(f\"Q: {oracle_q(states)}\")\n",
    "\n",
    "print()\n",
    "print(\"Difficulty of the whole range\")\n",
    "\n",
    "states = []\n",
    "# evaluations_h = []\n",
    "# evaluations_r = []\n",
    "evaluations_q = []\n",
    "state = env.get_starting_state()\n",
    "num_states = 26\n",
    "for i, x in enumerate(torch.linspace(enemy_x_min, enemy_x_max, num_states)):\n",
    "    print(f\"Evaluating {i + 1}/{num_states}...\")\n",
    "    s = state.clone()\n",
    "    s.enemy_x = x\n",
    "    states.append(x)\n",
    "\n",
    "    evaluations_h.append(oracle_h(s))\n",
    "    evaluations_r.append(oracle_r(s))\n",
    "    evaluations_q.append(oracle_q(s))\n",
    "\n",
    "print(\"Done\")"
   ],
   "metadata": {
    "collapsed": false,
    "pycharm": {
     "name": "#%%\n"
    }
   }
  },
  {
   "cell_type": "code",
   "execution_count": 350,
   "outputs": [
    {
     "name": "stdout",
     "output_type": "stream",
     "text": [
      "PendulumState(\n",
      "  angle: 0.52,\n",
      "  angular_speed: -0.05,\n",
      "  vertical_position: 0.00,\n",
      "  enemies: -0.03\n",
      ")\n",
      "[tensor(0.0191), tensor(0.0190), tensor(0.0189), tensor(0.0186), tensor(0.0153), tensor(0.0169), tensor(0.0226), tensor(0.0271), tensor(0.0358), tensor(0.0490), tensor(0.1031), tensor(0.0874), tensor(0.1100), tensor(0.1329), tensor(0.0651), tensor(0.0489), tensor(0.0450), tensor(0.0452), tensor(0.0198), tensor(0.0207), tensor(0.0221), tensor(0.0231), tensor(0.0255), tensor(0.0257), tensor(0.0251), tensor(0.0242)]\n"
     ]
    },
    {
     "data": {
      "text/plain": "<Figure size 432x288 with 1 Axes>",
      "image/png": "[encoded data removed]"
     },
     "metadata": {
      "needs_background": "dark"
     },
     "output_type": "display_data"
    }
   ],
   "source": [
    "print(state.to_string())\n",
    "print(evaluations_q)\n",
    "plt.plot(states, evaluations_h)\n",
    "plt.plot(states, evaluations_r)\n",
    "plt.plot(states, evaluations_q)\n",
    "plt.legend([\"Heuristic\", \"Rewards\", \"Q\"])\n",
    "plt.tight_layout()\n",
    "plt.show()\n"
   ],
   "metadata": {
    "collapsed": false,
    "pycharm": {
     "name": "#%%\n"
    }
   }
  }
 ],
 "metadata": {
  "kernelspec": {
   "display_name": "Python 3",
   "language": "python",
   "name": "python3"
  },
  "language_info": {
   "codemirror_mode": {
    "name": "ipython",
    "version": 2
   },
   "file_extension": ".py",
   "mimetype": "text/x-python",
   "name": "python",
   "nbconvert_exporter": "python",
   "pygments_lexer": "ipython2",
   "version": "2.7.6"
  }
 },
 "nbformat": 4,
 "nbformat_minor": 0
}