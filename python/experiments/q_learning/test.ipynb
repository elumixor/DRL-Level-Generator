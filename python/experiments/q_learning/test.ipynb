{
 "cells": [
  {
   "cell_type": "code",
   "execution_count": 1,
   "metadata": {
    "collapsed": true
   },
   "outputs": [],
   "source": [
    "\n",
    "import time\n",
    "\n",
    "import matplotlib.pyplot as plt\n",
    "import torch\n",
    "from IPython.core.display import clear_output\n",
    "from torch.nn import functional as F\n",
    "from torch.optim import Adam\n",
    "\n",
    "from environments import PendulumEnv\n",
    "from environments.pendulum import State\n",
    "from environments.pendulum.state import size as state_size\n",
    "from evaluators.direct_actor import SWITCH, NOP\n",
    "from shared_parameters import *\n",
    "from utils import MLP, EpsilonDecay, MemoryBuffer, running_average"
   ]
  },
  {
   "cell_type": "code",
   "execution_count": 2,
   "outputs": [],
   "source": [
    "env = PendulumEnv(step_reward=1.0, action_cost=0.1, death_cost=100.0)\n",
    "\n",
    "x = enemy_x\n",
    "\n",
    "\n",
    "def get_starting_state():\n",
    "    return State(bob_radius=bob_radius, max_angle=max_angle, connector_length=0.4, vertical_speed=0.05,\n",
    "                 current_angle=current_angle, position=position, angular_speed=0.25,\n",
    "                 enemy_radius=enemy_radius, enemy_x=x, enemy_y=enemy_y)"
   ],
   "metadata": {
    "collapsed": false,
    "pycharm": {
     "name": "#%%\n"
    }
   }
  },
  {
   "cell_type": "markdown",
   "source": [
    "Let's define a NN.\n",
    "\n",
    "Maps $state \\times action \\rightarrow \\text{Q-value}$"
   ],
   "metadata": {
    "collapsed": false,
    "pycharm": {
     "name": "#%% md\n"
    }
   }
  },
  {
   "cell_type": "code",
   "execution_count": 3,
   "outputs": [
    {
     "name": "stdout",
     "output_type": "stream",
     "text": [
      "Sample input:\n",
      "tensor([[0.1000, 0.8727, 0.4000, 0.0500, 0.0000, 0.0000, 0.2500, 0.1000, 0.1000,\n",
      "         0.2500]])\n",
      "\n",
      "Sample Q-values:\n",
      "tensor([[-0.4940,  0.3070]], grad_fn=<AddmmBackward>)\n"
     ]
    }
   ],
   "source": [
    "num_actions = 2\n",
    "\n",
    "q_net = MLP(state_size, num_actions, [6, 8, 4])\n",
    "\n",
    "optim = Adam(q_net.parameters(), lr=0.01)\n",
    "scheduler = torch.optim.lr_scheduler.StepLR(optim, 100)\n",
    "\n",
    "sample_input = torch.from_numpy(get_starting_state()).unsqueeze(0)\n",
    "print(\"Sample input:\")\n",
    "print(sample_input)\n",
    "\n",
    "sample_q_values = q_net(sample_input)\n",
    "print()\n",
    "print(\"Sample Q-values:\")\n",
    "print(sample_q_values)"
   ],
   "metadata": {
    "collapsed": false,
    "pycharm": {
     "name": "#%%\n"
    }
   }
  },
  {
   "cell_type": "markdown",
   "source": [
    "How to train your dqn?\n",
    "\n",
    "Predictions should correspond with the total discounted rewards."
   ],
   "metadata": {
    "collapsed": false,
    "pycharm": {
     "name": "#%% md\n"
    }
   },
   "outputs": [
    {
     "name": "stdout",
     "output_type": "stream",
     "text": [
      "Object `dqn` not found.\n"
     ]
    },
    {
     "ename": "NameError",
     "evalue": "name 'The' is not defined",
     "output_type": "error",
     "traceback": [
      "\u001B[1;31m---------------------------------------------------------------------------\u001B[0m",
      "\u001B[1;31mNameError\u001B[0m                                 Traceback (most recent call last)",
      "\u001B[1;32m<ipython-input-12-95bf5ed8dddf>\u001B[0m in \u001B[0;36m<module>\u001B[1;34m\u001B[0m\n\u001B[0;32m      1\u001B[0m \u001B[0mget_ipython\u001B[0m\u001B[1;33m(\u001B[0m\u001B[1;33m)\u001B[0m\u001B[1;33m.\u001B[0m\u001B[0mrun_line_magic\u001B[0m\u001B[1;33m(\u001B[0m\u001B[1;34m'pinfo'\u001B[0m\u001B[1;33m,\u001B[0m \u001B[1;34m'dqn'\u001B[0m\u001B[1;33m)\u001B[0m\u001B[1;33m\u001B[0m\u001B[1;33m\u001B[0m\u001B[0m\n\u001B[0;32m      2\u001B[0m \u001B[1;33m\u001B[0m\u001B[0m\n\u001B[1;32m----> 3\u001B[1;33m \u001B[0mThe\u001B[0m\u001B[1;33m\u001B[0m\u001B[1;33m\u001B[0m\u001B[0m\n\u001B[0m\u001B[0;32m      4\u001B[0m \u001B[1;33m\u001B[0m\u001B[0m\n",
      "\u001B[1;31mNameError\u001B[0m: name 'The' is not defined"
     ]
    }
   ],
   "execution_count": 12
  },
  {
   "cell_type": "code",
   "execution_count": 4,
   "outputs": [
    {
     "name": "stdout",
     "output_type": "stream",
     "text": [
      "Total reward: 18.9. Total average: -65.86186335403728\n",
      "E. 3 Loss: 620.0148315429688. Epsilon: 0.9980\n"
     ]
    }
   ],
   "source": [
    "from environments.pendulum.state import enemy_x as s_enemy_x\n",
    "from random import random\n",
    "\n",
    "max_episode_length = 20\n",
    "\n",
    "q_net = MLP(state_size, num_actions, [6, 8, 4])\n",
    "optim = Adam(q_net.parameters(), lr=0.01)\n",
    "\n",
    "# Create a target network as well\n",
    "target_q_net = MLP(state_size, num_actions, [6, 8, 4])\n",
    "for p, p_target in zip(q_net.parameters(), target_q_net.parameters()):\n",
    "    p_target.data = p.data\n",
    "    p_target.requires_grad = False\n",
    "\n",
    "polyak = 0.95\n",
    "\n",
    "# Default starting state\n",
    "start_state = get_starting_state()\n",
    "\n",
    "memory = MemoryBuffer(capacity=10000)\n",
    "\n",
    "# Epsilon for epsilon greedy strategy\n",
    "epsilon = EpsilonDecay(iterations=1000)\n",
    "\n",
    "discount = 0.995\n",
    "epoch = 1\n",
    "\n",
    "\n",
    "def train(verbose=False):\n",
    "    global epoch\n",
    "    training_sample = memory.sample(500)\n",
    "\n",
    "    states, actions, rewards, next_states, dones = zip(*training_sample)\n",
    "\n",
    "    states = torch.tensor(states)\n",
    "    next_states = torch.tensor(next_states)\n",
    "    dones = torch.tensor(dones).unsqueeze(-1)\n",
    "    rewards = torch.tensor(rewards).unsqueeze(-1)\n",
    "\n",
    "    q = q_net(states)\n",
    "    q = q[range(q.shape[0]), actions].unsqueeze(-1)\n",
    "\n",
    "    v = target_q_net(next_states).max(dim=-1, keepdim=True)[0]\n",
    "\n",
    "    y = rewards + dones * discount * v\n",
    "\n",
    "    loss = F.mse_loss(q, y)\n",
    "\n",
    "    optim.zero_grad()\n",
    "    loss.backward()\n",
    "    optim.step()\n",
    "\n",
    "    # Update target q net with polyak averaging\n",
    "    for p, p_target in zip(q_net.parameters(), target_q_net.parameters()):\n",
    "        p_target.data = p_target.data * polyak + p.data * (1 - polyak)\n",
    "\n",
    "        # Updated epsilon\n",
    "    epsilon.decay()\n",
    "\n",
    "    if verbose:\n",
    "        print(f\"E. {epoch} Loss: {loss.item()}. Epsilon: {epsilon.value:>5.4f}\")\n",
    "\n",
    "    epoch += 1\n",
    "\n",
    "\n",
    "total_rewards = []\n",
    "\n",
    "\n",
    "def play_episode(render=False):\n",
    "    episode = []\n",
    "\n",
    "    # Randomize enemy position\n",
    "    state = start_state\n",
    "    state[s_enemy_x] = random() * (0.3 - -0.3) + -0.3\n",
    "\n",
    "    step = 0\n",
    "    done = False\n",
    "    total_reward = 0\n",
    "    while not done and step < max_episode_length:\n",
    "        if render:\n",
    "            env.render(state)\n",
    "            time.sleep(0.01)\n",
    "\n",
    "        q_values = q_net(torch.from_numpy(state))\n",
    "\n",
    "        if random() < epsilon.value:\n",
    "            action = NOP if random() > 0.5 else SWITCH\n",
    "        else:\n",
    "            action = torch.argmax(q_values).item()\n",
    "\n",
    "        next_state, reward, done = env.transition(state, action)\n",
    "\n",
    "        memory.push((state, action, reward, next_state, done))\n",
    "        total_reward += reward\n",
    "\n",
    "        if memory.is_full:\n",
    "            train(step == 0)\n",
    "\n",
    "        state = next_state\n",
    "\n",
    "        step += 1\n",
    "\n",
    "    clear_output(True)\n",
    "    total_rewards.append(total_reward)\n",
    "    if len(total_rewards) > 1000:\n",
    "        total_rewards.pop(0)\n",
    "\n",
    "    print(f\"Total reward: {total_reward}. Total average: {sum(total_rewards) / len(total_rewards)}\")\n",
    "    return episode\n",
    "\n",
    "\n",
    "while not memory.is_full:\n",
    "    episode = play_episode()\n",
    "\n",
    "try:\n",
    "    train(verbose=True)\n",
    "except KeyboardInterrupt:\n",
    "    ..."
   ],
   "metadata": {
    "collapsed": false,
    "pycharm": {
     "name": "#%%\n"
    }
   }
  },
  {
   "cell_type": "code",
   "execution_count": 19,
   "outputs": [
    {
     "name": "stdout",
     "output_type": "stream",
     "text": [
      "Total reward: 18.1. Total average: 6.6065000000000085\n"
     ]
    },
    {
     "data": {
      "text/plain": "<Figure size 432x288 with 1 Axes>",
      "image/png": "[encoded data removed]"
     },
     "metadata": {
      "needs_background": "light"
     },
     "output_type": "display_data"
    }
   ],
   "source": [
    "try:\n",
    "    for i in range(100):\n",
    "        play_episode(False)\n",
    "\n",
    "    plt.plot(total_rewards)\n",
    "    plt.plot(running_average(total_rewards))\n",
    "    plt.show()\n",
    "except KeyboardInterrupt:\n",
    "    ..."
   ],
   "metadata": {
    "collapsed": false,
    "pycharm": {
     "name": "#%%\n"
    }
   }
  }
 ],
 "metadata": {
  "kernelspec": {
   "display_name": "Python 3",
   "language": "python",
   "name": "python3"
  },
  "language_info": {
   "codemirror_mode": {
    "name": "ipython",
    "version": 2
   },
   "file_extension": ".py",
   "mimetype": "text/x-python",
   "name": "python",
   "nbconvert_exporter": "python",
   "pygments_lexer": "ipython2",
   "version": "2.7.6"
  }
 },
 "nbformat": 4,
 "nbformat_minor": 0
}