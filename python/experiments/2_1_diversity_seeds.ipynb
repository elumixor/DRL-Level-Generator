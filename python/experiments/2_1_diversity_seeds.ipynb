{
 "cells": [
  {
   "cell_type": "markdown",
   "source": [
    "# Diversity\n",
    "\n",
    "For this experiment, we will want to find multiple different levels with the same difficulty."
   ],
   "metadata": {
    "collapsed": false
   }
  },
  {
   "cell_type": "code",
   "execution_count": 1,
   "metadata": {
    "pycharm": {
     "name": "#%%\n"
    }
   },
   "outputs": [],
   "source": [
    "import matplotlib.pyplot as plt\n",
    "import torch\n",
    "from IPython.core.display import clear_output\n",
    "from matplotlib import cm\n",
    "from torch.nn import LeakyReLU, functional as F\n",
    "from torch.optim import Adam\n",
    "\n",
    "from evaluators import DirectEvaluator\n",
    "from helpers import set_matplotlib_colors\n",
    "from shared_parameters import *\n",
    "from utils import MLP\n",
    "\n",
    "torch.set_printoptions(linewidth=120, sci_mode=False)"
   ]
  },
  {
   "cell_type": "markdown",
   "source": [
    "Let's define our components.\n",
    "\n",
    "Here our generator NN will define the *offset* from the point in space, that is\n",
    "also fed in as an input to the generator."
   ],
   "metadata": {
    "collapsed": false,
    "pycharm": {
     "name": "#%% md\n"
    }
   }
  },
  {
   "cell_type": "code",
   "execution_count": 2,
   "outputs": [],
   "source": [
    "# MLP's input is 2 -> one for the difficulty,\n",
    "# and one for the embedding space\n",
    "class Generator(MLP):\n",
    "    def __init__(self, embedding_size: int, hidden=None, activation=None):\n",
    "        super().__init__(1 + embedding_size, 1, hidden=hidden, activation=activation)\n",
    "\n",
    "        # We then need to initialize the network to output zero offsets initially\n",
    "        # We'll do that by simply zeroing the weights\n",
    "        for p in self.parameters():\n",
    "            p.data.mul_(0.1)\n",
    "\n",
    "    def forward(self, x):\n",
    "        # Generate the offset\n",
    "        offset = super().forward(x)\n",
    "        # Add to the starting point\n",
    "        return x[:, 1:] + offset\n",
    "\n",
    "\n",
    "# We'll define simple remapping function that will map out outputs from\n",
    "def remap(x):\n",
    "    return x * (enemy_x_max - enemy_x_min) + enemy_x_min"
   ],
   "metadata": {
    "collapsed": false,
    "pycharm": {
     "name": "#%%\n"
    }
   }
  },
  {
   "cell_type": "markdown",
   "source": [
    "Let's see how this looks (as an interactive 3d plot)"
   ],
   "metadata": {
    "collapsed": false,
    "pycharm": {
     "name": "#%% md\n"
    }
   }
  },
  {
   "cell_type": "code",
   "execution_count": 3,
   "outputs": [
    {
     "name": "stdout",
     "output_type": "stream",
     "text": [
      "tensor([[-0.0064,  0.1047,  0.2158,  0.3269,  0.4380,  0.5491,  0.6603,  0.7714,  0.8825,  0.9936],\n",
      "        [-0.0064,  0.1047,  0.2158,  0.3269,  0.4380,  0.5491,  0.6603,  0.7714,  0.8825,  0.9936],\n",
      "        [-0.0064,  0.1047,  0.2158,  0.3269,  0.4380,  0.5491,  0.6603,  0.7714,  0.8825,  0.9936],\n",
      "        [-0.0064,  0.1047,  0.2158,  0.3269,  0.4380,  0.5491,  0.6603,  0.7714,  0.8825,  0.9936],\n",
      "        [-0.0064,  0.1047,  0.2158,  0.3269,  0.4380,  0.5491,  0.6603,  0.7714,  0.8825,  0.9936],\n",
      "        [-0.0064,  0.1047,  0.2158,  0.3269,  0.4380,  0.5491,  0.6603,  0.7714,  0.8825,  0.9936],\n",
      "        [-0.0065,  0.1047,  0.2158,  0.3269,  0.4380,  0.5491,  0.6603,  0.7714,  0.8825,  0.9936],\n",
      "        [-0.0065,  0.1047,  0.2158,  0.3269,  0.4380,  0.5491,  0.6603,  0.7714,  0.8825,  0.9936],\n",
      "        [-0.0065,  0.1046,  0.2158,  0.3269,  0.4380,  0.5491,  0.6602,  0.7714,  0.8825,  0.9936],\n",
      "        [-0.0065,  0.1046,  0.2158,  0.3269,  0.4380,  0.5491,  0.6602,  0.7714,  0.8825,  0.9936]])\n"
     ]
    },
    {
     "data": {
      "text/plain": "<Figure size 432x288 with 2 Axes>",
      "image/png": "[encoded data removed]"
     },
     "metadata": {
      "needs_background": "light"
     },
     "output_type": "display_data"
    }
   ],
   "source": [
    "generator = Generator(embedding_size=1, hidden=[2, 2], activation=LeakyReLU())\n",
    "\n",
    "difficulties = torch.linspace(0, 1, 10)\n",
    "x = torch.linspace(0, 1, 10)\n",
    "dataset = torch.cartesian_prod(difficulties, x)\n",
    "\n",
    "with torch.no_grad():\n",
    "    generated_states = generator(dataset)\n",
    "    print(generated_states.reshape((10, 10)))\n",
    "\n",
    "    # Generated states should repeat\n",
    "    repeated_x = x.repeat(difficulties.shape[0])\n",
    "\n",
    "    # ...and should be the same initially, as the input states\n",
    "    # assert torch.all(generated_states == repeated_x.unsqueeze(-1))\n",
    "\n",
    "fig, ax = plt.subplots(subplot_kw={\"projection\": \"3d\"})\n",
    "m_difficulties, m_x = np.meshgrid(remap(x), difficulties)\n",
    "m_reshaped = generated_states.reshape((difficulties.shape[0], -1)).numpy()\n",
    "\n",
    "surf = ax.plot_surface(m_x, m_difficulties, m_reshaped, cmap=cm.coolwarm, linewidth=0, antialiased=False)\n",
    "ax.set_xlabel(\"Difficulty\")\n",
    "ax.set_ylabel(\"x\")\n",
    "ax.set_zlabel(\"x\")\n",
    "# Add a color bar which maps values to colors.\n",
    "fig.colorbar(surf, shrink=0.5, aspect=5)\n",
    "plt.tight_layout()\n",
    "plt.show()"
   ],
   "metadata": {
    "collapsed": false,
    "pycharm": {
     "name": "#%%\n"
    }
   }
  },
  {
   "cell_type": "markdown",
   "source": [
    "Good, now let's try training our generator"
   ],
   "metadata": {
    "collapsed": false,
    "pycharm": {
     "name": "#%% md\n"
    }
   }
  },
  {
   "cell_type": "code",
   "execution_count": 4,
   "outputs": [],
   "source": [
    "oracle = DirectEvaluator(connector_length, max_angle, enemy_radius, bob_radius)\n",
    "\n",
    "evaluator = MLP(1, 1, [2, 2], activation=LeakyReLU())\n",
    "\n",
    "optim_generator = Adam(generator.parameters(), lr=0.001)\n",
    "optim_evaluator = Adam(evaluator.parameters(), lr=0.001)"
   ],
   "metadata": {
    "collapsed": false,
    "pycharm": {
     "name": "#%%\n"
    }
   }
  },
  {
   "cell_type": "markdown",
   "source": [
    "Preview of the embedding space and difficulties"
   ],
   "metadata": {
    "collapsed": false,
    "pycharm": {
     "name": "#%% md\n"
    }
   }
  },
  {
   "cell_type": "code",
   "execution_count": 5,
   "outputs": [
    {
     "data": {
      "text/plain": "<Figure size 432x288 with 1 Axes>",
      "image/png": "[encoded data removed]"
     },
     "metadata": {
      "needs_background": "light"
     },
     "output_type": "display_data"
    }
   ],
   "source": [
    "%matplotlib inline\n",
    "\n",
    "enemy_x = np.linspace(enemy_x_min, enemy_x_max, 100)\n",
    "evaluation = oracle(enemy_x)\n",
    "\n",
    "axs = plt.subplot()\n",
    "\n",
    "axs.plot(enemy_x, evaluation)\n",
    "axs.set_xlabel(\"Enemy X\")\n",
    "axs.set_ylabel(\"Difficulty\")\n",
    "axs.legend([\"Oracle's difficulty evaluation\"])\n",
    "plt.tight_layout()\n",
    "\n",
    "plt.show()"
   ],
   "metadata": {
    "collapsed": false,
    "pycharm": {
     "name": "#%%\n"
    }
   }
  },
  {
   "cell_type": "markdown",
   "source": [
    "We see that for the same difficulty, there exist several levels, that have the same difficulty.\n",
    "However, with the way we've set up our generators, they can only output a single level for the given difficulty.\n",
    "\n",
    "Now let's give the generator two inputs: the input difficulty $d_{in}$, as well the seed $\\epsilon$\n",
    "\n",
    "    Let's try with the simultaneous learning first"
   ],
   "metadata": {
    "collapsed": false,
    "pycharm": {
     "name": "#%% md\n"
    }
   }
  },
  {
   "cell_type": "code",
   "execution_count": 6,
   "outputs": [],
   "source": [
    "oracle = DirectEvaluator(connector_length, max_angle, enemy_radius, bob_radius)\n",
    "generator = Generator(embedding_size=1, hidden=[8, 8], activation=LeakyReLU())\n",
    "optim_generator = Adam(generator.parameters(), lr=0.001, weight_decay=0.0001)\n",
    "\n",
    "num_difficulties = 100\n",
    "num_seeds = 100\n",
    "\n",
    "# Our dataset of [difficulty, seed] inputs\n",
    "difficulties = torch.linspace(0, 1, num_difficulties)\n",
    "seeds = torch.linspace(0, 1, num_seeds)\n",
    "dataset = torch.cartesian_prod(difficulties, seeds)\n",
    "\n",
    "iteration = 0\n",
    "loss_evaluator = float(\"inf\")\n",
    "\n",
    "\n",
    "def iterate(verbose=False):\n",
    "    global dataset, iteration\n",
    "    indices = torch.randperm(dataset.shape[0])[:15]\n",
    "    inputs = dataset[indices]\n",
    "\n",
    "    states = generator(inputs)\n",
    "    d_out = oracle(remap(states))\n",
    "\n",
    "    d_in = inputs[:, :1]\n",
    "    _seeds = inputs[:, 1:]\n",
    "\n",
    "    seeds_difference = torch.norm(_seeds.unsqueeze(0) - _seeds.unsqueeze(1), dim=-1)\n",
    "    states_difference = torch.norm(states.unsqueeze(0) - states.unsqueeze(1), dim=-1)\n",
    "\n",
    "    difference = (seeds_difference * states_difference).mean() / 2\n",
    "\n",
    "    loss_generator = F.l1_loss(d_in, d_out)\n",
    "    loss = loss_generator - 0.15 * difference\n",
    "\n",
    "    # Update the generator\n",
    "    optim_generator.zero_grad()\n",
    "    loss.backward()\n",
    "    optim_generator.step()\n",
    "\n",
    "    iteration += 1\n",
    "\n",
    "    if verbose:\n",
    "        clear_output(wait=True)\n",
    "        print(f\"It.: {iteration}, \"\n",
    "              f\"(G) {loss_generator.item():.5f} \"\n",
    "              f\"(diff) {difference.item():.5f}\")\n",
    "\n",
    "        print(\"Parameters:\")\n",
    "        for p in generator.parameters():\n",
    "            print(p.data)\n",
    "\n",
    "        difficulties = torch.linspace(0, 1, 10)\n",
    "        seeds = torch.linspace(0, 1, 10)\n",
    "        dataset = torch.cartesian_prod(difficulties, seeds)\n",
    "\n",
    "        generated_states = generator(dataset).detach()\n",
    "\n",
    "        d_out = oracle(remap(generated_states))\n",
    "\n",
    "        collected = torch.hstack((dataset, generated_states, d_out))\n",
    "\n",
    "        fix, ax = plt.subplots()\n",
    "\n",
    "        for i in range(seeds.shape[0]):\n",
    "            selected = collected[i::difficulties.shape[0], :]\n",
    "            ds, xs = selected[:, 0], selected[:, 2]\n",
    "            # print(selected)\n",
    "            # print()\n",
    "            ax.plot(remap(xs), ds)\n",
    "\n",
    "        ax.plot(remap(seeds), oracle(remap(seeds)))\n",
    "\n",
    "        ax.legend([*[f\"Seed {seed}\" for seed in seeds], \"Actual\"])\n",
    "        plt.tight_layout()\n",
    "\n",
    "        plt.show()\n",
    "\n",
    "\n",
    "iterate()"
   ],
   "metadata": {
    "collapsed": false,
    "pycharm": {
     "name": "#%%\n"
    }
   }
  },
  {
   "cell_type": "code",
   "execution_count": 11,
   "outputs": [
    {
     "name": "stdout",
     "output_type": "stream",
     "text": [
      "It.: 4061, (G) 0.00108 (diff) 0.02512\n",
      "Parameters:\n",
      "tensor([[ 0.1268,  0.4318],\n",
      "        [ 0.2196, -0.1437],\n",
      "        [ 0.2090, -0.1331],\n",
      "        [ 0.0930,  0.3444],\n",
      "        [ 0.0444,  0.4475],\n",
      "        [-0.1039, -0.1582],\n",
      "        [ 0.0526,  0.4748],\n",
      "        [ 0.2943, -0.1949]])\n",
      "tensor([ 0.1475,  0.1436,  0.1329,  0.1399,  0.1260, -0.1864,  0.1139,  0.1948])\n",
      "tensor([[-0.0036,  0.3961,  0.3634,  0.0080, -0.0655, -0.0586, -0.0755,  0.4212],\n",
      "        [-0.0072,  0.2297,  0.2267,  0.0218, -0.0355, -0.0400, -0.0467,  0.2276],\n",
      "        [ 0.3253, -0.3295, -0.2206,  0.2588,  0.3556, -0.1563,  0.3714, -0.4778],\n",
      "        [-0.0040,  0.2670,  0.2453,  0.0289, -0.0531, -0.0605, -0.0659,  0.3142],\n",
      "        [-0.0081,  0.4319,  0.3236, -0.0420, -0.0605, -0.0472, -0.0602,  0.4512],\n",
      "        [ 0.3133, -0.3198, -0.2132,  0.2645,  0.3554, -0.1534,  0.3947, -0.4929],\n",
      "        [ 0.3159, -0.3339, -0.2303,  0.2653,  0.3833, -0.1517,  0.3679, -0.4980],\n",
      "        [-0.0042,  0.2715,  0.2528,  0.0256, -0.0463, -0.0570, -0.0584,  0.3163]])\n",
      "tensor([0.0796, 0.0410, 0.1653, 0.0569, 0.0946, 0.1718, 0.1758, 0.0504])\n",
      "tensor([[ 0.3368,  0.1916, -0.3431,  0.2543,  0.2657, -0.3265, -0.3133,  0.2467]])\n",
      "tensor([-0.0323])\n"
     ]
    },
    {
     "data": {
      "text/plain": "<Figure size 432x288 with 1 Axes>",
      "image/png": "[encoded data removed]"
     },
     "metadata": {
      "needs_background": "light"
     },
     "output_type": "display_data"
    }
   ],
   "source": [
    "%matplotlib inline\n",
    "try:\n",
    "    for _ in range(100):\n",
    "        for _ in range(50):\n",
    "            iterate()\n",
    "        iterate(True)\n",
    "except KeyboardInterrupt:\n",
    "    pass\n",
    "\n",
    "iterate(True)"
   ],
   "metadata": {
    "collapsed": false,
    "pycharm": {
     "name": "#%%\n"
    }
   }
  },
  {
   "cell_type": "code",
   "execution_count": 7,
   "outputs": [
    {
     "name": "stderr",
     "output_type": "stream",
     "text": [
      "UsageError: Line magic function `%` not found.\n"
     ]
    }
   ],
   "source": [
    "import matplotlib\n",
    "% pylab\n",
    "import matplotlib.pyplot as plt\n",
    "\n",
    "set_matplotlib_colors(matplotlib)\n",
    "\n",
    "fig, ax = plt.subplots(subplot_kw={\"projection\": \"3d\"})\n",
    "\n",
    "m_difficulties, m_x = np.meshgrid(x, difficulties)\n",
    "m_reshaped = generated_states.reshape((difficulties.shape[0], -1)).numpy()\n",
    "\n",
    "print(m_reshaped)\n",
    "\n",
    "surf = ax.plot_surface(m_x, m_difficulties, m_reshaped, cmap=cm.coolwarm, linewidth=0, antialiased=False)\n",
    "ax.set_xlabel(\"Difficulty\")\n",
    "ax.set_ylabel(\"x\")\n",
    "ax.set_zlabel(\"x\")\n",
    "# Add a color bar which maps values to colors.\n",
    "fig.colorbar(surf, shrink=0.5, aspect=5)\n",
    "plt.tight_layout()\n",
    "plt.show()"
   ],
   "metadata": {
    "collapsed": false,
    "pycharm": {
     "name": "#%%\n"
    }
   }
  },
  {
   "cell_type": "code",
   "execution_count": null,
   "outputs": [],
   "source": [
    "% matplotlib inline\n",
    "# %pylab\n",
    "fig, axs = plt.subplots()\n",
    "\n",
    "for i in range(15):\n",
    "    selected = generated_states[i * 10:(i + 1) * 10].flatten()\n",
    "    print(difficulties)\n",
    "    print(oracle(selected))\n",
    "    print(F.mse_loss(difficulties, oracle(selected)))\n",
    "    print()\n",
    "    axs.plot(selected, difficulties)\n",
    "\n",
    "axs.legend([f\"seed = {x1}\" for x1 in x])\n",
    "plt.tight_layout()\n",
    "plt.show()"
   ],
   "metadata": {
    "collapsed": false,
    "pycharm": {
     "name": "#%%\n"
    }
   }
  }
 ],
 "metadata": {
  "kernelspec": {
   "display_name": "Python 3",
   "language": "python",
   "name": "python3"
  },
  "language_info": {
   "codemirror_mode": {
    "name": "ipython",
    "version": 3
   },
   "file_extension": ".py",
   "mimetype": "text/x-python",
   "name": "python",
   "nbconvert_exporter": "python",
   "pygments_lexer": "ipython3",
   "version": "3.8.8"
  }
 },
 "nbformat": 4,
 "nbformat_minor": 1
}