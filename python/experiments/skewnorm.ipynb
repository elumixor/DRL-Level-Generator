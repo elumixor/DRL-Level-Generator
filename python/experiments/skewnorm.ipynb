{
 "cells": [
  {
   "cell_type": "code",
   "execution_count": 2,
   "metadata": {
    "collapsed": true,
    "pycharm": {
     "name": "#%%\n"
    }
   },
   "outputs": [],
   "source": [
    "from scipy.stats import skewnorm\n",
    "from matplotlib import pyplot as plt\n",
    "import numpy as np\n",
    "from shared_parameters import enemy_x_max, enemy_x_min"
   ]
  },
  {
   "cell_type": "code",
   "execution_count": 28,
   "outputs": [
    {
     "data": {
      "text/plain": "<matplotlib.legend.Legend at 0x2417d657550>"
     },
     "execution_count": 28,
     "metadata": {},
     "output_type": "execute_result"
    }
   ],
   "source": [
    "%matplotlib qt\n",
    "\n",
    "legends = []\n",
    "for a, loc, scale in zip([-1.0, -0.5, 0.0, 0.25], [0.1, 0.4, -0.1, 0.0], [1.0, 0.15, 0.25, 0.3]):\n",
    "    x = np.linspace(enemy_x_min, enemy_x_max, 100)\n",
    "    weight = skewnorm.pdf(x, a, loc=loc, scale=scale)\n",
    "    weight /= weight.sum()\n",
    "    plt.plot(x, weight, alpha=1)\n",
    "    plt.fill_between(x, weight, alpha=.25)\n",
    "    legends.append(f\"a={a}, mean={loc}, std={scale}\")\n",
    "\n",
    "plt.legend(legends)"
   ],
   "metadata": {
    "collapsed": false,
    "pycharm": {
     "name": "#%%\n"
    }
   }
  }
 ],
 "metadata": {
  "kernelspec": {
   "display_name": "Python 3",
   "language": "python",
   "name": "python3"
  },
  "language_info": {
   "codemirror_mode": {
    "name": "ipython",
    "version": 2
   },
   "file_extension": ".py",
   "mimetype": "text/x-python",
   "name": "python",
   "nbconvert_exporter": "python",
   "pygments_lexer": "ipython2",
   "version": "2.7.6"
  }
 },
 "nbformat": 4,
 "nbformat_minor": 0
}