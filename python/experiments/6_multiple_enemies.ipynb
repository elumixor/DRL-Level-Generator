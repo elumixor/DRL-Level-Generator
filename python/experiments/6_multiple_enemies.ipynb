{
 "cells": [
  {
   "cell_type": "markdown",
   "metadata": {
    "collapsed": true,
    "pycharm": {
     "name": "#%% md\n"
    }
   },
   "source": [
    "# Multiple enemies\n",
    "\n",
    "Now we will increase the number of enemies to $3$"
   ]
  },
  {
   "cell_type": "code",
   "execution_count": 11,
   "outputs": [],
   "source": [
    "import torch\n",
    "from IPython.core.display import display, clear_output\n",
    "from torch.optim import Adam\n",
    "\n",
    "from environments import VariablePendulumEnvJIT\n",
    "from environments.pendulum.state import size_fixed as s_size_fixed\n",
    "from evaluators.direct_actor import ActorVariable\n",
    "from helpers import *\n",
    "from renderer import render_variable_enemies\n",
    "from utils import MLP, TrainUntil"
   ],
   "metadata": {
    "collapsed": false,
    "pycharm": {
     "name": "#%%\n"
    }
   }
  },
  {
   "cell_type": "code",
   "execution_count": 12,
   "outputs": [
    {
     "data": {
      "text/plain": "<PIL.Image.Image image mode=RGB size=800x600 at 0x28E3B4AC6D0>",
      "image/png": "[encoded data removed]"
     },
     "execution_count": 12,
     "metadata": {},
     "output_type": "execute_result"
    }
   ],
   "source": [
    "enemies_example = [-0.2, 0.75, - 0.25, 0.15, 0.3, 0.45]\n",
    "state = create_state_variable(np.array(enemies_example, dtype=np.float32))\n",
    "render_variable_enemies(np.array(enemies_example, dtype=np.float32))"
   ],
   "metadata": {
    "collapsed": false,
    "pycharm": {
     "name": "#%%\n"
    }
   }
  },
  {
   "cell_type": "markdown",
   "source": [
    "Train difficulty evaluator from the oracle, as previously.\n",
    "However, now we'll have the $x \\in [-0.5, 0.5]$ amd $y \\in [0.15, 0.8]$ parameters of three enemies.\n",
    "This creates a 6-dimensional space, that is infeasible to evaluate directly.\n",
    "\n",
    "We will still sample environment randomly for several iterations, to bootstrap our evaluator\n",
    "with the predictions from the oracle. Later, however, we should also evaluate the generated\n",
    "levels with the oracle and update our level difficulty evaluator once per several iterations."
   ],
   "metadata": {
    "collapsed": false,
    "pycharm": {
     "name": "#%% md\n"
    }
   }
  },
  {
   "cell_type": "code",
   "execution_count": 13,
   "outputs": [],
   "source": [
    "num_enemies = 3\n",
    "\n",
    "mins = np.array([enemy_x_min, enemy_y_min] * num_enemies, dtype=np.float32)\n",
    "maxs = np.array([enemy_x_max, enemy_y_max] * num_enemies, dtype=np.float32)\n",
    "\n",
    "mins_t = torch.from_numpy(mins)\n",
    "maxs_t = torch.from_numpy(maxs)\n",
    "\n",
    "diff = maxs - mins\n",
    "\n",
    "state_size = s_size_fixed + num_enemies * 2\n",
    "\n",
    "\n",
    "@njit\n",
    "def generate_embedding(batch_size):\n",
    "    enemies = np.random.uniform(0, 1, (batch_size, num_enemies * 2)).astype(np.float32)\n",
    "    enemies = enemies * (maxs - mins) + mins\n",
    "    return enemies\n",
    "\n",
    "\n",
    "@njit(parallel=True)\n",
    "def embedding2states(embedding):\n",
    "    states = np.zeros((embedding.shape[0], state_size), dtype=np.float32)\n",
    "    for i in prange(embedding.shape[0]):\n",
    "        e = embedding[i]\n",
    "        states[i] = create_state_variable(e)\n",
    "\n",
    "    return states\n",
    "\n",
    "\n",
    "env = VariablePendulumEnvJIT(3)\n",
    "actors, weights = create_actors(25, actor_class=ActorVariable)\n",
    "oracle = TrajectoryRewardsEvaluator(env, actors, weights, num_evaluations, max_trajectory_length)"
   ],
   "metadata": {
    "collapsed": false,
    "pycharm": {
     "name": "#%%\n"
    }
   }
  },
  {
   "cell_type": "markdown",
   "source": [
    "#### Examples"
   ],
   "metadata": {
    "collapsed": false,
    "pycharm": {
     "name": "#%% md\n"
    }
   }
  },
  {
   "cell_type": "code",
   "execution_count": 14,
   "outputs": [
    {
     "data": {
      "text/plain": "<PIL.Image.Image image mode=RGB size=800x600 at 0x28E0A645B80>",
      "image/png": "[encoded data removed]"
     },
     "metadata": {},
     "output_type": "display_data"
    },
    {
     "name": "stdout",
     "output_type": "stream",
     "text": [
      "Difficulty=0.5906\n"
     ]
    },
    {
     "data": {
      "text/plain": "<PIL.Image.Image image mode=RGB size=800x600 at 0x28E1ACA1130>",
      "image/png": "[encoded data removed]"
     },
     "metadata": {},
     "output_type": "display_data"
    },
    {
     "name": "stdout",
     "output_type": "stream",
     "text": [
      "Difficulty=0.5948\n"
     ]
    },
    {
     "data": {
      "text/plain": "<PIL.Image.Image image mode=RGB size=800x600 at 0x28E1ACA4130>",
      "image/png": "[encoded data removed]"
     },
     "metadata": {},
     "output_type": "display_data"
    },
    {
     "name": "stdout",
     "output_type": "stream",
     "text": [
      "Difficulty=0.0132\n"
     ]
    }
   ],
   "source": [
    "embeddings = generate_embedding(batch_size=3)\n",
    "states = embedding2states(embeddings).reshape((3, 1, state_size))\n",
    "difficulties = torch.from_numpy(oracle.evaluate(states)).squeeze(-1)\n",
    "\n",
    "for embedding, difficulty in zip(embeddings, difficulties):\n",
    "    display(render_variable_enemies(embedding))\n",
    "    print(f\"Difficulty={difficulty.item():.4f}\")"
   ],
   "metadata": {
    "collapsed": false,
    "pycharm": {
     "name": "#%%\n"
    }
   }
  },
  {
   "cell_type": "code",
   "execution_count": null,
   "outputs": [
    {
     "name": "stdout",
     "output_type": "stream",
     "text": [
      "Iteration: 1730, loss: 0.0175671\n"
     ]
    }
   ],
   "source": [
    "evaluator = MLP(num_enemies * 2, 1, [4, 6, 8, 6, 4], activation=\"lrelu\")\n",
    "optim_evaluator = Adam(evaluator.parameters(), lr=0.001)\n",
    "\n",
    "batch_size = 50\n",
    "\n",
    "with TrainUntil(1e-4, 50, 10000, print_frequency=10, clear=True) as trainer:\n",
    "    while not trainer.done:\n",
    "        embedding = generate_embedding(batch_size)\n",
    "        states = embedding2states(embedding).reshape((batch_size, 1, state_size))\n",
    "        target = torch.from_numpy(oracle.evaluate(states)).squeeze(-1)\n",
    "\n",
    "        predicted = evaluator(torch.from_numpy(embedding))\n",
    "        loss = ((predicted - target) ** 2).mean()\n",
    "\n",
    "        optim_evaluator.zero_grad()\n",
    "        loss.backward()\n",
    "        optim_evaluator.step()\n",
    "\n",
    "        if (trainer.iteration + 1) % 100 == 0:\n",
    "            clear_output(wait=True)\n",
    "            print(trainer.iteration + 1, loss.item())\n",
    "\n",
    "        trainer.loss = loss\n"
   ],
   "metadata": {
    "collapsed": false,
    "pycharm": {
     "name": "#%%\n",
     "is_executing": true
    }
   }
  },
  {
   "cell_type": "markdown",
   "source": [
    "Once trained evaluator, train the generator, as before"
   ],
   "metadata": {
    "collapsed": false,
    "pycharm": {
     "name": "#%% md\n"
    }
   }
  },
  {
   "cell_type": "code",
   "execution_count": null,
   "outputs": [],
   "source": [
    "evaluator.cuda()\n",
    "generator = MLP(1, 2 * num_enemies, [4, 8, 8, 8, 4]).cuda()\n",
    "optim_generator = Adam(generator.parameters(), lr=0.001)\n",
    "\n",
    "batch_size = 100\n",
    "\n",
    "mins_t = mins_t.cuda()\n",
    "maxs_t = maxs_t.cuda()\n",
    "\n",
    "\n",
    "def clamp(states):\n",
    "    clamped = torch.where(states < mins_t, mins_t, states)\n",
    "    clamped = torch.where(clamped > maxs_t, maxs_t, clamped)\n",
    "    return clamped\n",
    "\n",
    "\n",
    "with TrainUntil(0.01, 100, 10000, print_frequency=50, clear=True) as trainer:\n",
    "    while not trainer.done:\n",
    "        d_in = torch.rand([batch_size, 1], device=\"cuda\")\n",
    "        embedding = generator(d_in)\n",
    "        clamped = clamp(embedding)\n",
    "        clamp_loss = ((clamped - embedding) ** 2).mean()\n",
    "\n",
    "        d_out = evaluator(embedding)\n",
    "\n",
    "        difficulty_loss = (d_in - d_out).abs().mean()\n",
    "\n",
    "        loss = difficulty_loss + clamp_loss\n",
    "\n",
    "        optim_generator.zero_grad()\n",
    "        loss.backward()\n",
    "        optim_generator.step()\n",
    "\n",
    "        trainer.loss = loss"
   ],
   "metadata": {
    "collapsed": false,
    "pycharm": {
     "name": "#%%\n",
     "is_executing": true
    }
   }
  },
  {
   "cell_type": "code",
   "execution_count": null,
   "outputs": [],
   "source": [
    "d_in = torch.linspace(0, 1, 10).unsqueeze(1).cuda()\n",
    "\n",
    "with torch.no_grad():\n",
    "    embeddings = clamp(generator(d_in)).cpu()\n",
    "\n",
    "images = [render_variable_enemies(e.numpy(), resolution=0.5) for e in embeddings]\n",
    "\n",
    "for image, d, e in zip(images, d_in, embeddings):\n",
    "    display(image)\n",
    "    print(f\"Difficulty={d.item()}\")\n",
    "    print(e)"
   ],
   "metadata": {
    "collapsed": false,
    "pycharm": {
     "name": "#%%\n",
     "is_executing": true
    }
   }
  }
 ],
 "metadata": {
  "kernelspec": {
   "display_name": "Python 3",
   "language": "python",
   "name": "python3"
  },
  "language_info": {
   "codemirror_mode": {
    "name": "ipython",
    "version": 2
   },
   "file_extension": ".py",
   "mimetype": "text/x-python",
   "name": "python",
   "nbconvert_exporter": "python",
   "pygments_lexer": "ipython2",
   "version": "2.7.6"
  }
 },
 "nbformat": 4,
 "nbformat_minor": 0
}