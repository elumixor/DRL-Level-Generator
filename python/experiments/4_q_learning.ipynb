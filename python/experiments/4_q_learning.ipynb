{
 "cells": [
  {
   "cell_type": "code",
   "execution_count": 8,
   "metadata": {
    "collapsed": true
   },
   "outputs": [],
   "source": [
    "\n",
    "import time\n",
    "\n",
    "import matplotlib.pyplot as plt\n",
    "import torch\n",
    "from IPython.core.display import clear_output\n",
    "from torch.nn import functional as F\n",
    "from torch.optim import Adam\n",
    "\n",
    "from environments import PendulumEnv\n",
    "from environments.pendulum import State\n",
    "from environments.pendulum.state import size as state_size\n",
    "from evaluators.direct_actor import SWITCH, NOP\n",
    "from shared_parameters import *\n",
    "from utils import MLP, EpsilonDecay, MemoryBuffer, running_average\n",
    "\n",
    "torch.set_printoptions(sci_mode=False)"
   ]
  },
  {
   "cell_type": "code",
   "execution_count": 9,
   "outputs": [],
   "source": [
    "env = PendulumEnv(step_reward=1.0, action_cost=0.1, death_cost=100.0)\n",
    "\n",
    "x = enemy_x\n",
    "\n",
    "\n",
    "def get_starting_state():\n",
    "    return State(bob_radius=bob_radius, max_angle=max_angle, connector_length=0.4, vertical_speed=0.05,\n",
    "                 current_angle=current_angle, position=position, angular_speed=0.25,\n",
    "                 enemy_radius=enemy_radius, enemy_x=x, enemy_y=enemy_y)"
   ],
   "metadata": {
    "collapsed": false,
    "pycharm": {
     "name": "#%%\n"
    }
   }
  },
  {
   "cell_type": "markdown",
   "source": [
    "Let's define a NN.\n",
    "\n",
    "Maps $state \\times action \\rightarrow \\text{Q-value}$"
   ],
   "metadata": {
    "collapsed": false,
    "pycharm": {
     "name": "#%% md\n"
    }
   }
  },
  {
   "cell_type": "code",
   "execution_count": 10,
   "outputs": [
    {
     "name": "stdout",
     "output_type": "stream",
     "text": [
      "Sample input:\n",
      "tensor([[0.1000, 0.8727, 0.4000, 0.0500, 0.0000, 0.0000, 0.2500, 0.1000, 0.1000,\n",
      "         0.2500]])\n",
      "\n",
      "Sample Q-values:\n",
      "tensor([[-0.5388,  0.2219]], grad_fn=<AddmmBackward>)\n"
     ]
    }
   ],
   "source": [
    "num_actions = 2\n",
    "\n",
    "q_net = MLP(state_size, num_actions, [6, 8, 4])\n",
    "\n",
    "optim = Adam(q_net.parameters(), lr=0.01)\n",
    "scheduler = torch.optim.lr_scheduler.StepLR(optim, 100)\n",
    "\n",
    "sample_input = torch.from_numpy(get_starting_state()).unsqueeze(0)\n",
    "print(\"Sample input:\")\n",
    "print(sample_input)\n",
    "\n",
    "sample_q_values = q_net(sample_input)\n",
    "print()\n",
    "print(\"Sample Q-values:\")\n",
    "print(sample_q_values)"
   ],
   "metadata": {
    "collapsed": false,
    "pycharm": {
     "name": "#%%\n"
    }
   }
  },
  {
   "cell_type": "markdown",
   "source": [
    "How to train your dqn?\n",
    "\n",
    "Predictions should correspond with the total discounted rewards."
   ],
   "metadata": {
    "collapsed": false,
    "pycharm": {
     "name": "#%% md\n"
    }
   },
   "outputs": [
    {
     "name": "stdout",
     "output_type": "stream",
     "text": [
      "Object `dqn` not found.\n"
     ]
    },
    {
     "ename": "NameError",
     "evalue": "name 'The' is not defined",
     "output_type": "error",
     "traceback": [
      "\u001B[1;31m---------------------------------------------------------------------------\u001B[0m",
      "\u001B[1;31mNameError\u001B[0m                                 Traceback (most recent call last)",
      "\u001B[1;32m<ipython-input-12-95bf5ed8dddf>\u001B[0m in \u001B[0;36m<module>\u001B[1;34m\u001B[0m\n\u001B[0;32m      1\u001B[0m \u001B[0mget_ipython\u001B[0m\u001B[1;33m(\u001B[0m\u001B[1;33m)\u001B[0m\u001B[1;33m.\u001B[0m\u001B[0mrun_line_magic\u001B[0m\u001B[1;33m(\u001B[0m\u001B[1;34m'pinfo'\u001B[0m\u001B[1;33m,\u001B[0m \u001B[1;34m'dqn'\u001B[0m\u001B[1;33m)\u001B[0m\u001B[1;33m\u001B[0m\u001B[1;33m\u001B[0m\u001B[0m\n\u001B[0;32m      2\u001B[0m \u001B[1;33m\u001B[0m\u001B[0m\n\u001B[1;32m----> 3\u001B[1;33m \u001B[0mThe\u001B[0m\u001B[1;33m\u001B[0m\u001B[1;33m\u001B[0m\u001B[0m\n\u001B[0m\u001B[0;32m      4\u001B[0m \u001B[1;33m\u001B[0m\u001B[0m\n",
      "\u001B[1;31mNameError\u001B[0m: name 'The' is not defined"
     ]
    }
   ],
   "execution_count": 12
  },
  {
   "cell_type": "code",
   "execution_count": 11,
   "outputs": [
    {
     "name": "stdout",
     "output_type": "stream",
     "text": [
      "Total reward: 19.0. Total average: -63.312515964240035\n",
      "E. 14 Loss: 617.5714111328125. Epsilon: 0.9871\n"
     ]
    }
   ],
   "source": [
    "from environments.pendulum.state import enemy_x as s_enemy_x\n",
    "from random import random\n",
    "\n",
    "max_episode_length = 20\n",
    "\n",
    "q_net = MLP(state_size, num_actions, [6, 8, 4])\n",
    "optim = Adam(q_net.parameters(), lr=0.01)\n",
    "\n",
    "# Create a target network as well\n",
    "target_q_net = MLP(state_size, num_actions, [6, 8, 4])\n",
    "for p, p_target in zip(q_net.parameters(), target_q_net.parameters()):\n",
    "    p_target.data = p.data\n",
    "    p_target.requires_grad = False\n",
    "\n",
    "polyak = 0.95\n",
    "\n",
    "# Default starting state\n",
    "start_state = get_starting_state()\n",
    "\n",
    "memory = MemoryBuffer(capacity=10000)\n",
    "\n",
    "# Epsilon for epsilon greedy strategy\n",
    "epsilon = EpsilonDecay(iterations=1000)\n",
    "\n",
    "discount = 0.995\n",
    "epoch = 1\n",
    "\n",
    "\n",
    "def train_network(verbose=False):\n",
    "    global epoch\n",
    "    training_sample = memory.sample(500)\n",
    "\n",
    "    states, actions, rewards, next_states, dones = zip(*training_sample)\n",
    "\n",
    "    states = torch.tensor(states)\n",
    "    next_states = torch.tensor(next_states)\n",
    "    dones = torch.tensor(dones).unsqueeze(-1)\n",
    "    rewards = torch.tensor(rewards).unsqueeze(-1)\n",
    "\n",
    "    q = q_net(states)\n",
    "    q = q[range(q.shape[0]), actions].unsqueeze(-1)\n",
    "\n",
    "    v = target_q_net(next_states).max(dim=-1, keepdim=True)[0]\n",
    "\n",
    "    y = rewards + dones * discount * v\n",
    "\n",
    "    loss = F.mse_loss(q, y)\n",
    "\n",
    "    optim.zero_grad()\n",
    "    loss.backward()\n",
    "    optim.step()\n",
    "\n",
    "    # Update target q net with polyak averaging\n",
    "    for p, p_target in zip(q_net.parameters(), target_q_net.parameters()):\n",
    "        p_target.data = p_target.data * polyak + p.data * (1 - polyak)\n",
    "\n",
    "        # Updated epsilon\n",
    "    epsilon.decay()\n",
    "\n",
    "    if verbose:\n",
    "        print(f\"E. {epoch} Loss: {loss.item()}. Epsilon: {epsilon.value:>5.4f}\")\n",
    "\n",
    "    epoch += 1\n",
    "\n",
    "\n",
    "total_rewards = []\n",
    "\n",
    "def play_episode(verbose=True, render=False, train=True, use_epsilon=True, push_into_memory=True):\n",
    "    episode = []\n",
    "\n",
    "    # Randomize enemy position\n",
    "    state = start_state\n",
    "    state[s_enemy_x] = random() * (0.3 - -0.3) + -0.3\n",
    "\n",
    "    step = 0\n",
    "    done = False\n",
    "    total_reward = 0\n",
    "    while not done and step < max_episode_length:\n",
    "        if render:\n",
    "            env.render(state)\n",
    "            time.sleep(0.01)\n",
    "\n",
    "        q_values = q_net(torch.from_numpy(state))\n",
    "\n",
    "        if use_epsilon and random() < epsilon.value:\n",
    "            action = NOP if random() > 0.5 else SWITCH\n",
    "        else:\n",
    "            action = torch.argmax(q_values).item()\n",
    "\n",
    "        next_state, reward, done = env.transition(state, action)\n",
    "        transition = state, action, reward, next_state, done\n",
    "\n",
    "        if push_into_memory:\n",
    "            memory.push(transition)\n",
    "\n",
    "        episode.append(transition)\n",
    "\n",
    "        total_reward += reward\n",
    "\n",
    "        if train and  memory.is_full:\n",
    "            train_network(step == 0)\n",
    "\n",
    "        state = next_state\n",
    "\n",
    "        step += 1\n",
    "\n",
    "    clear_output(True)\n",
    "    total_rewards.append(total_reward)\n",
    "    if len(total_rewards) > 1000:\n",
    "        total_rewards.pop(0)\n",
    "\n",
    "    if verbose:\n",
    "        print(f\"Total reward: {total_reward}. Total average: {sum(total_rewards) / len(total_rewards)}\")\n",
    "    return episode\n",
    "\n",
    "while not memory.is_full:\n",
    "    episode = play_episode()\n",
    "\n",
    "try:\n",
    "    train_network(verbose=True)\n",
    "except KeyboardInterrupt:\n",
    "    ..."
   ],
   "metadata": {
    "collapsed": false,
    "pycharm": {
     "name": "#%%\n"
    }
   }
  },
  {
   "cell_type": "code",
   "execution_count": 27,
   "outputs": [
    {
     "name": "stdout",
     "output_type": "stream",
     "text": [
      "Total reward: 18.3. Total average: -17.14510000000009\n"
     ]
    },
    {
     "data": {
      "text/plain": "<Figure size 432x288 with 1 Axes>",
      "image/png": "[encoded data removed]"
     },
     "metadata": {
      "needs_background": "light"
     },
     "output_type": "display_data"
    }
   ],
   "source": [
    "try:\n",
    "    for i in range(100):\n",
    "        play_episode(render=False)\n",
    "\n",
    "    plt.plot(total_rewards)\n",
    "    plt.plot(running_average(total_rewards))\n",
    "    plt.show()\n",
    "except KeyboardInterrupt:\n",
    "    ..."
   ],
   "metadata": {
    "collapsed": false,
    "pycharm": {
     "name": "#%%\n"
    }
   }
  },
  {
   "cell_type": "markdown",
   "source": [
    "Once we're satisfied with the quality of our Q-network,\n",
    "we can use it to infer the difficulty of the environment.\n",
    "\n",
    "    Actually, we can also infer the difficulty without a trained Q-netwrok,\n",
    "    the only difference is the quality of predictions. Untrained Q-network\n",
    "    can (but not always) behave as an agent who does not know how to play the game.\n",
    "\n",
    "Let's now estimate the difficulty of a single episode:\n",
    "\n",
    "1. The difficulty of an episode is an aggregated difficulty of the individual states\n",
    "2. The difficulty of a state is the difference between the maximum Q-value, from the\n",
    "   average of the Q-values of the state\n",
    "\n",
    "We also need to keep the Q-values normalized. The normalization occurs w.r.t. the\n",
    "maximum and minimum Q-values, experienced by a single agent with its own Q-network."
   ],
   "metadata": {
    "collapsed": false,
    "pycharm": {
     "name": "#%% md\n"
    }
   }
  },
  {
   "cell_type": "code",
   "execution_count": 6,
   "outputs": [],
   "source": [
    "# Initialize the minimum and maximum Q-values\n",
    "q_min, q_max = float(\"inf\"), float(\"-inf\")"
   ],
   "metadata": {
    "collapsed": false,
    "pycharm": {
     "name": "#%%\n"
    }
   }
  },
  {
   "cell_type": "code",
   "execution_count": 7,
   "outputs": [
    {
     "name": "stdout",
     "output_type": "stream",
     "text": [
      "Total reward: -92.0. Total average: -65.04888143176741\n",
      "\n",
      "Q-values\n",
      "tensor([[  0.6128,   1.2936],\n",
      "        [  0.6128,   1.2936],\n",
      "        [  0.6128,   1.2936],\n",
      "        [  0.6128,   1.2936],\n",
      "        [  0.6128,   1.2936],\n",
      "        [  0.6128,   1.2936],\n",
      "        [  0.6128,   1.2936],\n",
      "        [ -4.7754,  -3.8335],\n",
      "        [-26.1690, -17.4458],\n",
      "        [-38.2012, -24.3009]])\n",
      "\n",
      "Q-values (normalized)\n",
      "tensor([[0.9828, 1.0000],\n",
      "        [0.9828, 1.0000],\n",
      "        [0.9828, 1.0000],\n",
      "        [0.9828, 1.0000],\n",
      "        [0.9828, 1.0000],\n",
      "        [0.9828, 1.0000],\n",
      "        [0.9828, 1.0000],\n",
      "        [0.8463, 0.8702],\n",
      "        [0.3047, 0.5255],\n",
      "        [0.0000, 0.3520]])\n",
      "\n",
      "Difficulties\n",
      "tensor([0.0086, 0.0086, 0.0086, 0.0086, 0.0086, 0.0086, 0.0086, 0.0119, 0.1104,\n",
      "        0.1760])\n",
      "\n",
      "Trajectory difficulty = 0.035867\n"
     ]
    }
   ],
   "source": [
    "episode = play_episode(verbose=True, render=False, train=False, use_epsilon=False, push_into_memory=False)\n",
    "print()\n",
    "\n",
    "states, *_ = zip(*episode)\n",
    "states = torch.tensor(states)\n",
    "\n",
    "with torch.no_grad():\n",
    "    q_values = q_net(states)\n",
    "\n",
    "    print(\"Q-values\")\n",
    "    print(q_values)\n",
    "    print()\n",
    "\n",
    "    # Update the bounds\n",
    "    q_min = min(q_min, q_values.min())\n",
    "    q_max = max(q_max, q_values.max())\n",
    "\n",
    "    # Normalize\n",
    "    q_values = (q_values - q_min) / (q_max - q_min)\n",
    "\n",
    "    print(\"Q-values (normalized)\")\n",
    "    print(q_values)\n",
    "    print()\n",
    "\n",
    "    difficulties = q_values.max(dim=-1)[0] - q_values.mean(dim=-1)\n",
    "\n",
    "    print(\"Difficulties\")\n",
    "    print(difficulties)\n",
    "    print()\n",
    "\n",
    "    trajectory_difficulty = difficulties.mean()\n",
    "    print(f\"Trajectory difficulty = {trajectory_difficulty:.6f}\")"
   ],
   "metadata": {
    "collapsed": false,
    "pycharm": {
     "name": "#%%\n"
    }
   }
  },
  {
   "cell_type": "markdown",
   "source": [
    "We can now use this as another method of difficulty estimation"
   ],
   "metadata": {
    "collapsed": false,
    "pycharm": {
     "name": "#%% md\n"
    }
   }
  }
 ],
 "metadata": {
  "kernelspec": {
   "display_name": "Python 3",
   "language": "python",
   "name": "python3"
  },
  "language_info": {
   "codemirror_mode": {
    "name": "ipython",
    "version": 2
   },
   "file_extension": ".py",
   "mimetype": "text/x-python",
   "name": "python",
   "nbconvert_exporter": "python",
   "pygments_lexer": "ipython2",
   "version": "2.7.6"
  }
 },
 "nbformat": 4,
 "nbformat_minor": 0
}