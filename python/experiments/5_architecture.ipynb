{
 "cells": [
  {
   "cell_type": "markdown",
   "source": [
    "Here we will define some functions to be flexible\n",
    "\n",
    "Some key principles:\n",
    "\n",
    "1. *Externally*, generator\n",
    "1. Generator operates withing embedding space\n",
    "    1. Difficulty is in range $[0, 1]$\n",
    "    1. Seeds are also in range $[0, 1]$\n",
    "    2. Generated offsets/points are also in range $[0, 1]$"
   ],
   "metadata": {
    "collapsed": false,
    "pycharm": {
     "name": "#%% md\n"
    }
   }
  },
  {
   "cell_type": "code",
   "execution_count": null,
   "outputs": [],
   "source": [],
   "metadata": {
    "collapsed": false,
    "pycharm": {
     "name": "#%%\n"
    }
   }
  }
 ],
 "metadata": {
  "kernelspec": {
   "display_name": "Python 3",
   "language": "python",
   "name": "python3"
  },
  "language_info": {
   "codemirror_mode": {
    "name": "ipython",
    "version": 2
   },
   "file_extension": ".py",
   "mimetype": "text/x-python",
   "name": "python",
   "nbconvert_exporter": "python",
   "pygments_lexer": "ipython2",
   "version": "2.7.6"
  }
 },
 "nbformat": 4,
 "nbformat_minor": 0
}