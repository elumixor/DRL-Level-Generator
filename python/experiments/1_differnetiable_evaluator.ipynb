{
 "cells": [
  {
   "cell_type": "markdown",
   "source": [
    "# 1. NN Difficulty evaluator"
   ],
   "metadata": {
    "collapsed": false
   }
  },
  {
   "cell_type": "code",
   "execution_count": 1,
   "outputs": [],
   "source": [
    "%load_ext autoreload\n",
    "%autoreload 2\n",
    "\n",
    "import matplotlib\n",
    "import torch\n",
    "import torch.nn.functional as F\n",
    "from IPython.core.display import display, clear_output\n",
    "from matplotlib import pyplot as plt\n",
    "from torch.nn import LeakyReLU\n",
    "from torch.optim import Adam\n",
    "\n",
    "from pendulum.heuristic import HeuristicPendulumEvaluator as DirectEvaluator\n",
    "from shared_parameters import *\n",
    "from utils import TrainUntil, MLP, save, set_matplotlib_colors\n",
    "\n",
    "set_matplotlib_colors(matplotlib)"
   ],
   "metadata": {
    "collapsed": false,
    "pycharm": {
     "name": "#%%\n"
    }
   }
  },
  {
   "cell_type": "markdown",
   "source": [
    "*Suppose* we have an *oracle* that can correctly accurately evaluate the level difficulty.\n",
    "Then we can train a neural network to learn from that oracle.\n",
    "\n",
    "Here we use the `DirectEvaluator` as the oracle"
   ],
   "metadata": {
    "collapsed": false,
    "pycharm": {
     "name": "#%% md\n"
    }
   }
  },
  {
   "cell_type": "code",
   "execution_count": 2,
   "outputs": [],
   "source": [
    "oracle = DirectEvaluator(connector_length, max_angle, enemy_radius, bob_radius)"
   ],
   "metadata": {
    "collapsed": false,
    "pycharm": {
     "name": "#%%\n"
    }
   }
  },
  {
   "cell_type": "markdown",
   "source": [
    "Display a randomly generated state"
   ],
   "metadata": {
    "collapsed": false,
    "pycharm": {
     "name": "#%% md\n"
    }
   }
  },
  {
   "cell_type": "code",
   "execution_count": 3,
   "outputs": [],
   "source": [
    "x = np.linspace(enemy_x_min, enemy_x_max, subdivisions)\n",
    "enemy_x = np.random.choice(x, 1).item()"
   ],
   "metadata": {
    "collapsed": false,
    "pycharm": {
     "name": "#%%\n"
    }
   }
  },
  {
   "cell_type": "markdown",
   "source": [
    "Difficulty evaluator training loop"
   ],
   "metadata": {
    "collapsed": false,
    "pycharm": {
     "name": "#%% md\n"
    }
   }
  },
  {
   "cell_type": "code",
   "execution_count": 4,
   "outputs": [
    {
     "name": "stdout",
     "output_type": "stream",
     "text": [
      "900 2.3720727767795324e-05\n",
      "Done after 908 iteration(s). Loss: 0.000020\n",
      "908 iterations to train estimator\n"
     ]
    }
   ],
   "source": [
    "difficulties = torch.from_numpy(oracle.evaluate(x)).to(torch.float32).unsqueeze(1)\n",
    "states = torch.tensor([[x1] for x1 in x], dtype=torch.float32)\n",
    "\n",
    "evaluator = MLP(1, 1, [4, 4], activation=LeakyReLU())\n",
    "optim_evaluator = Adam(evaluator.parameters(), lr=0.001)\n",
    "\n",
    "with TrainUntil(0.0001, 100) as trainer:\n",
    "    while not trainer.done:\n",
    "        indices = np.random.choice(states.shape[0], 25, replace=False)\n",
    "        s = states[indices]\n",
    "        predicted = evaluator(s)\n",
    "        loss = F.mse_loss(predicted, difficulties[indices])\n",
    "\n",
    "        optim_evaluator.zero_grad()\n",
    "        loss.backward()\n",
    "        optim_evaluator.step()\n",
    "\n",
    "        if (trainer.iteration + 1) % 100 == 0:\n",
    "            clear_output(wait=True)\n",
    "            print(trainer.iteration + 1, loss.item())\n",
    "\n",
    "        trainer.loss = loss\n",
    "\n",
    "print(trainer.iteration, \"iterations to train estimator\")"
   ],
   "metadata": {
    "collapsed": false,
    "pycharm": {
     "name": "#%%\n"
    }
   }
  },
  {
   "cell_type": "code",
   "execution_count": 19,
   "outputs": [],
   "source": [
    "# %matplotlib inline\n",
    "%matplotlib qt\n",
    "# set_matplotlib_colors(matplotlib, other_color=\"black\", label_color=\"black\")\n",
    "\n",
    "predicted = evaluator(states)\n",
    "\n",
    "fig, axs = plt.subplots()\n",
    "axs.plot(x, difficulties)\n",
    "axs.plot(x, predicted.detach().numpy())\n",
    "axs.legend([\"Oracle\", \"NN output\"])\n",
    "axs.set_xlabel(\"Enemy x\")\n",
    "axs.set_ylabel(\"Difficulty\")\n",
    "axs.set_ylim([0, 1])\n",
    "fig.tight_layout()\n",
    "plt.show()"
   ],
   "metadata": {
    "collapsed": false,
    "pycharm": {
     "name": "#%%\n"
    }
   }
  },
  {
   "cell_type": "markdown",
   "source": [
    "Now we can train the generator in a fully differentiable way, using\n",
    "the trained level difficulty evaluator.\n",
    "\n",
    "    Interrupt the cell below once you feel like it.\n",
    "\n",
    "The reason for interruption is that in this particular case (ang generally)\n",
    "we may not always have the states in our environment, that\n",
    "correspond to some difficulties.\n",
    "\n",
    "For example, here there are no states with the difficulty $1$. Thus,\n",
    "our generator will not always be able to reach (near) zero error."
   ],
   "metadata": {
    "collapsed": false,
    "pycharm": {
     "name": "#%% md\n"
    }
   }
  },
  {
   "cell_type": "code",
   "execution_count": 20,
   "outputs": [
    {
     "name": "stdout",
     "output_type": "stream",
     "text": [
      "16800 0.01173767726868391\n"
     ]
    },
    {
     "ename": "KeyboardInterrupt",
     "evalue": "",
     "output_type": "error",
     "traceback": [
      "\u001B[1;31m---------------------------------------------------------------------------\u001B[0m",
      "\u001B[1;31mKeyboardInterrupt\u001B[0m                         Traceback (most recent call last)",
      "\u001B[1;32m<ipython-input-20-5d60a874ed23>\u001B[0m in \u001B[0;36m<module>\u001B[1;34m\u001B[0m\n\u001B[0;32m     21\u001B[0m         \u001B[0moptim_generator\u001B[0m\u001B[1;33m.\u001B[0m\u001B[0mzero_grad\u001B[0m\u001B[1;33m(\u001B[0m\u001B[1;33m)\u001B[0m\u001B[1;33m\u001B[0m\u001B[1;33m\u001B[0m\u001B[0m\n\u001B[0;32m     22\u001B[0m         \u001B[0mloss\u001B[0m\u001B[1;33m.\u001B[0m\u001B[0mbackward\u001B[0m\u001B[1;33m(\u001B[0m\u001B[1;33m)\u001B[0m\u001B[1;33m\u001B[0m\u001B[1;33m\u001B[0m\u001B[0m\n\u001B[1;32m---> 23\u001B[1;33m         \u001B[0moptim_generator\u001B[0m\u001B[1;33m.\u001B[0m\u001B[0mstep\u001B[0m\u001B[1;33m(\u001B[0m\u001B[1;33m)\u001B[0m\u001B[1;33m\u001B[0m\u001B[1;33m\u001B[0m\u001B[0m\n\u001B[0m\u001B[0;32m     24\u001B[0m \u001B[1;33m\u001B[0m\u001B[0m\n\u001B[0;32m     25\u001B[0m         \u001B[1;32mif\u001B[0m \u001B[1;33m(\u001B[0m\u001B[0mtrainer\u001B[0m\u001B[1;33m.\u001B[0m\u001B[0miteration\u001B[0m \u001B[1;33m+\u001B[0m \u001B[1;36m1\u001B[0m\u001B[1;33m)\u001B[0m \u001B[1;33m%\u001B[0m \u001B[1;36m100\u001B[0m \u001B[1;33m==\u001B[0m \u001B[1;36m0\u001B[0m\u001B[1;33m:\u001B[0m\u001B[1;33m\u001B[0m\u001B[1;33m\u001B[0m\u001B[0m\n",
      "\u001B[1;32mC:\\ProgramData\\Anaconda3\\envs\\lgen\\lib\\site-packages\\torch\\optim\\optimizer.py\u001B[0m in \u001B[0;36mwrapper\u001B[1;34m(*args, **kwargs)\u001B[0m\n\u001B[0;32m     87\u001B[0m                 \u001B[0mprofile_name\u001B[0m \u001B[1;33m=\u001B[0m \u001B[1;34m\"Optimizer.step#{}.step\"\u001B[0m\u001B[1;33m.\u001B[0m\u001B[0mformat\u001B[0m\u001B[1;33m(\u001B[0m\u001B[0mobj\u001B[0m\u001B[1;33m.\u001B[0m\u001B[0m__class__\u001B[0m\u001B[1;33m.\u001B[0m\u001B[0m__name__\u001B[0m\u001B[1;33m)\u001B[0m\u001B[1;33m\u001B[0m\u001B[1;33m\u001B[0m\u001B[0m\n\u001B[0;32m     88\u001B[0m                 \u001B[1;32mwith\u001B[0m \u001B[0mtorch\u001B[0m\u001B[1;33m.\u001B[0m\u001B[0mautograd\u001B[0m\u001B[1;33m.\u001B[0m\u001B[0mprofiler\u001B[0m\u001B[1;33m.\u001B[0m\u001B[0mrecord_function\u001B[0m\u001B[1;33m(\u001B[0m\u001B[0mprofile_name\u001B[0m\u001B[1;33m)\u001B[0m\u001B[1;33m:\u001B[0m\u001B[1;33m\u001B[0m\u001B[1;33m\u001B[0m\u001B[0m\n\u001B[1;32m---> 89\u001B[1;33m                     \u001B[1;32mreturn\u001B[0m \u001B[0mfunc\u001B[0m\u001B[1;33m(\u001B[0m\u001B[1;33m*\u001B[0m\u001B[0margs\u001B[0m\u001B[1;33m,\u001B[0m \u001B[1;33m**\u001B[0m\u001B[0mkwargs\u001B[0m\u001B[1;33m)\u001B[0m\u001B[1;33m\u001B[0m\u001B[1;33m\u001B[0m\u001B[0m\n\u001B[0m\u001B[0;32m     90\u001B[0m             \u001B[1;32mreturn\u001B[0m \u001B[0mwrapper\u001B[0m\u001B[1;33m\u001B[0m\u001B[1;33m\u001B[0m\u001B[0m\n\u001B[0;32m     91\u001B[0m \u001B[1;33m\u001B[0m\u001B[0m\n",
      "\u001B[1;32mC:\\ProgramData\\Anaconda3\\envs\\lgen\\lib\\site-packages\\torch\\autograd\\grad_mode.py\u001B[0m in \u001B[0;36mdecorate_context\u001B[1;34m(*args, **kwargs)\u001B[0m\n\u001B[0;32m     25\u001B[0m         \u001B[1;32mdef\u001B[0m \u001B[0mdecorate_context\u001B[0m\u001B[1;33m(\u001B[0m\u001B[1;33m*\u001B[0m\u001B[0margs\u001B[0m\u001B[1;33m,\u001B[0m \u001B[1;33m**\u001B[0m\u001B[0mkwargs\u001B[0m\u001B[1;33m)\u001B[0m\u001B[1;33m:\u001B[0m\u001B[1;33m\u001B[0m\u001B[1;33m\u001B[0m\u001B[0m\n\u001B[0;32m     26\u001B[0m             \u001B[1;32mwith\u001B[0m \u001B[0mself\u001B[0m\u001B[1;33m.\u001B[0m\u001B[0m__class__\u001B[0m\u001B[1;33m(\u001B[0m\u001B[1;33m)\u001B[0m\u001B[1;33m:\u001B[0m\u001B[1;33m\u001B[0m\u001B[1;33m\u001B[0m\u001B[0m\n\u001B[1;32m---> 27\u001B[1;33m                 \u001B[1;32mreturn\u001B[0m \u001B[0mfunc\u001B[0m\u001B[1;33m(\u001B[0m\u001B[1;33m*\u001B[0m\u001B[0margs\u001B[0m\u001B[1;33m,\u001B[0m \u001B[1;33m**\u001B[0m\u001B[0mkwargs\u001B[0m\u001B[1;33m)\u001B[0m\u001B[1;33m\u001B[0m\u001B[1;33m\u001B[0m\u001B[0m\n\u001B[0m\u001B[0;32m     28\u001B[0m         \u001B[1;32mreturn\u001B[0m \u001B[0mcast\u001B[0m\u001B[1;33m(\u001B[0m\u001B[0mF\u001B[0m\u001B[1;33m,\u001B[0m \u001B[0mdecorate_context\u001B[0m\u001B[1;33m)\u001B[0m\u001B[1;33m\u001B[0m\u001B[1;33m\u001B[0m\u001B[0m\n\u001B[0;32m     29\u001B[0m \u001B[1;33m\u001B[0m\u001B[0m\n",
      "\u001B[1;32mC:\\ProgramData\\Anaconda3\\envs\\lgen\\lib\\site-packages\\torch\\optim\\adam.py\u001B[0m in \u001B[0;36mstep\u001B[1;34m(self, closure)\u001B[0m\n\u001B[0;32m    106\u001B[0m \u001B[1;33m\u001B[0m\u001B[0m\n\u001B[0;32m    107\u001B[0m             \u001B[0mbeta1\u001B[0m\u001B[1;33m,\u001B[0m \u001B[0mbeta2\u001B[0m \u001B[1;33m=\u001B[0m \u001B[0mgroup\u001B[0m\u001B[1;33m[\u001B[0m\u001B[1;34m'betas'\u001B[0m\u001B[1;33m]\u001B[0m\u001B[1;33m\u001B[0m\u001B[1;33m\u001B[0m\u001B[0m\n\u001B[1;32m--> 108\u001B[1;33m             F.adam(params_with_grad,\n\u001B[0m\u001B[0;32m    109\u001B[0m                    \u001B[0mgrads\u001B[0m\u001B[1;33m,\u001B[0m\u001B[1;33m\u001B[0m\u001B[1;33m\u001B[0m\u001B[0m\n\u001B[0;32m    110\u001B[0m                    \u001B[0mexp_avgs\u001B[0m\u001B[1;33m,\u001B[0m\u001B[1;33m\u001B[0m\u001B[1;33m\u001B[0m\u001B[0m\n",
      "\u001B[1;32mC:\\ProgramData\\Anaconda3\\envs\\lgen\\lib\\site-packages\\torch\\optim\\_functional.py\u001B[0m in \u001B[0;36madam\u001B[1;34m(params, grads, exp_avgs, exp_avg_sqs, max_exp_avg_sqs, state_steps, amsgrad, beta1, beta2, lr, weight_decay, eps)\u001B[0m\n\u001B[0;32m     83\u001B[0m         \u001B[1;31m# Decay the first and second moment running average coefficient\u001B[0m\u001B[1;33m\u001B[0m\u001B[1;33m\u001B[0m\u001B[1;33m\u001B[0m\u001B[0m\n\u001B[0;32m     84\u001B[0m         \u001B[0mexp_avg\u001B[0m\u001B[1;33m.\u001B[0m\u001B[0mmul_\u001B[0m\u001B[1;33m(\u001B[0m\u001B[0mbeta1\u001B[0m\u001B[1;33m)\u001B[0m\u001B[1;33m.\u001B[0m\u001B[0madd_\u001B[0m\u001B[1;33m(\u001B[0m\u001B[0mgrad\u001B[0m\u001B[1;33m,\u001B[0m \u001B[0malpha\u001B[0m\u001B[1;33m=\u001B[0m\u001B[1;36m1\u001B[0m \u001B[1;33m-\u001B[0m \u001B[0mbeta1\u001B[0m\u001B[1;33m)\u001B[0m\u001B[1;33m\u001B[0m\u001B[1;33m\u001B[0m\u001B[0m\n\u001B[1;32m---> 85\u001B[1;33m         \u001B[0mexp_avg_sq\u001B[0m\u001B[1;33m.\u001B[0m\u001B[0mmul_\u001B[0m\u001B[1;33m(\u001B[0m\u001B[0mbeta2\u001B[0m\u001B[1;33m)\u001B[0m\u001B[1;33m.\u001B[0m\u001B[0maddcmul_\u001B[0m\u001B[1;33m(\u001B[0m\u001B[0mgrad\u001B[0m\u001B[1;33m,\u001B[0m \u001B[0mgrad\u001B[0m\u001B[1;33m,\u001B[0m \u001B[0mvalue\u001B[0m\u001B[1;33m=\u001B[0m\u001B[1;36m1\u001B[0m \u001B[1;33m-\u001B[0m \u001B[0mbeta2\u001B[0m\u001B[1;33m)\u001B[0m\u001B[1;33m\u001B[0m\u001B[1;33m\u001B[0m\u001B[0m\n\u001B[0m\u001B[0;32m     86\u001B[0m         \u001B[1;32mif\u001B[0m \u001B[0mamsgrad\u001B[0m\u001B[1;33m:\u001B[0m\u001B[1;33m\u001B[0m\u001B[1;33m\u001B[0m\u001B[0m\n\u001B[0;32m     87\u001B[0m             \u001B[1;31m# Maintains the maximum of all 2nd moment running avg. till now\u001B[0m\u001B[1;33m\u001B[0m\u001B[1;33m\u001B[0m\u001B[1;33m\u001B[0m\u001B[0m\n",
      "\u001B[1;31mKeyboardInterrupt\u001B[0m: "
     ]
    }
   ],
   "source": [
    "generator = MLP(1, 1, [2, 2], activation=LeakyReLU())\n",
    "optim_generator = Adam(generator.parameters(), lr=0.001)\n",
    "\n",
    "difficulties = torch.linspace(0, 1, 1000).unsqueeze(-1)\n",
    "\n",
    "for p in evaluator.parameters():\n",
    "    p.requires_grad = False\n",
    "\n",
    "batch_size = 25\n",
    "\n",
    "with TrainUntil(0.0001, 1) as trainer:\n",
    "    while not trainer.done:\n",
    "        indices = torch.randperm(difficulties.shape[0])[:100]\n",
    "        d_in = difficulties[indices]\n",
    "\n",
    "        states = generator(d_in)\n",
    "        d_out = evaluator(states)\n",
    "\n",
    "        loss = F.mse_loss(d_in, d_out)\n",
    "\n",
    "        optim_generator.zero_grad()\n",
    "        loss.backward()\n",
    "        optim_generator.step()\n",
    "\n",
    "        if (trainer.iteration + 1) % 100 == 0:\n",
    "            clear_output(wait=True)\n",
    "            print(trainer.iteration + 1, loss.item())\n",
    "\n",
    "        trainer.loss = loss\n",
    "\n",
    "print(trainer.iteration, loss.item())"
   ],
   "metadata": {
    "collapsed": false,
    "pycharm": {
     "name": "#%%\n"
    }
   }
  },
  {
   "cell_type": "code",
   "execution_count": 21,
   "outputs": [],
   "source": [
    "d_in = torch.linspace(0, 1, 100).unsqueeze(1)\n",
    "\n",
    "with torch.no_grad():\n",
    "    states = generator(d_in)\n",
    "\n",
    "states = states.numpy()\n",
    "\n",
    "axs = plt.subplot()\n",
    "axs.set_xlabel(\"Enemy x\")\n",
    "axs.set_ylabel(\"Difficulty\")\n",
    "\n",
    "axs.plot(x, evaluator(torch.tensor([[x1] for x1 in x], dtype=torch.float32)))\n",
    "axs.plot(states, d_in)\n",
    "\n",
    "axs.legend([\"Evaluator\", \"Generator\"])\n",
    "\n",
    "plt.show()"
   ],
   "metadata": {
    "collapsed": false,
    "pycharm": {
     "name": "#%%\n"
    }
   }
  },
  {
   "cell_type": "markdown",
   "source": [
    "### Takeaway\n",
    "\n",
    "1. The approach works for this setting (and rather reliably)\n",
    "2. The generator only generates positions for the one side\n",
    "\n",
    "    **It does not generate *several different* positions for the *same* difficulty**\n",
    "\n",
    "### Some generated images"
   ],
   "metadata": {
    "collapsed": false,
    "pycharm": {
     "name": "#%% md\n"
    }
   }
  },
  {
   "cell_type": "code",
   "execution_count": 79,
   "outputs": [
    {
     "data": {
      "text/plain": "<PIL.Image.Image image mode=RGB size=240x180 at 0x1F186BEB2E0>",
      "image/png": "[encoded data removed]"
     },
     "metadata": {},
     "output_type": "display_data"
    },
    {
     "data": {
      "text/plain": "0.0"
     },
     "metadata": {},
     "output_type": "display_data"
    },
    {
     "data": {
      "text/plain": "<PIL.Image.Image image mode=RGB size=240x180 at 0x1F186B6D400>",
      "image/png": "[encoded data removed]"
     },
     "metadata": {},
     "output_type": "display_data"
    },
    {
     "data": {
      "text/plain": "0.1111111119389534"
     },
     "metadata": {},
     "output_type": "display_data"
    },
    {
     "data": {
      "text/plain": "<PIL.Image.Image image mode=RGB size=240x180 at 0x1F186BCC130>",
      "image/png": "[encoded data removed]"
     },
     "metadata": {},
     "output_type": "display_data"
    },
    {
     "data": {
      "text/plain": "0.2222222238779068"
     },
     "metadata": {},
     "output_type": "display_data"
    },
    {
     "data": {
      "text/plain": "<PIL.Image.Image image mode=RGB size=240x180 at 0x1F186BF0EB0>",
      "image/png": "[encoded data removed]"
     },
     "metadata": {},
     "output_type": "display_data"
    },
    {
     "data": {
      "text/plain": "0.3333333432674408"
     },
     "metadata": {},
     "output_type": "display_data"
    },
    {
     "data": {
      "text/plain": "<PIL.Image.Image image mode=RGB size=240x180 at 0x1F186BCCF70>",
      "image/png": "[encoded data removed]"
     },
     "metadata": {},
     "output_type": "display_data"
    },
    {
     "data": {
      "text/plain": "0.4444444477558136"
     },
     "metadata": {},
     "output_type": "display_data"
    },
    {
     "data": {
      "text/plain": "<PIL.Image.Image image mode=RGB size=240x180 at 0x1F186BEBFA0>",
      "image/png": "[encoded data removed]"
     },
     "metadata": {},
     "output_type": "display_data"
    },
    {
     "data": {
      "text/plain": "0.5555555820465088"
     },
     "metadata": {},
     "output_type": "display_data"
    },
    {
     "data": {
      "text/plain": "<PIL.Image.Image image mode=RGB size=240x180 at 0x1F186BFEF70>",
      "image/png": "[encoded data removed]"
     },
     "metadata": {},
     "output_type": "display_data"
    },
    {
     "data": {
      "text/plain": "0.6666666269302368"
     },
     "metadata": {},
     "output_type": "display_data"
    },
    {
     "data": {
      "text/plain": "<PIL.Image.Image image mode=RGB size=240x180 at 0x1F186BF0A90>",
      "image/png": "[encoded data removed]"
     },
     "metadata": {},
     "output_type": "display_data"
    },
    {
     "data": {
      "text/plain": "0.7777777910232544"
     },
     "metadata": {},
     "output_type": "display_data"
    },
    {
     "data": {
      "text/plain": "<PIL.Image.Image image mode=RGB size=240x180 at 0x1F186BFFFA0>",
      "image/png": "[encoded data removed]"
     },
     "metadata": {},
     "output_type": "display_data"
    },
    {
     "data": {
      "text/plain": "0.8888888955116272"
     },
     "metadata": {},
     "output_type": "display_data"
    },
    {
     "data": {
      "text/plain": "<PIL.Image.Image image mode=RGB size=240x180 at 0x1F186BFFAC0>",
      "image/png": "[encoded data removed]"
     },
     "metadata": {},
     "output_type": "display_data"
    },
    {
     "data": {
      "text/plain": "1.0"
     },
     "metadata": {},
     "output_type": "display_data"
    }
   ],
   "source": [
    "d_in = torch.linspace(0, 1, 10).unsqueeze(1)\n",
    "\n",
    "with torch.no_grad():\n",
    "    enemy_xs = generator(d_in)\n",
    "\n",
    "images = [render_single_enemy(enemy_x, resolution=0.3) for enemy_x in enemy_xs]\n",
    "\n",
    "for image, d in zip(images, d_in):\n",
    "    display(image)\n",
    "    display(d.item())"
   ],
   "metadata": {
    "collapsed": false,
    "pycharm": {
     "name": "#%%\n"
    }
   }
  },
  {
   "cell_type": "markdown",
   "source": [
    "Finally, let's try another approach,\n",
    "training evaluator and generator simultaneously"
   ],
   "metadata": {
    "collapsed": false,
    "pycharm": {
     "name": "#%% md\n"
    }
   }
  },
  {
   "cell_type": "code",
   "execution_count": 80,
   "outputs": [
    {
     "name": "stdout",
     "output_type": "stream",
     "text": [
      "It.: 80421, (G)0.00008 + (E)0.00000 = 0.00008\n"
     ]
    }
   ],
   "source": [
    "# Generator\n",
    "generator = MLP(1, 1, [2, 2], activation=LeakyReLU())\n",
    "optim_generator = Adam(generator.parameters(), lr=0.001)\n",
    "\n",
    "# Evaluator\n",
    "evaluator = MLP(1, 1, [4, 4], activation=LeakyReLU())\n",
    "optim_evaluator = Adam(evaluator.parameters(), lr=0.01)\n",
    "\n",
    "# Oracle (we already have it)\n",
    "\n",
    "# Dataset (input difficulties) that we will sample from\n",
    "difficulties = torch.linspace(0, 1, 1000).unsqueeze(-1)\n",
    "\n",
    "iteration = 0\n",
    "while True:\n",
    "    indices = torch.randperm(difficulties.shape[0])[:50]\n",
    "    d_in = difficulties[indices]\n",
    "\n",
    "    states = generator(d_in)\n",
    "    d_out = evaluator(states)\n",
    "\n",
    "    loss_generator = F.mse_loss(d_in, d_out)\n",
    "\n",
    "    # Update the generator\n",
    "    optim_generator.zero_grad()\n",
    "    loss_generator.backward()\n",
    "    optim_generator.step()\n",
    "\n",
    "    states = states.detach()\n",
    "\n",
    "    d_out = evaluator(states)\n",
    "    real_d_out = oracle(states)\n",
    "    loss_evaluator = F.mse_loss(d_out, real_d_out)\n",
    "\n",
    "    # Update evaluator\n",
    "    optim_evaluator.zero_grad()\n",
    "    loss_evaluator.backward()\n",
    "    optim_evaluator.step()\n",
    "\n",
    "    loss = loss_generator + loss_evaluator\n",
    "\n",
    "    if (iteration + 1) % 100 == 0:\n",
    "        clear_output(wait=True)\n",
    "        print(f\"It.: {iteration + 1}, \"\n",
    "              f\"(G) {loss_generator.item():.5f} + \"\n",
    "              f\"(E) {loss_evaluator.item():.5f} = \"\n",
    "              f\"{loss.item():.5f}\")\n",
    "\n",
    "    if loss < 0.0001:\n",
    "        break\n",
    "\n",
    "    iteration += 1\n",
    "\n",
    "clear_output(wait=True)\n",
    "print(f\"It.: {iteration + 1}, \"\n",
    "      f\"(G){loss_generator:.5f} + \"\n",
    "      f\"(E){loss_evaluator.item():.5f} = \"\n",
    "      f\"{loss:.5f}\")"
   ],
   "metadata": {
    "collapsed": false,
    "pycharm": {
     "name": "#%%\n"
    }
   }
  },
  {
   "cell_type": "code",
   "execution_count": 81,
   "outputs": [
    {
     "data": {
      "text/plain": "<Figure size 432x288 with 1 Axes>",
      "image/png": "[encoded data removed]"
     },
     "metadata": {
      "needs_background": "dark"
     },
     "output_type": "display_data"
    }
   ],
   "source": [
    "\n",
    "d_in = torch.linspace(0, 1, 100).unsqueeze(1)\n",
    "\n",
    "with torch.no_grad():\n",
    "    states = generator(d_in)\n",
    "\n",
    "axs = plt.subplot()\n",
    "axs.set_xlabel(\"Enemy x\")\n",
    "axs.set_ylabel(\"Difficulty\")\n",
    "\n",
    "axs.plot(states, d_in)\n",
    "\n",
    "axs.legend([\"Generator\"])\n",
    "\n",
    "plt.show()"
   ],
   "metadata": {
    "collapsed": false,
    "pycharm": {
     "name": "#%%\n"
    }
   }
  },
  {
   "cell_type": "markdown",
   "source": [
    "#### Looks like this kinda works"
   ],
   "metadata": {
    "collapsed": false,
    "pycharm": {
     "name": "#%% md\n"
    }
   }
  },
  {
   "cell_type": "code",
   "execution_count": 82,
   "outputs": [
    {
     "data": {
      "text/plain": "<PIL.Image.Image image mode=RGB size=240x180 at 0x1F186C26D90>",
      "image/png": "[encoded data removed]"
     },
     "metadata": {},
     "output_type": "display_data"
    },
    {
     "data": {
      "text/plain": "0.0"
     },
     "metadata": {},
     "output_type": "display_data"
    },
    {
     "data": {
      "text/plain": "<PIL.Image.Image image mode=RGB size=240x180 at 0x1F186C16520>",
      "image/png": "[encoded data removed]"
     },
     "metadata": {},
     "output_type": "display_data"
    },
    {
     "data": {
      "text/plain": "0.1111111119389534"
     },
     "metadata": {},
     "output_type": "display_data"
    },
    {
     "data": {
      "text/plain": "<PIL.Image.Image image mode=RGB size=240x180 at 0x1F186BFE7C0>",
      "image/png": "[encoded data removed]"
     },
     "metadata": {},
     "output_type": "display_data"
    },
    {
     "data": {
      "text/plain": "0.2222222238779068"
     },
     "metadata": {},
     "output_type": "display_data"
    },
    {
     "data": {
      "text/plain": "<PIL.Image.Image image mode=RGB size=240x180 at 0x1F186AAC850>",
      "image/png": "[encoded data removed]"
     },
     "metadata": {},
     "output_type": "display_data"
    },
    {
     "data": {
      "text/plain": "0.3333333432674408"
     },
     "metadata": {},
     "output_type": "display_data"
    },
    {
     "data": {
      "text/plain": "<PIL.Image.Image image mode=RGB size=240x180 at 0x1F186AAC130>",
      "image/png": "[encoded data removed]"
     },
     "metadata": {},
     "output_type": "display_data"
    },
    {
     "data": {
      "text/plain": "0.4444444477558136"
     },
     "metadata": {},
     "output_type": "display_data"
    },
    {
     "data": {
      "text/plain": "<PIL.Image.Image image mode=RGB size=240x180 at 0x1F186AB5B50>",
      "image/png": "[encoded data removed]"
     },
     "metadata": {},
     "output_type": "display_data"
    },
    {
     "data": {
      "text/plain": "0.5555555820465088"
     },
     "metadata": {},
     "output_type": "display_data"
    },
    {
     "data": {
      "text/plain": "<PIL.Image.Image image mode=RGB size=240x180 at 0x1F186A9B8B0>",
      "image/png": "[encoded data removed]"
     },
     "metadata": {},
     "output_type": "display_data"
    },
    {
     "data": {
      "text/plain": "0.6666666269302368"
     },
     "metadata": {},
     "output_type": "display_data"
    },
    {
     "data": {
      "text/plain": "<PIL.Image.Image image mode=RGB size=240x180 at 0x1F186A9B820>",
      "image/png": "[encoded data removed]"
     },
     "metadata": {},
     "output_type": "display_data"
    },
    {
     "data": {
      "text/plain": "0.7777777910232544"
     },
     "metadata": {},
     "output_type": "display_data"
    },
    {
     "data": {
      "text/plain": "<PIL.Image.Image image mode=RGB size=240x180 at 0x1F186BFE2E0>",
      "image/png": "[encoded data removed]"
     },
     "metadata": {},
     "output_type": "display_data"
    },
    {
     "data": {
      "text/plain": "0.8888888955116272"
     },
     "metadata": {},
     "output_type": "display_data"
    },
    {
     "data": {
      "text/plain": "<PIL.Image.Image image mode=RGB size=240x180 at 0x1F186A8E910>",
      "image/png": "[encoded data removed]"
     },
     "metadata": {},
     "output_type": "display_data"
    },
    {
     "data": {
      "text/plain": "1.0"
     },
     "metadata": {},
     "output_type": "display_data"
    }
   ],
   "source": [
    "d_in = torch.linspace(0, 1, 10).unsqueeze(1)\n",
    "\n",
    "with torch.no_grad():\n",
    "    enemy_xs = generator(d_in)\n",
    "\n",
    "images = [render_single_enemy(enemy_x, resolution=0.3) for enemy_x in enemy_xs]\n",
    "\n",
    "for image, d in zip(images, d_in):\n",
    "    display(image)\n",
    "    display(d.item())"
   ],
   "metadata": {
    "collapsed": false,
    "pycharm": {
     "name": "#%%\n"
    }
   }
  }
 ],
 "metadata": {
  "kernelspec": {
   "display_name": "Python 3",
   "language": "python",
   "name": "python3"
  },
  "language_info": {
   "codemirror_mode": {
    "name": "ipython",
    "version": 2
   },
   "file_extension": ".py",
   "mimetype": "text/x-python",
   "name": "python",
   "nbconvert_exporter": "python",
   "pygments_lexer": "ipython2",
   "version": "2.7.6"
  }
 },
 "nbformat": 4,
 "nbformat_minor": 0
}